{
 "cells": [
  {
   "cell_type": "markdown",
   "metadata": {},
   "source": [
    "# Read in the data"
   ]
  },
  {
   "cell_type": "code",
   "execution_count": 1,
   "metadata": {},
   "outputs": [],
   "source": [
    "import pandas\n",
    "import numpy\n",
    "import re\n",
    "\n",
    "data_files = [\n",
    "    \"ap_2010.csv\",\n",
    "    \"class_size.csv\",\n",
    "    \"demographics.csv\",\n",
    "    \"graduation.csv\",\n",
    "    \"hs_directory.csv\",\n",
    "    \"sat_results.csv\"\n",
    "]\n",
    "\n",
    "data = {}\n",
    "\n",
    "for f in data_files:\n",
    "    d = pandas.read_csv(\"schools/{0}\".format(f))\n",
    "    data[f.replace(\".csv\", \"\")] = d"
   ]
  },
  {
   "cell_type": "markdown",
   "metadata": {},
   "source": [
    "# Read in the surveys"
   ]
  },
  {
   "cell_type": "code",
   "execution_count": 2,
   "metadata": {},
   "outputs": [],
   "source": [
    "all_survey = pandas.read_csv(\"schools/survey_all.txt\", delimiter=\"\\t\", encoding='windows-1252')\n",
    "d75_survey = pandas.read_csv(\"schools/survey_d75.txt\", delimiter=\"\\t\", encoding='windows-1252')\n",
    "survey = pandas.concat([all_survey, d75_survey], axis=0)\n",
    "\n",
    "survey[\"DBN\"] = survey[\"dbn\"]\n",
    "\n",
    "survey_fields = [\n",
    "    \"DBN\", \n",
    "    \"rr_s\", \n",
    "    \"rr_t\", \n",
    "    \"rr_p\", \n",
    "    \"N_s\", \n",
    "    \"N_t\", \n",
    "    \"N_p\", \n",
    "    \"saf_p_11\", \n",
    "    \"com_p_11\", \n",
    "    \"eng_p_11\", \n",
    "    \"aca_p_11\", \n",
    "    \"saf_t_11\", \n",
    "    \"com_t_11\", \n",
    "    \"eng_t_11\", \n",
    "    \"aca_t_11\", \n",
    "    \"saf_s_11\", \n",
    "    \"com_s_11\", \n",
    "    \"eng_s_11\", \n",
    "    \"aca_s_11\", \n",
    "    \"saf_tot_11\", \n",
    "    \"com_tot_11\", \n",
    "    \"eng_tot_11\", \n",
    "    \"aca_tot_11\",\n",
    "]\n",
    "survey = survey.loc[:, survey_fields]\n",
    "\n",
    "data[\"survey\"] = survey"
   ]
  },
  {
   "cell_type": "markdown",
   "metadata": {},
   "source": [
    "# Add DBN columns"
   ]
  },
  {
   "cell_type": "code",
   "execution_count": 3,
   "metadata": {},
   "outputs": [],
   "source": [
    "data[\"hs_directory\"][\"DBN\"] = data[\"hs_directory\"][\"dbn\"]\n",
    "\n",
    "def pad_csd(num):\n",
    "    string_representation = str(num)\n",
    "    if len(string_representation) > 1:\n",
    "        return string_representation\n",
    "    else:\n",
    "        return \"0\" + string_representation\n",
    "    \n",
    "data[\"class_size\"][\"padded_csd\"] = data[\"class_size\"][\"CSD\"].apply(pad_csd)\n",
    "data[\"class_size\"][\"DBN\"] = data[\"class_size\"][\"padded_csd\"] + data[\"class_size\"][\"SCHOOL CODE\"]"
   ]
  },
  {
   "cell_type": "markdown",
   "metadata": {},
   "source": [
    "# Convert columns to numeric"
   ]
  },
  {
   "cell_type": "code",
   "execution_count": 4,
   "metadata": {},
   "outputs": [],
   "source": [
    "cols = ['SAT Math Avg. Score', 'SAT Critical Reading Avg. Score', 'SAT Writing Avg. Score']\n",
    "for c in cols:\n",
    "    data[\"sat_results\"][c] = pandas.to_numeric(data[\"sat_results\"][c], errors=\"coerce\")\n",
    "\n",
    "data['sat_results']['sat_score'] = data['sat_results'][cols[0]] + data['sat_results'][cols[1]] + data['sat_results'][cols[2]]\n",
    "\n",
    "def find_lat(loc):\n",
    "    coords = re.findall(\"\\(.+, .+\\)\", loc)\n",
    "    lat = coords[0].split(\",\")[0].replace(\"(\", \"\")\n",
    "    return lat\n",
    "\n",
    "def find_lon(loc):\n",
    "    coords = re.findall(\"\\(.+, .+\\)\", loc)\n",
    "    lon = coords[0].split(\",\")[1].replace(\")\", \"\").strip()\n",
    "    return lon\n",
    "\n",
    "data[\"hs_directory\"][\"lat\"] = data[\"hs_directory\"][\"Location 1\"].apply(find_lat)\n",
    "data[\"hs_directory\"][\"lon\"] = data[\"hs_directory\"][\"Location 1\"].apply(find_lon)\n",
    "\n",
    "data[\"hs_directory\"][\"lat\"] = pandas.to_numeric(data[\"hs_directory\"][\"lat\"], errors=\"coerce\")\n",
    "data[\"hs_directory\"][\"lon\"] = pandas.to_numeric(data[\"hs_directory\"][\"lon\"], errors=\"coerce\")"
   ]
  },
  {
   "cell_type": "markdown",
   "metadata": {},
   "source": [
    "# Condense datasets"
   ]
  },
  {
   "cell_type": "code",
   "execution_count": 5,
   "metadata": {},
   "outputs": [],
   "source": [
    "class_size = data[\"class_size\"]\n",
    "class_size = class_size[class_size[\"GRADE \"] == \"09-12\"]\n",
    "class_size = class_size[class_size[\"PROGRAM TYPE\"] == \"GEN ED\"]\n",
    "\n",
    "class_size = class_size.groupby(\"DBN\").agg(numpy.mean)\n",
    "class_size.reset_index(inplace=True)\n",
    "data[\"class_size\"] = class_size\n",
    "\n",
    "data[\"demographics\"] = data[\"demographics\"][data[\"demographics\"][\"schoolyear\"] == 20112012]\n",
    "\n",
    "data[\"graduation\"] = data[\"graduation\"][data[\"graduation\"][\"Cohort\"] == \"2006\"]\n",
    "data[\"graduation\"] = data[\"graduation\"][data[\"graduation\"][\"Demographic\"] == \"Total Cohort\"]"
   ]
  },
  {
   "cell_type": "markdown",
   "metadata": {},
   "source": [
    "# Convert AP scores to numeric"
   ]
  },
  {
   "cell_type": "code",
   "execution_count": 6,
   "metadata": {},
   "outputs": [],
   "source": [
    "cols = ['AP Test Takers ', 'Total Exams Taken', 'Number of Exams with scores 3 4 or 5']\n",
    "\n",
    "for col in cols:\n",
    "    data[\"ap_2010\"][col] = pandas.to_numeric(data[\"ap_2010\"][col], errors=\"coerce\")"
   ]
  },
  {
   "cell_type": "markdown",
   "metadata": {},
   "source": [
    "# Combine the datasets"
   ]
  },
  {
   "cell_type": "code",
   "execution_count": 7,
   "metadata": {},
   "outputs": [],
   "source": [
    "combined = data[\"sat_results\"]\n",
    "\n",
    "combined = combined.merge(data[\"ap_2010\"], on=\"DBN\", how=\"left\")\n",
    "combined = combined.merge(data[\"graduation\"], on=\"DBN\", how=\"left\")\n",
    "\n",
    "to_merge = [\"class_size\", \"demographics\", \"survey\", \"hs_directory\"]\n",
    "\n",
    "for m in to_merge:\n",
    "    combined = combined.merge(data[m], on=\"DBN\", how=\"inner\")\n",
    "\n",
    "combined = combined.fillna(combined.mean())\n",
    "combined = combined.fillna(0)"
   ]
  },
  {
   "cell_type": "markdown",
   "metadata": {},
   "source": [
    "# Add a school district column for mapping"
   ]
  },
  {
   "cell_type": "code",
   "execution_count": 8,
   "metadata": {},
   "outputs": [],
   "source": [
    "def get_first_two_chars(dbn):\n",
    "    return dbn[0:2]\n",
    "\n",
    "combined[\"school_dist\"] = combined[\"DBN\"].apply(get_first_two_chars)"
   ]
  },
  {
   "cell_type": "markdown",
   "metadata": {},
   "source": [
    "# Find correlations"
   ]
  },
  {
   "cell_type": "code",
   "execution_count": 9,
   "metadata": {},
   "outputs": [
    {
     "name": "stdout",
     "output_type": "stream",
     "text": [
      "SAT Critical Reading Avg. Score         0.986820\n",
      "SAT Math Avg. Score                     0.972643\n",
      "SAT Writing Avg. Score                  0.987771\n",
      "sat_score                               1.000000\n",
      "AP Test Takers                          0.523140\n",
      "Total Exams Taken                       0.514333\n",
      "Number of Exams with scores 3 4 or 5    0.463245\n",
      "Total Cohort                            0.325144\n",
      "CSD                                     0.042948\n",
      "NUMBER OF STUDENTS / SEATS FILLED       0.394626\n",
      "NUMBER OF SECTIONS                      0.362673\n",
      "AVERAGE CLASS SIZE                      0.381014\n",
      "SIZE OF SMALLEST CLASS                  0.249949\n",
      "SIZE OF LARGEST CLASS                   0.314434\n",
      "SCHOOLWIDE PUPIL-TEACHER RATIO               NaN\n",
      "schoolyear                                   NaN\n",
      "fl_percent                                   NaN\n",
      "frl_percent                            -0.722225\n",
      "total_enrollment                        0.367857\n",
      "ell_num                                -0.153778\n",
      "ell_percent                            -0.398750\n",
      "sped_num                                0.034933\n",
      "sped_percent                           -0.448170\n",
      "asian_num                               0.475445\n",
      "asian_per                               0.570730\n",
      "black_num                               0.027979\n",
      "black_per                              -0.284139\n",
      "hispanic_num                            0.025744\n",
      "hispanic_per                           -0.396985\n",
      "white_num                               0.449559\n",
      "                                          ...   \n",
      "rr_p                                    0.047925\n",
      "N_s                                     0.423463\n",
      "N_t                                     0.291463\n",
      "N_p                                     0.421530\n",
      "saf_p_11                                0.122913\n",
      "com_p_11                               -0.115073\n",
      "eng_p_11                                0.020254\n",
      "aca_p_11                                0.035155\n",
      "saf_t_11                                0.313810\n",
      "com_t_11                                0.082419\n",
      "eng_t_11                                0.036906\n",
      "aca_t_11                                0.132348\n",
      "saf_s_11                                0.337639\n",
      "com_s_11                                0.187370\n",
      "eng_s_11                                0.213822\n",
      "aca_s_11                                0.339435\n",
      "saf_tot_11                              0.318753\n",
      "com_tot_11                              0.077310\n",
      "eng_tot_11                              0.100102\n",
      "aca_tot_11                              0.190966\n",
      "grade_span_max                               NaN\n",
      "expgrade_span_max                            NaN\n",
      "zip                                    -0.063977\n",
      "total_students                          0.407827\n",
      "number_programs                         0.117012\n",
      "priority08                                   NaN\n",
      "priority09                                   NaN\n",
      "priority10                                   NaN\n",
      "lat                                    -0.121029\n",
      "lon                                    -0.132222\n",
      "Name: sat_score, Length: 67, dtype: float64\n"
     ]
    }
   ],
   "source": [
    "correlations = combined.corr()\n",
    "correlations = correlations[\"sat_score\"]\n",
    "print(correlations)"
   ]
  },
  {
   "cell_type": "markdown",
   "metadata": {},
   "source": [
    "# Intro\n",
    "\n",
    "* Set up matplotlib to work in Jupyter notebook.\n",
    "* There are several fields in combined that originally came from a survey of parents, teachers, and students. Make a bar plot of the correlations between these fields and sat_score.\n",
    " * You can find a list of the fields in the survey_fields variable in the notebook.\n",
    "* Consult the data dictionary that's part of the zip file you can download from the City of New York's website.\n",
    " * Did you find any surprising correlations?\n",
    "* Write up your results in a Markdown cell."
   ]
  },
  {
   "cell_type": "code",
   "execution_count": 10,
   "metadata": {},
   "outputs": [],
   "source": [
    "%matplotlib inline\n",
    "import matplotlib.pyplot as plt"
   ]
  },
  {
   "cell_type": "code",
   "execution_count": 11,
   "metadata": {},
   "outputs": [
    {
     "data": {
      "text/plain": [
       "['DBN',\n",
       " 'rr_s',\n",
       " 'rr_t',\n",
       " 'rr_p',\n",
       " 'N_s',\n",
       " 'N_t',\n",
       " 'N_p',\n",
       " 'saf_p_11',\n",
       " 'com_p_11',\n",
       " 'eng_p_11',\n",
       " 'aca_p_11',\n",
       " 'saf_t_11',\n",
       " 'com_t_11',\n",
       " 'eng_t_11',\n",
       " 'aca_t_11',\n",
       " 'saf_s_11',\n",
       " 'com_s_11',\n",
       " 'eng_s_11',\n",
       " 'aca_s_11',\n",
       " 'saf_tot_11',\n",
       " 'com_tot_11',\n",
       " 'eng_tot_11',\n",
       " 'aca_tot_11']"
      ]
     },
     "execution_count": 11,
     "metadata": {},
     "output_type": "execute_result"
    }
   ],
   "source": [
    "survey_fields"
   ]
  },
  {
   "cell_type": "code",
   "execution_count": 12,
   "metadata": {},
   "outputs": [
    {
     "data": {
      "text/html": [
       "<div>\n",
       "<style scoped>\n",
       "    .dataframe tbody tr th:only-of-type {\n",
       "        vertical-align: middle;\n",
       "    }\n",
       "\n",
       "    .dataframe tbody tr th {\n",
       "        vertical-align: top;\n",
       "    }\n",
       "\n",
       "    .dataframe thead th {\n",
       "        text-align: right;\n",
       "    }\n",
       "</style>\n",
       "<table border=\"1\" class=\"dataframe\">\n",
       "  <thead>\n",
       "    <tr style=\"text-align: right;\">\n",
       "      <th></th>\n",
       "      <th>DBN</th>\n",
       "      <th>rr_s</th>\n",
       "      <th>rr_t</th>\n",
       "      <th>rr_p</th>\n",
       "      <th>N_s</th>\n",
       "      <th>N_t</th>\n",
       "      <th>N_p</th>\n",
       "      <th>saf_p_11</th>\n",
       "      <th>com_p_11</th>\n",
       "      <th>eng_p_11</th>\n",
       "      <th>...</th>\n",
       "      <th>eng_t_11</th>\n",
       "      <th>aca_t_11</th>\n",
       "      <th>saf_s_11</th>\n",
       "      <th>com_s_11</th>\n",
       "      <th>eng_s_11</th>\n",
       "      <th>aca_s_11</th>\n",
       "      <th>saf_tot_11</th>\n",
       "      <th>com_tot_11</th>\n",
       "      <th>eng_tot_11</th>\n",
       "      <th>aca_tot_11</th>\n",
       "    </tr>\n",
       "  </thead>\n",
       "  <tbody>\n",
       "    <tr>\n",
       "      <th>0</th>\n",
       "      <td>01M292</td>\n",
       "      <td>89.0</td>\n",
       "      <td>70</td>\n",
       "      <td>39</td>\n",
       "      <td>379.000000</td>\n",
       "      <td>26.0</td>\n",
       "      <td>151.0</td>\n",
       "      <td>7.8</td>\n",
       "      <td>7.7</td>\n",
       "      <td>7.4</td>\n",
       "      <td>...</td>\n",
       "      <td>6.1</td>\n",
       "      <td>6.5</td>\n",
       "      <td>6.000000</td>\n",
       "      <td>5.600000</td>\n",
       "      <td>6.100000</td>\n",
       "      <td>6.700000</td>\n",
       "      <td>6.7</td>\n",
       "      <td>6.2</td>\n",
       "      <td>6.6</td>\n",
       "      <td>7.0</td>\n",
       "    </tr>\n",
       "    <tr>\n",
       "      <th>1</th>\n",
       "      <td>01M448</td>\n",
       "      <td>84.0</td>\n",
       "      <td>95</td>\n",
       "      <td>10</td>\n",
       "      <td>385.000000</td>\n",
       "      <td>37.0</td>\n",
       "      <td>46.0</td>\n",
       "      <td>7.9</td>\n",
       "      <td>7.4</td>\n",
       "      <td>7.2</td>\n",
       "      <td>...</td>\n",
       "      <td>6.6</td>\n",
       "      <td>7.3</td>\n",
       "      <td>6.000000</td>\n",
       "      <td>5.700000</td>\n",
       "      <td>6.300000</td>\n",
       "      <td>7.000000</td>\n",
       "      <td>6.8</td>\n",
       "      <td>6.3</td>\n",
       "      <td>6.7</td>\n",
       "      <td>7.2</td>\n",
       "    </tr>\n",
       "    <tr>\n",
       "      <th>2</th>\n",
       "      <td>01M450</td>\n",
       "      <td>0.0</td>\n",
       "      <td>98</td>\n",
       "      <td>28</td>\n",
       "      <td>598.208333</td>\n",
       "      <td>42.0</td>\n",
       "      <td>150.0</td>\n",
       "      <td>8.7</td>\n",
       "      <td>8.2</td>\n",
       "      <td>8.1</td>\n",
       "      <td>...</td>\n",
       "      <td>8.0</td>\n",
       "      <td>8.8</td>\n",
       "      <td>6.611667</td>\n",
       "      <td>6.094722</td>\n",
       "      <td>6.620278</td>\n",
       "      <td>7.381389</td>\n",
       "      <td>7.9</td>\n",
       "      <td>7.9</td>\n",
       "      <td>7.9</td>\n",
       "      <td>8.4</td>\n",
       "    </tr>\n",
       "    <tr>\n",
       "      <th>3</th>\n",
       "      <td>01M509</td>\n",
       "      <td>90.0</td>\n",
       "      <td>100</td>\n",
       "      <td>21</td>\n",
       "      <td>306.000000</td>\n",
       "      <td>29.0</td>\n",
       "      <td>69.0</td>\n",
       "      <td>7.7</td>\n",
       "      <td>7.4</td>\n",
       "      <td>7.2</td>\n",
       "      <td>...</td>\n",
       "      <td>6.1</td>\n",
       "      <td>6.8</td>\n",
       "      <td>6.400000</td>\n",
       "      <td>5.900000</td>\n",
       "      <td>6.400000</td>\n",
       "      <td>7.000000</td>\n",
       "      <td>6.9</td>\n",
       "      <td>6.2</td>\n",
       "      <td>6.6</td>\n",
       "      <td>7.0</td>\n",
       "    </tr>\n",
       "    <tr>\n",
       "      <th>4</th>\n",
       "      <td>01M539</td>\n",
       "      <td>98.0</td>\n",
       "      <td>68</td>\n",
       "      <td>51</td>\n",
       "      <td>923.000000</td>\n",
       "      <td>67.0</td>\n",
       "      <td>736.0</td>\n",
       "      <td>8.5</td>\n",
       "      <td>7.9</td>\n",
       "      <td>7.9</td>\n",
       "      <td>...</td>\n",
       "      <td>5.9</td>\n",
       "      <td>7.3</td>\n",
       "      <td>7.300000</td>\n",
       "      <td>6.400000</td>\n",
       "      <td>7.000000</td>\n",
       "      <td>7.700000</td>\n",
       "      <td>7.8</td>\n",
       "      <td>6.7</td>\n",
       "      <td>6.9</td>\n",
       "      <td>7.8</td>\n",
       "    </tr>\n",
       "  </tbody>\n",
       "</table>\n",
       "<p>5 rows × 23 columns</p>\n",
       "</div>"
      ],
      "text/plain": [
       "      DBN  rr_s  rr_t  rr_p         N_s   N_t    N_p  saf_p_11  com_p_11  \\\n",
       "0  01M292  89.0    70    39  379.000000  26.0  151.0       7.8       7.7   \n",
       "1  01M448  84.0    95    10  385.000000  37.0   46.0       7.9       7.4   \n",
       "2  01M450   0.0    98    28  598.208333  42.0  150.0       8.7       8.2   \n",
       "3  01M509  90.0   100    21  306.000000  29.0   69.0       7.7       7.4   \n",
       "4  01M539  98.0    68    51  923.000000  67.0  736.0       8.5       7.9   \n",
       "\n",
       "   eng_p_11     ...      eng_t_11  aca_t_11  saf_s_11  com_s_11  eng_s_11  \\\n",
       "0       7.4     ...           6.1       6.5  6.000000  5.600000  6.100000   \n",
       "1       7.2     ...           6.6       7.3  6.000000  5.700000  6.300000   \n",
       "2       8.1     ...           8.0       8.8  6.611667  6.094722  6.620278   \n",
       "3       7.2     ...           6.1       6.8  6.400000  5.900000  6.400000   \n",
       "4       7.9     ...           5.9       7.3  7.300000  6.400000  7.000000   \n",
       "\n",
       "   aca_s_11  saf_tot_11  com_tot_11  eng_tot_11  aca_tot_11  \n",
       "0  6.700000         6.7         6.2         6.6         7.0  \n",
       "1  7.000000         6.8         6.3         6.7         7.2  \n",
       "2  7.381389         7.9         7.9         7.9         8.4  \n",
       "3  7.000000         6.9         6.2         6.6         7.0  \n",
       "4  7.700000         7.8         6.7         6.9         7.8  \n",
       "\n",
       "[5 rows x 23 columns]"
      ]
     },
     "execution_count": 12,
     "metadata": {},
     "output_type": "execute_result"
    }
   ],
   "source": [
    "combined[survey_fields].head()"
   ]
  },
  {
   "cell_type": "code",
   "execution_count": 13,
   "metadata": {},
   "outputs": [],
   "source": [
    "survey_correlations = combined[survey_fields + [\"sat_score\"]].corr()"
   ]
  },
  {
   "cell_type": "code",
   "execution_count": 14,
   "metadata": {},
   "outputs": [
    {
     "data": {
      "text/plain": [
       "com_p_11     -0.115073\n",
       "rr_t         -0.023386\n",
       "eng_p_11      0.020254\n",
       "aca_p_11      0.035155\n",
       "eng_t_11      0.036906\n",
       "rr_p          0.047925\n",
       "com_tot_11    0.077310\n",
       "com_t_11      0.082419\n",
       "eng_tot_11    0.100102\n",
       "saf_p_11      0.122913\n",
       "aca_t_11      0.132348\n",
       "com_s_11      0.187370\n",
       "aca_tot_11    0.190966\n",
       "eng_s_11      0.213822\n",
       "rr_s          0.232199\n",
       "N_t           0.291463\n",
       "saf_t_11      0.313810\n",
       "saf_tot_11    0.318753\n",
       "saf_s_11      0.337639\n",
       "aca_s_11      0.339435\n",
       "N_p           0.421530\n",
       "N_s           0.423463\n",
       "sat_score     1.000000\n",
       "Name: sat_score, dtype: float64"
      ]
     },
     "execution_count": 14,
     "metadata": {},
     "output_type": "execute_result"
    }
   ],
   "source": [
    "survey_correlations[\"sat_score\"].sort_values()"
   ]
  },
  {
   "cell_type": "code",
   "execution_count": 15,
   "metadata": {},
   "outputs": [
    {
     "data": {
      "image/png": "[encoded data removed]",
      "text/plain": [
       "<matplotlib.figure.Figure at 0x8e356a0>"
      ]
     },
     "metadata": {},
     "output_type": "display_data"
    }
   ],
   "source": [
    "survey_correlations[\"sat_score\"].sort_values().plot.bar(figsize=(10,5), color=\"darkblue\")\n",
    "plt.show()"
   ]
  },
  {
   "cell_type": "markdown",
   "metadata": {},
   "source": [
    "# Survey Correlation Notes\n",
    "\n",
    "* The number of student `N_s` and parent `N_p` respondents showed the strongest positive correlation with SAT scores. This reinforces the findings seen in earlier exercises with this dataset, where larger schools indicated better SAT scores. \n",
    " * An additional factor could be that survey participation from students and parents reflects a general level of engagement in academics, which would intuitively correspond to higher test scores. \n",
    " * This can be tested by calculating the survey participation rate per school amongst students, `combined[\"N_s\"] / combined[\"total_enrollment\"]`"
   ]
  },
  {
   "cell_type": "code",
   "execution_count": 16,
   "metadata": {},
   "outputs": [],
   "source": [
    "combined[\"survey_student_particpation_rate\"] = \\\n",
    "    combined[\"N_s\"] / combined[\"total_enrollment\"]"
   ]
  },
  {
   "cell_type": "code",
   "execution_count": 17,
   "metadata": {},
   "outputs": [],
   "source": [
    "combined[\"survey_student_particpation_rate\"] = \\\n",
    "    combined[\"survey_student_particpation_rate\"].apply(\n",
    "        lambda x: x if x < 1.0 else 1.0)"
   ]
  },
  {
   "cell_type": "code",
   "execution_count": 18,
   "metadata": {},
   "outputs": [
    {
     "data": {
      "text/plain": [
       "1.0"
      ]
     },
     "execution_count": 18,
     "metadata": {},
     "output_type": "execute_result"
    }
   ],
   "source": [
    "combined[\"survey_student_particpation_rate\"].max()"
   ]
  },
  {
   "cell_type": "code",
   "execution_count": 19,
   "metadata": {},
   "outputs": [
    {
     "data": {
      "image/png": "[encoded data removed]",
      "text/plain": [
       "<matplotlib.figure.Figure at 0x8e1a080>"
      ]
     },
     "metadata": {},
     "output_type": "display_data"
    }
   ],
   "source": [
    "# survey student participation rate distribution\n",
    "\n",
    "combined[\"survey_student_particpation_rate\"].plot.hist(figsize=(10,5), color=\"darkblue\")\n",
    "plt.show()"
   ]
  },
  {
   "cell_type": "code",
   "execution_count": 20,
   "metadata": {},
   "outputs": [],
   "source": [
    "survey_participation_correlation = \\\n",
    "    combined[[\"survey_student_particpation_rate\", \"sat_score\"]].corr()"
   ]
  },
  {
   "cell_type": "code",
   "execution_count": 21,
   "metadata": {},
   "outputs": [
    {
     "data": {
      "text/plain": [
       "survey_student_particpation_rate    0.237585\n",
       "sat_score                           1.000000\n",
       "Name: sat_score, dtype: float64"
      ]
     },
     "execution_count": 21,
     "metadata": {},
     "output_type": "execute_result"
    }
   ],
   "source": [
    "survey_participation_correlation[\"sat_score\"]"
   ]
  },
  {
   "cell_type": "markdown",
   "metadata": {},
   "source": [
    "# Survey Correlation Notes 2\n",
    "\n",
    "* The survey participation rate amongst students is weakly correlated with SAT scores, but with an r value of 0.23, it's more corrlated \n",
    "than other factors like `aca_tot_11`, the Academic Expectations total score.\n",
    " * Also, after calculating this, I realized that `rr_s` holds the same information and is also correlated with SAT scores with a 0.23 r value.\n",
    "* Another interesting trend is that the parent scores tend to have lower, even negative correlations, with SAT scores. \n",
    " * For example, the `com_p_11` column, which is the Communication score based on parent responses, shows a weak negative correlation of -0.12. \n",
    " * Perhaps parents are more critical of schools, in general, than teachers or students? And this tendency could become stronger with parents that are more actively engaged with academics, which would tend to be representated in schools with higher SAT score achievement. \n",
    " * It would be interesting to find data about the number of students enrolled in outside SAT prep courses per school to help explain or counter this theory. "
   ]
  },
  {
   "cell_type": "markdown",
   "metadata": {},
   "source": [
    "# Investigate Safety Scores\n",
    "\n",
    "* Investigate safety scores.\n",
    " * Make a scatter plot of the `saf_s_11` column vs. the `sat_score` in `combined`.\n",
    " * Write up your conclusions about safety and SAT scores in a Markdown cell.\n"
   ]
  },
  {
   "cell_type": "code",
   "execution_count": 22,
   "metadata": {},
   "outputs": [
    {
     "data": {
      "image/png": "[encoded data removed]",
      "text/plain": [
       "<matplotlib.figure.Figure at 0x8e0e9e8>"
      ]
     },
     "metadata": {},
     "output_type": "display_data"
    }
   ],
   "source": [
    "combined.plot.scatter(x=\"saf_s_11\", y=\"sat_score\", figsize=(8, 8), color=\"darkblue\")\n",
    "plt.show()"
   ]
  },
  {
   "cell_type": "markdown",
   "metadata": {},
   "source": [
    "# Safety Scores Notes\n",
    "\n",
    "* There is a large cluster of schools that have safety scores from students below 7 and SAT scores below 1400.\n",
    " * Perhaps when safety is a risk, students may be preoccupied by that risk and less focused on learning?\n",
    " * Perhaps this reflects geography / neighborhoods? Safer neighborhoods tend to be more affluent, and I bet affluence correlates with higher test scores as well."
   ]
  },
  {
   "cell_type": "markdown",
   "metadata": {},
   "source": [
    "# Map out safety scores\n",
    " * Compute the average safety score for each district.\n",
    " * Make a map that shows safety scores by district.\n",
    " * Write up your conclusions about safety by geographic area in a Markdown cell. You may want to read up on the boroughs of New York City."
   ]
  },
  {
   "cell_type": "code",
   "execution_count": 23,
   "metadata": {},
   "outputs": [],
   "source": [
    "import numpy as np\n",
    "\n",
    "districts = combined.groupby(\"school_dist\").agg(np.mean)"
   ]
  },
  {
   "cell_type": "code",
   "execution_count": 24,
   "metadata": {},
   "outputs": [
    {
     "name": "stderr",
     "output_type": "stream",
     "text": [
      "C:\\ProgramData\\Miniconda3\\envs\\dataquest\\lib\\site-packages\\mpl_toolkits\\basemap\\__init__.py:1708: MatplotlibDeprecationWarning: The axesPatch function was deprecated in version 2.1. Use Axes.patch instead.\n",
      "  limb = ax.axesPatch\n",
      "C:\\ProgramData\\Miniconda3\\envs\\dataquest\\lib\\site-packages\\mpl_toolkits\\basemap\\__init__.py:1711: MatplotlibDeprecationWarning: The axesPatch function was deprecated in version 2.1. Use Axes.patch instead.\n",
      "  if limb is not ax.axesPatch:\n"
     ]
    },
    {
     "data": {
      "image/png": "[encoded data removed]",
      "text/plain": [
       "<matplotlib.figure.Figure at 0x8e18860>"
      ]
     },
     "metadata": {},
     "output_type": "display_data"
    }
   ],
   "source": [
    "from mpl_toolkits.basemap import Basemap\n",
    "\n",
    "fig = plt.figure(figsize=(10,10))\n",
    "\n",
    "m = Basemap(\n",
    "    projection='merc', \n",
    "    llcrnrlat=40.496044, \n",
    "    urcrnrlat=40.915256, \n",
    "    llcrnrlon=-74.255735, \n",
    "    urcrnrlon=-73.700272,\n",
    "    resolution='i'\n",
    ")\n",
    "\n",
    "m.drawmapboundary(fill_color='#85A6D9')\n",
    "m.drawcoastlines(color='#6D5F47', linewidth=.4)\n",
    "m.drawrivers(color='#6D5F47', linewidth=.4)\n",
    "\n",
    "longitudes = districts[\"lon\"].tolist()\n",
    "latitudes = districts[\"lat\"].tolist()\n",
    "\n",
    "m.scatter(x=longitudes, y=latitudes, s=50, zorder=2, latlon=True, \n",
    "          c=districts[\"saf_s_11\"], cmap=\"Reds\")\n",
    "\n",
    "plt.show()"
   ]
  },
  {
   "cell_type": "markdown",
   "metadata": {},
   "source": [
    "# Safety Score Notes 2\n",
    "\n",
    "* Based on the map, we can see that districts that contain less affluent / higher crime neightborhoods, such as East New York, have lower student safety scores.\n",
    "* Conversely, districts in Manhattan and Queens that contain relatively more affluent / lower crime neighborhoods have higher student safety scores."
   ]
  },
  {
   "cell_type": "markdown",
   "metadata": {},
   "source": [
    "# Racial Differences\n",
    "\n",
    "There are a few columns that indicate the percentage of each race at a given school:\n",
    "\n",
    "* white_per\n",
    "* asian_per\n",
    "* black_per\n",
    "* hispanic_per\n",
    "\n",
    "By plotting out the correlations between these columns and sat_score, we can determine whether there are any racial differences in SAT performance.\n"
   ]
  },
  {
   "cell_type": "markdown",
   "metadata": {},
   "source": [
    "# Investigate racial differences in SAT scores.\n",
    "\n",
    "* Make a bar plot of the correlations between the columns above and sat_score.\n",
    "* Write up a Markdown cell containing your findings. Are there any unexpected correlations?\n"
   ]
  },
  {
   "cell_type": "code",
   "execution_count": 25,
   "metadata": {},
   "outputs": [],
   "source": [
    "race_columns = [\"white_per\", \"asian_per\", \"black_per\", \"hispanic_per\"]\n",
    "race_correlations = combined[race_columns + [\"sat_score\"]].corr()"
   ]
  },
  {
   "cell_type": "code",
   "execution_count": 27,
   "metadata": {},
   "outputs": [
    {
     "data": {
      "image/png": "[encoded data removed]",
      "text/plain": [
       "<matplotlib.figure.Figure at 0x9633278>"
      ]
     },
     "metadata": {},
     "output_type": "display_data"
    }
   ],
   "source": [
    "race_correlations[\"sat_score\"].sort_values().plot.bar(figsize=(10,5), color=\"darkblue\")\n",
    "plt.show()"
   ]
  },
  {
   "cell_type": "markdown",
   "metadata": {},
   "source": [
    "# Race correlation notes\n",
    "\n",
    "* As expected, schools with higher percentages of whites are correlated with higher SAT scores\n",
    " * This effect is stronger than others investigated above, such as student safety\n",
    "* As expected, `black_per` and `hispanic_per` are negatively correlated with SAT scores.\n",
    " * Perhaps less expected is that `hispanic_per` is more negatively correlated than `black_per` "
   ]
  },
  {
   "cell_type": "markdown",
   "metadata": {},
   "source": [
    "# Explore schools with low SAT scores and high values for hispanic_per.\n",
    "\n",
    "* Make a scatter plot of hispanic_per vs. sat_score.\n",
    "* What does the scatter plot show? Record any interesting observsations in a Markdown cell."
   ]
  },
  {
   "cell_type": "code",
   "execution_count": 28,
   "metadata": {},
   "outputs": [
    {
     "data": {
      "image/png": "[encoded data removed]",
      "text/plain": [
       "<matplotlib.figure.Figure at 0x8df7160>"
      ]
     },
     "metadata": {},
     "output_type": "display_data"
    }
   ],
   "source": [
    "combined.plot.scatter(x=\"hispanic_per\", y=\"sat_score\", figsize=(8, 8), color=\"darkblue\")\n",
    "plt.show()"
   ]
  },
  {
   "cell_type": "markdown",
   "metadata": {},
   "source": [
    "# Notes on hispanic_per scatter plot\n",
    "\n",
    "* It appears that there are two groups of outliers that explain the correlation: \n",
    "    * a group of schools with < 25% hispanic students and SAT scores > 1400\n",
    "    * a group of schools with nearly 100% hispanic studens and SAT scores < 1100"
   ]
  },
  {
   "cell_type": "markdown",
   "metadata": {},
   "source": [
    "# Research any schools with a hispanic_per greater than 95%.\n",
    "\n",
    "* Find the school names in the data.\n",
    "* Use Wikipedia and Google to research the schools by name.\n",
    "* Is there anything interesting about these particular schools? Record your findings in a Markdown cell."
   ]
  },
  {
   "cell_type": "code",
   "execution_count": 29,
   "metadata": {},
   "outputs": [
    {
     "data": {
      "text/plain": [
       "286               PAN AMERICAN INTERNATIONAL HIGH SCHOOL\n",
       "44                         MANHATTAN BRIDGES HIGH SCHOOL\n",
       "89     GREGORIO LUPERON HIGH SCHOOL FOR SCIENCE AND M...\n",
       "141                INTERNATIONAL SCHOOL FOR LIBERAL ARTS\n",
       "176     PAN AMERICAN INTERNATIONAL HIGH SCHOOL AT MONROE\n",
       "253                            MULTICULTURAL HIGH SCHOOL\n",
       "125                  ACADEMY FOR LANGUAGE AND TECHNOLOGY\n",
       "82      WASHINGTON HEIGHTS EXPEDITIONARY LEARNING SCHOOL\n",
       "Name: SCHOOL NAME, dtype: object"
      ]
     },
     "execution_count": 29,
     "metadata": {},
     "output_type": "execute_result"
    }
   ],
   "source": [
    "h = combined[combined[\"hispanic_per\"] > 95].sort_values(\"hispanic_per\", ascending=False)\n",
    "h[\"SCHOOL NAME\"]"
   ]
  },
  {
   "cell_type": "markdown",
   "metadata": {},
   "source": [
    "# hispanic_per > 95% notes\n",
    "\n",
    "* It appears that many of these schools specialize in teaching new immigrants that are English Language Learners (ELL)\n"
   ]
  },
  {
   "cell_type": "markdown",
   "metadata": {},
   "source": [
    "# Research any schools with a hispanic_per less than 10% and an average SAT score greater than 1800.\n",
    "* Find the school names in the data.\n",
    "* Use Wikipedia and Google to research the schools by name.\n",
    "* Is there anything interesting about these particular schools? Record your findings in a Markdown cell."
   ]
  },
  {
   "cell_type": "code",
   "execution_count": 30,
   "metadata": {},
   "outputs": [
    {
     "data": {
      "text/plain": [
       "187                       BROOKLYN TECHNICAL HIGH SCHOOL\n",
       "327    QUEENS HIGH SCHOOL FOR THE SCIENCES AT YORK CO...\n",
       "356                  STATEN ISLAND TECHNICAL HIGH SCHOOL\n",
       "151                         BRONX HIGH SCHOOL OF SCIENCE\n",
       "37                                STUYVESANT HIGH SCHOOL\n",
       "Name: SCHOOL NAME, dtype: object"
      ]
     },
     "execution_count": 30,
     "metadata": {},
     "output_type": "execute_result"
    }
   ],
   "source": [
    "h2 = combined[(combined[\"hispanic_per\"] < 10) & (combined[\"sat_score\"] > 1800)].sort_values(\"sat_score\")\n",
    "h2[\"SCHOOL NAME\"]"
   ]
  },
  {
   "cell_type": "markdown",
   "metadata": {},
   "source": [
    "# hispanic_per < 10% and SAT score > 1800 notes\n",
    "* It appears that these are specialized high schools that are very selective\n",
    "* They also appear to focus on science and technology\n",
    "* These schools require students to take an exam that is similar to the SAT before admissions in 9th grade called the SHSAT: http://schools.nyc.gov/Accountability/resources/testing/SHSAT.htm\n"
   ]
  },
  {
   "cell_type": "markdown",
   "metadata": {},
   "source": [
    "# Gender differences\n",
    "\n",
    "There are two columns that indicate the percentage of each gender at a school:\n",
    "\n",
    "* male_per\n",
    "* female_per\n",
    "\n",
    "We can plot out the correlations between each percentage and sat_score."
   ]
  },
  {
   "cell_type": "markdown",
   "metadata": {},
   "source": [
    "# Investigate gender differences in SAT scores.\n",
    "* Make a bar plot of the correlations between the columns above and sat_score.\n",
    "* Record your findings in a Markdown cell. Are there any unexpected correlations?"
   ]
  },
  {
   "cell_type": "code",
   "execution_count": 31,
   "metadata": {},
   "outputs": [],
   "source": [
    "gender_columns = [\"male_per\", \"female_per\"]\n",
    "gender_correlations = combined[gender_columns + [\"sat_score\"]].corr()"
   ]
  },
  {
   "cell_type": "code",
   "execution_count": 32,
   "metadata": {},
   "outputs": [
    {
     "data": {
      "text/plain": [
       "male_per     -0.112062\n",
       "female_per    0.112108\n",
       "sat_score     1.000000\n",
       "Name: sat_score, dtype: float64"
      ]
     },
     "execution_count": 32,
     "metadata": {},
     "output_type": "execute_result"
    }
   ],
   "source": [
    "gender_correlations[\"sat_score\"]"
   ]
  },
  {
   "cell_type": "code",
   "execution_count": 33,
   "metadata": {},
   "outputs": [
    {
     "data": {
      "image/png": "[encoded data removed]",
      "text/plain": [
       "<matplotlib.figure.Figure at 0x96b03c8>"
      ]
     },
     "metadata": {},
     "output_type": "display_data"
    }
   ],
   "source": [
    "gender_correlations[\"sat_score\"].plot.bar(figsize=(10, 5), color=\"darkblue\")\n",
    "plt.show()"
   ]
  },
  {
   "cell_type": "markdown",
   "metadata": {},
   "source": [
    "# Gender differences notes\n",
    "\n",
    "* Schools with larger female populations have somewhat better SAT scores (positive r = 0.11)\n",
    "* `male_per` correlation is negative (r = -0.11)\n",
    "* It makes sense that these are opposite since only 2 genders are recorded"
   ]
  },
  {
   "cell_type": "markdown",
   "metadata": {},
   "source": [
    "# Investigate schools with high SAT scores and a high female_per.\n",
    "* Make a scatter plot of female_per vs. sat_score.\n",
    "* What does the scatter plot show? Record any interesting observations in a Markdown cell."
   ]
  },
  {
   "cell_type": "code",
   "execution_count": 34,
   "metadata": {},
   "outputs": [
    {
     "data": {
      "image/png": "[encoded data removed]",
      "text/plain": [
       "<matplotlib.figure.Figure at 0x9798cf8>"
      ]
     },
     "metadata": {},
     "output_type": "display_data"
    }
   ],
   "source": [
    "combined.plot.scatter(x=\"female_per\", y=\"sat_score\", figsize=(8, 8), color=\"darkblue\")\n",
    "plt.show()"
   ]
  },
  {
   "cell_type": "markdown",
   "metadata": {},
   "source": [
    "# Gender scatter plot notes\n",
    "\n",
    "* The majority of schools are near 50% male, 50% female\n",
    "* There are a group of schools with female percentage > 60% and relatively high SAT scores above 1400\n",
    "* The schools with the highest SAT scores are around 40% female"
   ]
  },
  {
   "cell_type": "markdown",
   "metadata": {},
   "source": [
    "# Research any schools with a female_per greater than 60% and an average SAT score greater than 1700.\n",
    "* Find the school names in the data.\n",
    "* Use Wikipedia and Google to research the schools by name.\n",
    "* Is there anything interesting about these particular schools? Record your findings in a Markdown cell.\n"
   ]
  },
  {
   "cell_type": "code",
   "execution_count": 35,
   "metadata": {},
   "outputs": [
    {
     "data": {
      "text/html": [
       "<div>\n",
       "<style scoped>\n",
       "    .dataframe tbody tr th:only-of-type {\n",
       "        vertical-align: middle;\n",
       "    }\n",
       "\n",
       "    .dataframe tbody tr th {\n",
       "        vertical-align: top;\n",
       "    }\n",
       "\n",
       "    .dataframe thead th {\n",
       "        text-align: right;\n",
       "    }\n",
       "</style>\n",
       "<table border=\"1\" class=\"dataframe\">\n",
       "  <thead>\n",
       "    <tr style=\"text-align: right;\">\n",
       "      <th></th>\n",
       "      <th>SCHOOL NAME</th>\n",
       "      <th>female_per</th>\n",
       "      <th>sat_score</th>\n",
       "    </tr>\n",
       "  </thead>\n",
       "  <tbody>\n",
       "    <tr>\n",
       "      <th>302</th>\n",
       "      <td>TOWNSEND HARRIS HIGH SCHOOL</td>\n",
       "      <td>71.1</td>\n",
       "      <td>1910.0</td>\n",
       "    </tr>\n",
       "    <tr>\n",
       "      <th>5</th>\n",
       "      <td>BARD HIGH SCHOOL EARLY COLLEGE</td>\n",
       "      <td>68.7</td>\n",
       "      <td>1856.0</td>\n",
       "    </tr>\n",
       "    <tr>\n",
       "      <th>26</th>\n",
       "      <td>ELEANOR ROOSEVELT HIGH SCHOOL</td>\n",
       "      <td>67.5</td>\n",
       "      <td>1758.0</td>\n",
       "    </tr>\n",
       "    <tr>\n",
       "      <th>60</th>\n",
       "      <td>BEACON HIGH SCHOOL</td>\n",
       "      <td>61.0</td>\n",
       "      <td>1744.0</td>\n",
       "    </tr>\n",
       "    <tr>\n",
       "      <th>61</th>\n",
       "      <td>FIORELLO H. LAGUARDIA HIGH SCHOOL OF MUSIC &amp; A...</td>\n",
       "      <td>73.6</td>\n",
       "      <td>1707.0</td>\n",
       "    </tr>\n",
       "  </tbody>\n",
       "</table>\n",
       "</div>"
      ],
      "text/plain": [
       "                                           SCHOOL NAME  female_per  sat_score\n",
       "302                        TOWNSEND HARRIS HIGH SCHOOL        71.1     1910.0\n",
       "5                       BARD HIGH SCHOOL EARLY COLLEGE        68.7     1856.0\n",
       "26                       ELEANOR ROOSEVELT HIGH SCHOOL        67.5     1758.0\n",
       "60                                  BEACON HIGH SCHOOL        61.0     1744.0\n",
       "61   FIORELLO H. LAGUARDIA HIGH SCHOOL OF MUSIC & A...        73.6     1707.0"
      ]
     },
     "execution_count": 35,
     "metadata": {},
     "output_type": "execute_result"
    }
   ],
   "source": [
    "f = combined[(combined[\"female_per\"] > 60) & (combined[\"sat_score\"] > 1700)].sort_values(\"sat_score\", ascending=False)\n",
    "f[[\"SCHOOL NAME\", \"female_per\", \"sat_score\"]]"
   ]
  },
  {
   "cell_type": "markdown",
   "metadata": {},
   "source": [
    "# High performing majority female school notes\n",
    "\n",
    "* TOWNSEND HARRIS has a storied past, having been originally the introductory year for the City College of NY. It has highly competitive admissions: http://www.thhs.qc.edu/apps/pages/index.jsp?uREC_ID=93575&type=d&termREC_ID=&pREC_ID=175320&hideMenu=1\n",
    "* BARD HIGH SCHOOL EARLY COLLEGE has a program where 11th and 12th grade students do mostly college-level work (a lot of APs)\n",
    "* ELEANOR ROOSEVELT and BEACON HIGH are similarly focused on AP and have competitive admissions\n",
    "* LaGuardia is a performing arts focused school\n",
    "* One interesting thing is none of these are \"science\" or \"technology\" schools"
   ]
  },
  {
   "cell_type": "markdown",
   "metadata": {},
   "source": [
    "# AP Analysis\n",
    "\n",
    "In the U.S., high school students take Advanced Placement (AP) exams to earn college credit. There are AP exams for many different subjects.\n",
    "\n",
    "It makes sense that the number of students at a school who took AP exams would be highly correlated with the school's SAT scores. Let's explore this relationship. Because total_enrollment is highly correlated with sat_score, we don't want to bias our results. Instead, we'll look at the percentage of students in each school who took at least one AP exam.\n",
    "\n",
    "* Calculate the percentage of students in each school that took an AP exam.\n",
    "  * Divide the `AP Test Takers ` column by the `total_enrollment` column.\n",
    "    * The column name `AP Test Takers ` has a space at the end -- don't forget to add it!\n",
    "  * Assign the result to the `ap_per` column.\n",
    "* Investigate the relationship between AP scores and SAT scores.\n",
    "  * Make a scatter plot of `ap_per` vs. `sat_score`.\n",
    "  * What does the scatter plot show? Record any interesting observations in a Markdown cell."
   ]
  },
  {
   "cell_type": "code",
   "execution_count": 36,
   "metadata": {},
   "outputs": [],
   "source": [
    "combined[\"ap_per\"] = combined[\"AP Test Takers \"] / combined[\"total_enrollment\"]"
   ]
  },
  {
   "cell_type": "code",
   "execution_count": 37,
   "metadata": {},
   "outputs": [
    {
     "data": {
      "image/png": "[encoded data removed]",
      "text/plain": [
       "<matplotlib.figure.Figure at 0x97ef198>"
      ]
     },
     "metadata": {},
     "output_type": "display_data"
    }
   ],
   "source": [
    "combined.plot.scatter(x=\"ap_per\", y=\"sat_score\", figsize=(8, 8), color=\"darkblue\")\n",
    "plt.show()"
   ]
  },
  {
   "cell_type": "markdown",
   "metadata": {},
   "source": [
    "# AP Analysis Notes\n",
    "\n",
    "* There is a group of schools that has relatively high `ap_per` > 0.4 and high SAT scores above 1800.\n",
    "* There is also an interesting nearly horizontal line just above SAT score 1200. This could be coincidental but it looks like perhaps an artifact of taking the mean. "
   ]
  }
 ],
 "metadata": {
  "kernelspec": {
   "display_name": "Python 3",
   "language": "python",
   "name": "python3"
  },
  "language_info": {
   "codemirror_mode": {
    "name": "ipython",
    "version": 3
   },
   "file_extension": ".py",
   "mimetype": "text/x-python",
   "name": "python",
   "nbconvert_exporter": "python",
   "pygments_lexer": "ipython3",
   "version": "3.6.3"
  }
 },
 "nbformat": 4,
 "nbformat_minor": 1
}
