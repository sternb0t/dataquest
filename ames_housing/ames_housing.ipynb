{
 "cells": [
  {
   "cell_type": "code",
   "execution_count": 1,
   "metadata": {
    "collapsed": true
   },
   "outputs": [],
   "source": [
    "%matplotlib inline\n",
    "import pandas as pd\n",
    "import seaborn as sns\n",
    "import matplotlib.pyplot as plt "
   ]
  },
  {
   "cell_type": "markdown",
   "metadata": {},
   "source": [
    "# Read dataset and split into training / test sets"
   ]
  },
  {
   "cell_type": "code",
   "execution_count": 2,
   "metadata": {
    "collapsed": true
   },
   "outputs": [],
   "source": [
    "data = pd.read_csv('AmesHousing.txt', delimiter=\"\\t\")\n",
    "train = data[0:1460]\n",
    "test = data[1460:]"
   ]
  },
  {
   "cell_type": "markdown",
   "metadata": {},
   "source": [
    "# Feature selection"
   ]
  },
  {
   "cell_type": "code",
   "execution_count": 3,
   "metadata": {
    "collapsed": false
   },
   "outputs": [
    {
     "data": {
      "text/html": [
       "<div>\n",
       "<table border=\"1\" class=\"dataframe\">\n",
       "  <thead>\n",
       "    <tr style=\"text-align: right;\">\n",
       "      <th></th>\n",
       "      <th>Order</th>\n",
       "      <th>PID</th>\n",
       "      <th>MS SubClass</th>\n",
       "      <th>Lot Frontage</th>\n",
       "      <th>Lot Area</th>\n",
       "      <th>Overall Qual</th>\n",
       "      <th>Overall Cond</th>\n",
       "      <th>Year Built</th>\n",
       "      <th>Year Remod/Add</th>\n",
       "      <th>Mas Vnr Area</th>\n",
       "      <th>...</th>\n",
       "      <th>Wood Deck SF</th>\n",
       "      <th>Open Porch SF</th>\n",
       "      <th>Enclosed Porch</th>\n",
       "      <th>3Ssn Porch</th>\n",
       "      <th>Screen Porch</th>\n",
       "      <th>Pool Area</th>\n",
       "      <th>Misc Val</th>\n",
       "      <th>Mo Sold</th>\n",
       "      <th>Yr Sold</th>\n",
       "      <th>SalePrice</th>\n",
       "    </tr>\n",
       "  </thead>\n",
       "  <tbody>\n",
       "    <tr>\n",
       "      <th>0</th>\n",
       "      <td>1</td>\n",
       "      <td>526301100</td>\n",
       "      <td>20</td>\n",
       "      <td>141.0</td>\n",
       "      <td>31770</td>\n",
       "      <td>6</td>\n",
       "      <td>5</td>\n",
       "      <td>1960</td>\n",
       "      <td>1960</td>\n",
       "      <td>112.0</td>\n",
       "      <td>...</td>\n",
       "      <td>210</td>\n",
       "      <td>62</td>\n",
       "      <td>0</td>\n",
       "      <td>0</td>\n",
       "      <td>0</td>\n",
       "      <td>0</td>\n",
       "      <td>0</td>\n",
       "      <td>5</td>\n",
       "      <td>2010</td>\n",
       "      <td>215000</td>\n",
       "    </tr>\n",
       "    <tr>\n",
       "      <th>1</th>\n",
       "      <td>2</td>\n",
       "      <td>526350040</td>\n",
       "      <td>20</td>\n",
       "      <td>80.0</td>\n",
       "      <td>11622</td>\n",
       "      <td>5</td>\n",
       "      <td>6</td>\n",
       "      <td>1961</td>\n",
       "      <td>1961</td>\n",
       "      <td>0.0</td>\n",
       "      <td>...</td>\n",
       "      <td>140</td>\n",
       "      <td>0</td>\n",
       "      <td>0</td>\n",
       "      <td>0</td>\n",
       "      <td>120</td>\n",
       "      <td>0</td>\n",
       "      <td>0</td>\n",
       "      <td>6</td>\n",
       "      <td>2010</td>\n",
       "      <td>105000</td>\n",
       "    </tr>\n",
       "    <tr>\n",
       "      <th>2</th>\n",
       "      <td>3</td>\n",
       "      <td>526351010</td>\n",
       "      <td>20</td>\n",
       "      <td>81.0</td>\n",
       "      <td>14267</td>\n",
       "      <td>6</td>\n",
       "      <td>6</td>\n",
       "      <td>1958</td>\n",
       "      <td>1958</td>\n",
       "      <td>108.0</td>\n",
       "      <td>...</td>\n",
       "      <td>393</td>\n",
       "      <td>36</td>\n",
       "      <td>0</td>\n",
       "      <td>0</td>\n",
       "      <td>0</td>\n",
       "      <td>0</td>\n",
       "      <td>12500</td>\n",
       "      <td>6</td>\n",
       "      <td>2010</td>\n",
       "      <td>172000</td>\n",
       "    </tr>\n",
       "    <tr>\n",
       "      <th>3</th>\n",
       "      <td>4</td>\n",
       "      <td>526353030</td>\n",
       "      <td>20</td>\n",
       "      <td>93.0</td>\n",
       "      <td>11160</td>\n",
       "      <td>7</td>\n",
       "      <td>5</td>\n",
       "      <td>1968</td>\n",
       "      <td>1968</td>\n",
       "      <td>0.0</td>\n",
       "      <td>...</td>\n",
       "      <td>0</td>\n",
       "      <td>0</td>\n",
       "      <td>0</td>\n",
       "      <td>0</td>\n",
       "      <td>0</td>\n",
       "      <td>0</td>\n",
       "      <td>0</td>\n",
       "      <td>4</td>\n",
       "      <td>2010</td>\n",
       "      <td>244000</td>\n",
       "    </tr>\n",
       "    <tr>\n",
       "      <th>4</th>\n",
       "      <td>5</td>\n",
       "      <td>527105010</td>\n",
       "      <td>60</td>\n",
       "      <td>74.0</td>\n",
       "      <td>13830</td>\n",
       "      <td>5</td>\n",
       "      <td>5</td>\n",
       "      <td>1997</td>\n",
       "      <td>1998</td>\n",
       "      <td>0.0</td>\n",
       "      <td>...</td>\n",
       "      <td>212</td>\n",
       "      <td>34</td>\n",
       "      <td>0</td>\n",
       "      <td>0</td>\n",
       "      <td>0</td>\n",
       "      <td>0</td>\n",
       "      <td>0</td>\n",
       "      <td>3</td>\n",
       "      <td>2010</td>\n",
       "      <td>189900</td>\n",
       "    </tr>\n",
       "  </tbody>\n",
       "</table>\n",
       "<p>5 rows × 39 columns</p>\n",
       "</div>"
      ],
      "text/plain": [
       "   Order        PID  MS SubClass  Lot Frontage  Lot Area  Overall Qual  \\\n",
       "0      1  526301100           20         141.0     31770             6   \n",
       "1      2  526350040           20          80.0     11622             5   \n",
       "2      3  526351010           20          81.0     14267             6   \n",
       "3      4  526353030           20          93.0     11160             7   \n",
       "4      5  527105010           60          74.0     13830             5   \n",
       "\n",
       "   Overall Cond  Year Built  Year Remod/Add  Mas Vnr Area    ...      \\\n",
       "0             5        1960            1960         112.0    ...       \n",
       "1             6        1961            1961           0.0    ...       \n",
       "2             6        1958            1958         108.0    ...       \n",
       "3             5        1968            1968           0.0    ...       \n",
       "4             5        1997            1998           0.0    ...       \n",
       "\n",
       "   Wood Deck SF  Open Porch SF  Enclosed Porch  3Ssn Porch  Screen Porch  \\\n",
       "0           210             62               0           0             0   \n",
       "1           140              0               0           0           120   \n",
       "2           393             36               0           0             0   \n",
       "3             0              0               0           0             0   \n",
       "4           212             34               0           0             0   \n",
       "\n",
       "   Pool Area  Misc Val  Mo Sold  Yr Sold  SalePrice  \n",
       "0          0         0        5     2010     215000  \n",
       "1          0         0        6     2010     105000  \n",
       "2          0     12500        6     2010     172000  \n",
       "3          0         0        4     2010     244000  \n",
       "4          0         0        3     2010     189900  \n",
       "\n",
       "[5 rows x 39 columns]"
      ]
     },
     "execution_count": 3,
     "metadata": {},
     "output_type": "execute_result"
    }
   ],
   "source": [
    "numerical_train = train.select_dtypes(include=['int', 'float'])\n",
    "numerical_train.head()"
   ]
  },
  {
   "cell_type": "code",
   "execution_count": 4,
   "metadata": {
    "collapsed": false
   },
   "outputs": [
    {
     "data": {
      "text/html": [
       "<div>\n",
       "<table border=\"1\" class=\"dataframe\">\n",
       "  <thead>\n",
       "    <tr style=\"text-align: right;\">\n",
       "      <th></th>\n",
       "      <th>Order</th>\n",
       "      <th>MS SubClass</th>\n",
       "      <th>Lot Frontage</th>\n",
       "      <th>Lot Area</th>\n",
       "      <th>Overall Qual</th>\n",
       "      <th>Overall Cond</th>\n",
       "      <th>Mas Vnr Area</th>\n",
       "      <th>BsmtFin SF 1</th>\n",
       "      <th>BsmtFin SF 2</th>\n",
       "      <th>Bsmt Unf SF</th>\n",
       "      <th>...</th>\n",
       "      <th>Garage Cars</th>\n",
       "      <th>Garage Area</th>\n",
       "      <th>Wood Deck SF</th>\n",
       "      <th>Open Porch SF</th>\n",
       "      <th>Enclosed Porch</th>\n",
       "      <th>3Ssn Porch</th>\n",
       "      <th>Screen Porch</th>\n",
       "      <th>Pool Area</th>\n",
       "      <th>Misc Val</th>\n",
       "      <th>SalePrice</th>\n",
       "    </tr>\n",
       "  </thead>\n",
       "  <tbody>\n",
       "    <tr>\n",
       "      <th>0</th>\n",
       "      <td>1</td>\n",
       "      <td>20</td>\n",
       "      <td>141.0</td>\n",
       "      <td>31770</td>\n",
       "      <td>6</td>\n",
       "      <td>5</td>\n",
       "      <td>112.0</td>\n",
       "      <td>639.0</td>\n",
       "      <td>0.0</td>\n",
       "      <td>441.0</td>\n",
       "      <td>...</td>\n",
       "      <td>2.0</td>\n",
       "      <td>528.0</td>\n",
       "      <td>210</td>\n",
       "      <td>62</td>\n",
       "      <td>0</td>\n",
       "      <td>0</td>\n",
       "      <td>0</td>\n",
       "      <td>0</td>\n",
       "      <td>0</td>\n",
       "      <td>215000</td>\n",
       "    </tr>\n",
       "    <tr>\n",
       "      <th>1</th>\n",
       "      <td>2</td>\n",
       "      <td>20</td>\n",
       "      <td>80.0</td>\n",
       "      <td>11622</td>\n",
       "      <td>5</td>\n",
       "      <td>6</td>\n",
       "      <td>0.0</td>\n",
       "      <td>468.0</td>\n",
       "      <td>144.0</td>\n",
       "      <td>270.0</td>\n",
       "      <td>...</td>\n",
       "      <td>1.0</td>\n",
       "      <td>730.0</td>\n",
       "      <td>140</td>\n",
       "      <td>0</td>\n",
       "      <td>0</td>\n",
       "      <td>0</td>\n",
       "      <td>120</td>\n",
       "      <td>0</td>\n",
       "      <td>0</td>\n",
       "      <td>105000</td>\n",
       "    </tr>\n",
       "    <tr>\n",
       "      <th>2</th>\n",
       "      <td>3</td>\n",
       "      <td>20</td>\n",
       "      <td>81.0</td>\n",
       "      <td>14267</td>\n",
       "      <td>6</td>\n",
       "      <td>6</td>\n",
       "      <td>108.0</td>\n",
       "      <td>923.0</td>\n",
       "      <td>0.0</td>\n",
       "      <td>406.0</td>\n",
       "      <td>...</td>\n",
       "      <td>1.0</td>\n",
       "      <td>312.0</td>\n",
       "      <td>393</td>\n",
       "      <td>36</td>\n",
       "      <td>0</td>\n",
       "      <td>0</td>\n",
       "      <td>0</td>\n",
       "      <td>0</td>\n",
       "      <td>12500</td>\n",
       "      <td>172000</td>\n",
       "    </tr>\n",
       "    <tr>\n",
       "      <th>3</th>\n",
       "      <td>4</td>\n",
       "      <td>20</td>\n",
       "      <td>93.0</td>\n",
       "      <td>11160</td>\n",
       "      <td>7</td>\n",
       "      <td>5</td>\n",
       "      <td>0.0</td>\n",
       "      <td>1065.0</td>\n",
       "      <td>0.0</td>\n",
       "      <td>1045.0</td>\n",
       "      <td>...</td>\n",
       "      <td>2.0</td>\n",
       "      <td>522.0</td>\n",
       "      <td>0</td>\n",
       "      <td>0</td>\n",
       "      <td>0</td>\n",
       "      <td>0</td>\n",
       "      <td>0</td>\n",
       "      <td>0</td>\n",
       "      <td>0</td>\n",
       "      <td>244000</td>\n",
       "    </tr>\n",
       "    <tr>\n",
       "      <th>4</th>\n",
       "      <td>5</td>\n",
       "      <td>60</td>\n",
       "      <td>74.0</td>\n",
       "      <td>13830</td>\n",
       "      <td>5</td>\n",
       "      <td>5</td>\n",
       "      <td>0.0</td>\n",
       "      <td>791.0</td>\n",
       "      <td>0.0</td>\n",
       "      <td>137.0</td>\n",
       "      <td>...</td>\n",
       "      <td>2.0</td>\n",
       "      <td>482.0</td>\n",
       "      <td>212</td>\n",
       "      <td>34</td>\n",
       "      <td>0</td>\n",
       "      <td>0</td>\n",
       "      <td>0</td>\n",
       "      <td>0</td>\n",
       "      <td>0</td>\n",
       "      <td>189900</td>\n",
       "    </tr>\n",
       "  </tbody>\n",
       "</table>\n",
       "<p>5 rows × 33 columns</p>\n",
       "</div>"
      ],
      "text/plain": [
       "   Order  MS SubClass  Lot Frontage  Lot Area  Overall Qual  Overall Cond  \\\n",
       "0      1           20         141.0     31770             6             5   \n",
       "1      2           20          80.0     11622             5             6   \n",
       "2      3           20          81.0     14267             6             6   \n",
       "3      4           20          93.0     11160             7             5   \n",
       "4      5           60          74.0     13830             5             5   \n",
       "\n",
       "   Mas Vnr Area  BsmtFin SF 1  BsmtFin SF 2  Bsmt Unf SF    ...      \\\n",
       "0         112.0         639.0           0.0        441.0    ...       \n",
       "1           0.0         468.0         144.0        270.0    ...       \n",
       "2         108.0         923.0           0.0        406.0    ...       \n",
       "3           0.0        1065.0           0.0       1045.0    ...       \n",
       "4           0.0         791.0           0.0        137.0    ...       \n",
       "\n",
       "   Garage Cars  Garage Area  Wood Deck SF  Open Porch SF  Enclosed Porch  \\\n",
       "0          2.0        528.0           210             62               0   \n",
       "1          1.0        730.0           140              0               0   \n",
       "2          1.0        312.0           393             36               0   \n",
       "3          2.0        522.0             0              0               0   \n",
       "4          2.0        482.0           212             34               0   \n",
       "\n",
       "   3Ssn Porch  Screen Porch  Pool Area  Misc Val  SalePrice  \n",
       "0           0             0          0         0     215000  \n",
       "1           0           120          0         0     105000  \n",
       "2           0             0          0     12500     172000  \n",
       "3           0             0          0         0     244000  \n",
       "4           0             0          0         0     189900  \n",
       "\n",
       "[5 rows x 33 columns]"
      ]
     },
     "execution_count": 4,
     "metadata": {},
     "output_type": "execute_result"
    }
   ],
   "source": [
    "drop_cols = ['PID', 'Year Built', 'Year Remod/Add', 'Garage Yr Blt', 'Mo Sold', 'Yr Sold']\n",
    "numerical_train = numerical_train.drop(drop_cols, axis=1)\n",
    "numerical_train.head()"
   ]
  },
  {
   "cell_type": "code",
   "execution_count": 5,
   "metadata": {
    "collapsed": false
   },
   "outputs": [
    {
     "data": {
      "text/plain": [
       "Order             0\n",
       "MS SubClass       0\n",
       "Lot Frontage    249\n",
       "Lot Area          0\n",
       "Overall Qual      0\n",
       "dtype: int64"
      ]
     },
     "execution_count": 5,
     "metadata": {},
     "output_type": "execute_result"
    }
   ],
   "source": [
    "null_series = numerical_train.isnull().sum()\n",
    "null_series.head()"
   ]
  },
  {
   "cell_type": "code",
   "execution_count": 6,
   "metadata": {
    "collapsed": false
   },
   "outputs": [
    {
     "data": {
      "text/plain": [
       "Order              0\n",
       "MS SubClass        0\n",
       "Lot Area           0\n",
       "Overall Qual       0\n",
       "Overall Cond       0\n",
       "1st Flr SF         0\n",
       "2nd Flr SF         0\n",
       "Low Qual Fin SF    0\n",
       "Gr Liv Area        0\n",
       "Full Bath          0\n",
       "Half Bath          0\n",
       "Bedroom AbvGr      0\n",
       "Kitchen AbvGr      0\n",
       "TotRms AbvGrd      0\n",
       "Fireplaces         0\n",
       "Garage Cars        0\n",
       "Garage Area        0\n",
       "Wood Deck SF       0\n",
       "Open Porch SF      0\n",
       "Enclosed Porch     0\n",
       "3Ssn Porch         0\n",
       "Screen Porch       0\n",
       "Pool Area          0\n",
       "Misc Val           0\n",
       "SalePrice          0\n",
       "dtype: int64"
      ]
     },
     "execution_count": 6,
     "metadata": {},
     "output_type": "execute_result"
    }
   ],
   "source": [
    "full_cols_series = null_series[null_series == 0]\n",
    "full_cols_series"
   ]
  },
  {
   "cell_type": "markdown",
   "metadata": {},
   "source": [
    "# Correlations with SalesPrice"
   ]
  },
  {
   "cell_type": "code",
   "execution_count": 7,
   "metadata": {
    "collapsed": false
   },
   "outputs": [
    {
     "data": {
      "text/plain": [
       "Misc Val           0.009903\n",
       "3Ssn Porch         0.038699\n",
       "Low Qual Fin SF    0.060352\n",
       "Order              0.068181\n",
       "MS SubClass        0.088504\n",
       "Overall Cond       0.099395\n",
       "Screen Porch       0.100121\n",
       "Bedroom AbvGr      0.106941\n",
       "Kitchen AbvGr      0.130843\n",
       "Pool Area          0.145474\n",
       "Enclosed Porch     0.165873\n",
       "2nd Flr SF         0.202352\n",
       "Half Bath          0.272870\n",
       "Lot Area           0.274730\n",
       "Wood Deck SF       0.319104\n",
       "Open Porch SF      0.344383\n",
       "TotRms AbvGrd      0.483701\n",
       "Fireplaces         0.485683\n",
       "Full Bath          0.518194\n",
       "1st Flr SF         0.657119\n",
       "Garage Area        0.662397\n",
       "Garage Cars        0.663485\n",
       "Gr Liv Area        0.698990\n",
       "Overall Qual       0.804562\n",
       "SalePrice          1.000000\n",
       "Name: SalePrice, dtype: float64"
      ]
     },
     "execution_count": 7,
     "metadata": {},
     "output_type": "execute_result"
    }
   ],
   "source": [
    "train_subset = train[full_cols_series.index]\n",
    "corrs = train_subset.corr()\n",
    "sorted_corrs = corrs['SalePrice'].abs().sort_values()\n",
    "sorted_corrs"
   ]
  },
  {
   "cell_type": "markdown",
   "metadata": {},
   "source": [
    "# Colinearity"
   ]
  },
  {
   "cell_type": "code",
   "execution_count": 8,
   "metadata": {
    "collapsed": false
   },
   "outputs": [
    {
     "data": {
      "text/plain": [
       "Wood Deck SF     0.319104\n",
       "Open Porch SF    0.344383\n",
       "TotRms AbvGrd    0.483701\n",
       "Fireplaces       0.485683\n",
       "Full Bath        0.518194\n",
       "1st Flr SF       0.657119\n",
       "Garage Area      0.662397\n",
       "Garage Cars      0.663485\n",
       "Gr Liv Area      0.698990\n",
       "Overall Qual     0.804562\n",
       "SalePrice        1.000000\n",
       "Name: SalePrice, dtype: float64"
      ]
     },
     "execution_count": 8,
     "metadata": {},
     "output_type": "execute_result"
    }
   ],
   "source": [
    "strong_corrs = sorted_corrs[sorted_corrs > 0.3]\n",
    "strong_corrs"
   ]
  },
  {
   "cell_type": "code",
   "execution_count": 9,
   "metadata": {
    "collapsed": false
   },
   "outputs": [
    {
     "data": {
      "text/html": [
       "<div>\n",
       "<table border=\"1\" class=\"dataframe\">\n",
       "  <thead>\n",
       "    <tr style=\"text-align: right;\">\n",
       "      <th></th>\n",
       "      <th>Wood Deck SF</th>\n",
       "      <th>Open Porch SF</th>\n",
       "      <th>TotRms AbvGrd</th>\n",
       "      <th>Fireplaces</th>\n",
       "      <th>Full Bath</th>\n",
       "      <th>1st Flr SF</th>\n",
       "      <th>Garage Area</th>\n",
       "      <th>Garage Cars</th>\n",
       "      <th>Gr Liv Area</th>\n",
       "      <th>Overall Qual</th>\n",
       "      <th>SalePrice</th>\n",
       "    </tr>\n",
       "  </thead>\n",
       "  <tbody>\n",
       "    <tr>\n",
       "      <th>Wood Deck SF</th>\n",
       "      <td>1.000000</td>\n",
       "      <td>0.039738</td>\n",
       "      <td>0.148162</td>\n",
       "      <td>0.209153</td>\n",
       "      <td>0.180358</td>\n",
       "      <td>0.206013</td>\n",
       "      <td>0.219300</td>\n",
       "      <td>0.227391</td>\n",
       "      <td>0.238396</td>\n",
       "      <td>0.260258</td>\n",
       "      <td>0.319104</td>\n",
       "    </tr>\n",
       "    <tr>\n",
       "      <th>Open Porch SF</th>\n",
       "      <td>0.039738</td>\n",
       "      <td>1.000000</td>\n",
       "      <td>0.222774</td>\n",
       "      <td>0.148664</td>\n",
       "      <td>0.255968</td>\n",
       "      <td>0.191891</td>\n",
       "      <td>0.218563</td>\n",
       "      <td>0.190875</td>\n",
       "      <td>0.321806</td>\n",
       "      <td>0.319954</td>\n",
       "      <td>0.344383</td>\n",
       "    </tr>\n",
       "    <tr>\n",
       "      <th>TotRms AbvGrd</th>\n",
       "      <td>0.148162</td>\n",
       "      <td>0.222774</td>\n",
       "      <td>1.000000</td>\n",
       "      <td>0.307189</td>\n",
       "      <td>0.517731</td>\n",
       "      <td>0.360595</td>\n",
       "      <td>0.295586</td>\n",
       "      <td>0.343422</td>\n",
       "      <td>0.807301</td>\n",
       "      <td>0.360203</td>\n",
       "      <td>0.483701</td>\n",
       "    </tr>\n",
       "    <tr>\n",
       "      <th>Fireplaces</th>\n",
       "      <td>0.209153</td>\n",
       "      <td>0.148664</td>\n",
       "      <td>0.307189</td>\n",
       "      <td>1.000000</td>\n",
       "      <td>0.245036</td>\n",
       "      <td>0.429662</td>\n",
       "      <td>0.302616</td>\n",
       "      <td>0.342560</td>\n",
       "      <td>0.460746</td>\n",
       "      <td>0.386205</td>\n",
       "      <td>0.485683</td>\n",
       "    </tr>\n",
       "    <tr>\n",
       "      <th>Full Bath</th>\n",
       "      <td>0.180358</td>\n",
       "      <td>0.255968</td>\n",
       "      <td>0.517731</td>\n",
       "      <td>0.245036</td>\n",
       "      <td>1.000000</td>\n",
       "      <td>0.341061</td>\n",
       "      <td>0.402743</td>\n",
       "      <td>0.468295</td>\n",
       "      <td>0.625981</td>\n",
       "      <td>0.505102</td>\n",
       "      <td>0.518194</td>\n",
       "    </tr>\n",
       "    <tr>\n",
       "      <th>1st Flr SF</th>\n",
       "      <td>0.206013</td>\n",
       "      <td>0.191891</td>\n",
       "      <td>0.360595</td>\n",
       "      <td>0.429662</td>\n",
       "      <td>0.341061</td>\n",
       "      <td>1.000000</td>\n",
       "      <td>0.477281</td>\n",
       "      <td>0.441351</td>\n",
       "      <td>0.515404</td>\n",
       "      <td>0.490056</td>\n",
       "      <td>0.657119</td>\n",
       "    </tr>\n",
       "    <tr>\n",
       "      <th>Garage Area</th>\n",
       "      <td>0.219300</td>\n",
       "      <td>0.218563</td>\n",
       "      <td>0.295586</td>\n",
       "      <td>0.302616</td>\n",
       "      <td>0.402743</td>\n",
       "      <td>0.477281</td>\n",
       "      <td>1.000000</td>\n",
       "      <td>0.890509</td>\n",
       "      <td>0.465366</td>\n",
       "      <td>0.581106</td>\n",
       "      <td>0.662397</td>\n",
       "    </tr>\n",
       "    <tr>\n",
       "      <th>Garage Cars</th>\n",
       "      <td>0.227391</td>\n",
       "      <td>0.190875</td>\n",
       "      <td>0.343422</td>\n",
       "      <td>0.342560</td>\n",
       "      <td>0.468295</td>\n",
       "      <td>0.441351</td>\n",
       "      <td>0.890509</td>\n",
       "      <td>1.000000</td>\n",
       "      <td>0.498711</td>\n",
       "      <td>0.609088</td>\n",
       "      <td>0.663485</td>\n",
       "    </tr>\n",
       "    <tr>\n",
       "      <th>Gr Liv Area</th>\n",
       "      <td>0.238396</td>\n",
       "      <td>0.321806</td>\n",
       "      <td>0.807301</td>\n",
       "      <td>0.460746</td>\n",
       "      <td>0.625981</td>\n",
       "      <td>0.515404</td>\n",
       "      <td>0.465366</td>\n",
       "      <td>0.498711</td>\n",
       "      <td>1.000000</td>\n",
       "      <td>0.562903</td>\n",
       "      <td>0.698990</td>\n",
       "    </tr>\n",
       "    <tr>\n",
       "      <th>Overall Qual</th>\n",
       "      <td>0.260258</td>\n",
       "      <td>0.319954</td>\n",
       "      <td>0.360203</td>\n",
       "      <td>0.386205</td>\n",
       "      <td>0.505102</td>\n",
       "      <td>0.490056</td>\n",
       "      <td>0.581106</td>\n",
       "      <td>0.609088</td>\n",
       "      <td>0.562903</td>\n",
       "      <td>1.000000</td>\n",
       "      <td>0.804562</td>\n",
       "    </tr>\n",
       "    <tr>\n",
       "      <th>SalePrice</th>\n",
       "      <td>0.319104</td>\n",
       "      <td>0.344383</td>\n",
       "      <td>0.483701</td>\n",
       "      <td>0.485683</td>\n",
       "      <td>0.518194</td>\n",
       "      <td>0.657119</td>\n",
       "      <td>0.662397</td>\n",
       "      <td>0.663485</td>\n",
       "      <td>0.698990</td>\n",
       "      <td>0.804562</td>\n",
       "      <td>1.000000</td>\n",
       "    </tr>\n",
       "  </tbody>\n",
       "</table>\n",
       "</div>"
      ],
      "text/plain": [
       "               Wood Deck SF  Open Porch SF  TotRms AbvGrd  Fireplaces  \\\n",
       "Wood Deck SF       1.000000       0.039738       0.148162    0.209153   \n",
       "Open Porch SF      0.039738       1.000000       0.222774    0.148664   \n",
       "TotRms AbvGrd      0.148162       0.222774       1.000000    0.307189   \n",
       "Fireplaces         0.209153       0.148664       0.307189    1.000000   \n",
       "Full Bath          0.180358       0.255968       0.517731    0.245036   \n",
       "1st Flr SF         0.206013       0.191891       0.360595    0.429662   \n",
       "Garage Area        0.219300       0.218563       0.295586    0.302616   \n",
       "Garage Cars        0.227391       0.190875       0.343422    0.342560   \n",
       "Gr Liv Area        0.238396       0.321806       0.807301    0.460746   \n",
       "Overall Qual       0.260258       0.319954       0.360203    0.386205   \n",
       "SalePrice          0.319104       0.344383       0.483701    0.485683   \n",
       "\n",
       "               Full Bath  1st Flr SF  Garage Area  Garage Cars  Gr Liv Area  \\\n",
       "Wood Deck SF    0.180358    0.206013     0.219300     0.227391     0.238396   \n",
       "Open Porch SF   0.255968    0.191891     0.218563     0.190875     0.321806   \n",
       "TotRms AbvGrd   0.517731    0.360595     0.295586     0.343422     0.807301   \n",
       "Fireplaces      0.245036    0.429662     0.302616     0.342560     0.460746   \n",
       "Full Bath       1.000000    0.341061     0.402743     0.468295     0.625981   \n",
       "1st Flr SF      0.341061    1.000000     0.477281     0.441351     0.515404   \n",
       "Garage Area     0.402743    0.477281     1.000000     0.890509     0.465366   \n",
       "Garage Cars     0.468295    0.441351     0.890509     1.000000     0.498711   \n",
       "Gr Liv Area     0.625981    0.515404     0.465366     0.498711     1.000000   \n",
       "Overall Qual    0.505102    0.490056     0.581106     0.609088     0.562903   \n",
       "SalePrice       0.518194    0.657119     0.662397     0.663485     0.698990   \n",
       "\n",
       "               Overall Qual  SalePrice  \n",
       "Wood Deck SF       0.260258   0.319104  \n",
       "Open Porch SF      0.319954   0.344383  \n",
       "TotRms AbvGrd      0.360203   0.483701  \n",
       "Fireplaces         0.386205   0.485683  \n",
       "Full Bath          0.505102   0.518194  \n",
       "1st Flr SF         0.490056   0.657119  \n",
       "Garage Area        0.581106   0.662397  \n",
       "Garage Cars        0.609088   0.663485  \n",
       "Gr Liv Area        0.562903   0.698990  \n",
       "Overall Qual       1.000000   0.804562  \n",
       "SalePrice          0.804562   1.000000  "
      ]
     },
     "execution_count": 9,
     "metadata": {},
     "output_type": "execute_result"
    }
   ],
   "source": [
    "heatmap_corrs = train_subset[strong_corrs.index].corr()\n",
    "heatmap_corrs"
   ]
  },
  {
   "cell_type": "code",
   "execution_count": 10,
   "metadata": {
    "collapsed": false
   },
   "outputs": [
    {
     "data": {
      "image/png": "[encoded data removed]",
      "text/plain": [
       "<matplotlib.figure.Figure at 0x108ad1a20>"
      ]
     },
     "metadata": {},
     "output_type": "display_data"
    }
   ],
   "source": [
    "plt.figure(figsize=(10,6))\n",
    "sns.heatmap(heatmap_corrs)\n",
    "plt.show()"
   ]
  },
  {
   "cell_type": "markdown",
   "metadata": {},
   "source": [
    "# Train Linear Regression model"
   ]
  },
  {
   "cell_type": "code",
   "execution_count": 11,
   "metadata": {
    "collapsed": true
   },
   "outputs": [],
   "source": [
    "from sklearn.linear_model import LinearRegression\n",
    "from sklearn.metrics import mean_squared_error\n",
    "import numpy as np"
   ]
  },
  {
   "cell_type": "code",
   "execution_count": 12,
   "metadata": {
    "collapsed": true
   },
   "outputs": [],
   "source": [
    "# because Garage Cars is highly correlated with Garage Area, drop Garage Cars\n",
    "# because TotRms AbvGrd is highly correlated with Gr Liv Area, drop TotRms AbvGrd\n",
    "final_corr_cols = strong_corrs.drop(['Garage Cars', 'TotRms AbvGrd'])\n",
    "features = final_corr_cols.drop(['SalePrice']).index\n",
    "target = 'SalePrice'\n",
    "\n",
    "clean_test = test[final_corr_cols.index].dropna()"
   ]
  },
  {
   "cell_type": "code",
   "execution_count": 13,
   "metadata": {
    "collapsed": false
   },
   "outputs": [
    {
     "name": "stderr",
     "output_type": "stream",
     "text": [
      "/Users/jeffrey.sternberg/Code/dataquest/lib/python3.5/site-packages/scipy/linalg/basic.py:1018: RuntimeWarning: internal gelsd driver lwork query error, required iwork dimension not returned. This is likely the result of LAPACK bug 0038, fixed in LAPACK 3.2.2 (released July 21, 2010). Falling back to 'gelss' driver.\n",
      "  warnings.warn(mesg, RuntimeWarning)\n"
     ]
    },
    {
     "data": {
      "text/plain": [
       "LinearRegression(copy_X=True, fit_intercept=True, n_jobs=1, normalize=False)"
      ]
     },
     "execution_count": 13,
     "metadata": {},
     "output_type": "execute_result"
    }
   ],
   "source": [
    "lr = LinearRegression()\n",
    "lr.fit(train[features], train[target])"
   ]
  },
  {
   "cell_type": "code",
   "execution_count": 14,
   "metadata": {
    "collapsed": false
   },
   "outputs": [
    {
     "name": "stdout",
     "output_type": "stream",
     "text": [
      "34173.9762919\n"
     ]
    }
   ],
   "source": [
    "train_predictions = lr.predict(train[features])\n",
    "train_mse = mean_squared_error(train_predictions, train[target])\n",
    "train_rmse = np.sqrt(train_mse)\n",
    "print(train_rmse)"
   ]
  },
  {
   "cell_type": "code",
   "execution_count": 15,
   "metadata": {
    "collapsed": false
   },
   "outputs": [
    {
     "name": "stdout",
     "output_type": "stream",
     "text": [
      "41032.0261202\n"
     ]
    }
   ],
   "source": [
    "test_predictions = lr.predict(clean_test[features])\n",
    "test_mse = mean_squared_error(test_predictions, clean_test[target])\n",
    "test_rmse = np.sqrt(test_mse)\n",
    "print(test_rmse)"
   ]
  },
  {
   "cell_type": "markdown",
   "metadata": {},
   "source": [
    "# Normalize / Feature Scaling"
   ]
  },
  {
   "cell_type": "code",
   "execution_count": 16,
   "metadata": {
    "collapsed": false
   },
   "outputs": [
    {
     "data": {
      "text/html": [
       "<div>\n",
       "<table border=\"1\" class=\"dataframe\">\n",
       "  <thead>\n",
       "    <tr style=\"text-align: right;\">\n",
       "      <th></th>\n",
       "      <th>Wood Deck SF</th>\n",
       "      <th>Open Porch SF</th>\n",
       "      <th>Fireplaces</th>\n",
       "      <th>Full Bath</th>\n",
       "      <th>1st Flr SF</th>\n",
       "      <th>Garage Area</th>\n",
       "      <th>Gr Liv Area</th>\n",
       "      <th>Overall Qual</th>\n",
       "    </tr>\n",
       "  </thead>\n",
       "  <tbody>\n",
       "    <tr>\n",
       "      <th>0</th>\n",
       "      <td>0.314371</td>\n",
       "      <td>0.113346</td>\n",
       "      <td>0.666667</td>\n",
       "      <td>0.25</td>\n",
       "      <td>0.552496</td>\n",
       "      <td>0.354839</td>\n",
       "      <td>0.404731</td>\n",
       "      <td>0.555556</td>\n",
       "    </tr>\n",
       "    <tr>\n",
       "      <th>1</th>\n",
       "      <td>0.209581</td>\n",
       "      <td>0.000000</td>\n",
       "      <td>0.000000</td>\n",
       "      <td>0.25</td>\n",
       "      <td>0.225473</td>\n",
       "      <td>0.490591</td>\n",
       "      <td>0.158458</td>\n",
       "      <td>0.444444</td>\n",
       "    </tr>\n",
       "    <tr>\n",
       "      <th>2</th>\n",
       "      <td>0.588323</td>\n",
       "      <td>0.065814</td>\n",
       "      <td>0.000000</td>\n",
       "      <td>0.25</td>\n",
       "      <td>0.411790</td>\n",
       "      <td>0.209677</td>\n",
       "      <td>0.298769</td>\n",
       "      <td>0.555556</td>\n",
       "    </tr>\n",
       "    <tr>\n",
       "      <th>3</th>\n",
       "      <td>0.000000</td>\n",
       "      <td>0.000000</td>\n",
       "      <td>0.666667</td>\n",
       "      <td>0.50</td>\n",
       "      <td>0.747849</td>\n",
       "      <td>0.350806</td>\n",
       "      <td>0.551847</td>\n",
       "      <td>0.666667</td>\n",
       "    </tr>\n",
       "    <tr>\n",
       "      <th>4</th>\n",
       "      <td>0.317365</td>\n",
       "      <td>0.062157</td>\n",
       "      <td>0.333333</td>\n",
       "      <td>0.50</td>\n",
       "      <td>0.239243</td>\n",
       "      <td>0.323925</td>\n",
       "      <td>0.395982</td>\n",
       "      <td>0.444444</td>\n",
       "    </tr>\n",
       "  </tbody>\n",
       "</table>\n",
       "</div>"
      ],
      "text/plain": [
       "   Wood Deck SF  Open Porch SF  Fireplaces  Full Bath  1st Flr SF  \\\n",
       "0      0.314371       0.113346    0.666667       0.25    0.552496   \n",
       "1      0.209581       0.000000    0.000000       0.25    0.225473   \n",
       "2      0.588323       0.065814    0.000000       0.25    0.411790   \n",
       "3      0.000000       0.000000    0.666667       0.50    0.747849   \n",
       "4      0.317365       0.062157    0.333333       0.50    0.239243   \n",
       "\n",
       "   Garage Area  Gr Liv Area  Overall Qual  \n",
       "0     0.354839     0.404731      0.555556  \n",
       "1     0.490591     0.158458      0.444444  \n",
       "2     0.209677     0.298769      0.555556  \n",
       "3     0.350806     0.551847      0.666667  \n",
       "4     0.323925     0.395982      0.444444  "
      ]
     },
     "execution_count": 16,
     "metadata": {},
     "output_type": "execute_result"
    }
   ],
   "source": [
    "# https://en.wikipedia.org/wiki/Feature_scaling\n",
    "# scale to [0,1] --> x - min / max - min\n",
    "train_scaled = train[features].apply(lambda x: (x - x.min()) / (x.max() - x.min()), axis=0)\n",
    "train_scaled.head()"
   ]
  },
  {
   "cell_type": "code",
   "execution_count": 17,
   "metadata": {
    "collapsed": false
   },
   "outputs": [
    {
     "data": {
      "text/plain": [
       "Open Porch SF    0.013938\n",
       "Full Bath        0.018621\n",
       "Garage Area      0.020347\n",
       "Gr Liv Area      0.023078\n",
       "Overall Qual     0.024496\n",
       "1st Flr SF       0.025814\n",
       "Wood Deck SF     0.033064\n",
       "Fireplaces       0.046589\n",
       "dtype: float64"
      ]
     },
     "execution_count": 17,
     "metadata": {},
     "output_type": "execute_result"
    }
   ],
   "source": [
    "sorted_vars = train_scaled.var().sort_values()\n",
    "sorted_vars"
   ]
  },
  {
   "cell_type": "code",
   "execution_count": 18,
   "metadata": {
    "collapsed": false
   },
   "outputs": [
    {
     "data": {
      "text/html": [
       "<div>\n",
       "<table border=\"1\" class=\"dataframe\">\n",
       "  <thead>\n",
       "    <tr style=\"text-align: right;\">\n",
       "      <th></th>\n",
       "      <th>Wood Deck SF</th>\n",
       "      <th>Open Porch SF</th>\n",
       "      <th>Fireplaces</th>\n",
       "      <th>Full Bath</th>\n",
       "      <th>1st Flr SF</th>\n",
       "      <th>Garage Area</th>\n",
       "      <th>Gr Liv Area</th>\n",
       "      <th>Overall Qual</th>\n",
       "    </tr>\n",
       "  </thead>\n",
       "  <tbody>\n",
       "    <tr>\n",
       "      <th>0</th>\n",
       "      <td>0.314371</td>\n",
       "      <td>0.113346</td>\n",
       "      <td>0.666667</td>\n",
       "      <td>0.25</td>\n",
       "      <td>0.552496</td>\n",
       "      <td>0.354839</td>\n",
       "      <td>0.404731</td>\n",
       "      <td>0.555556</td>\n",
       "    </tr>\n",
       "    <tr>\n",
       "      <th>1</th>\n",
       "      <td>0.209581</td>\n",
       "      <td>0.000000</td>\n",
       "      <td>0.000000</td>\n",
       "      <td>0.25</td>\n",
       "      <td>0.225473</td>\n",
       "      <td>0.490591</td>\n",
       "      <td>0.158458</td>\n",
       "      <td>0.444444</td>\n",
       "    </tr>\n",
       "    <tr>\n",
       "      <th>2</th>\n",
       "      <td>0.588323</td>\n",
       "      <td>0.065814</td>\n",
       "      <td>0.000000</td>\n",
       "      <td>0.25</td>\n",
       "      <td>0.411790</td>\n",
       "      <td>0.209677</td>\n",
       "      <td>0.298769</td>\n",
       "      <td>0.555556</td>\n",
       "    </tr>\n",
       "    <tr>\n",
       "      <th>3</th>\n",
       "      <td>0.000000</td>\n",
       "      <td>0.000000</td>\n",
       "      <td>0.666667</td>\n",
       "      <td>0.50</td>\n",
       "      <td>0.747849</td>\n",
       "      <td>0.350806</td>\n",
       "      <td>0.551847</td>\n",
       "      <td>0.666667</td>\n",
       "    </tr>\n",
       "    <tr>\n",
       "      <th>4</th>\n",
       "      <td>0.317365</td>\n",
       "      <td>0.062157</td>\n",
       "      <td>0.333333</td>\n",
       "      <td>0.50</td>\n",
       "      <td>0.239243</td>\n",
       "      <td>0.323925</td>\n",
       "      <td>0.395982</td>\n",
       "      <td>0.444444</td>\n",
       "    </tr>\n",
       "  </tbody>\n",
       "</table>\n",
       "</div>"
      ],
      "text/plain": [
       "   Wood Deck SF  Open Porch SF  Fireplaces  Full Bath  1st Flr SF  \\\n",
       "0      0.314371       0.113346    0.666667       0.25    0.552496   \n",
       "1      0.209581       0.000000    0.000000       0.25    0.225473   \n",
       "2      0.588323       0.065814    0.000000       0.25    0.411790   \n",
       "3      0.000000       0.000000    0.666667       0.50    0.747849   \n",
       "4      0.317365       0.062157    0.333333       0.50    0.239243   \n",
       "\n",
       "   Garage Area  Gr Liv Area  Overall Qual  \n",
       "0     0.354839     0.404731      0.555556  \n",
       "1     0.490591     0.158458      0.444444  \n",
       "2     0.209677     0.298769      0.555556  \n",
       "3     0.350806     0.551847      0.666667  \n",
       "4     0.323925     0.395982      0.444444  "
      ]
     },
     "execution_count": 18,
     "metadata": {},
     "output_type": "execute_result"
    }
   ],
   "source": [
    "# use sklearn for the same thing (defaults to range 0, 1)\n",
    "from sklearn.preprocessing import MinMaxScaler\n",
    "min_max_scaler = MinMaxScaler()\n",
    "train_scaled = min_max_scaler.fit_transform(train[features])\n",
    "train_scaled = pd.DataFrame(train_scaled, columns=train[features].columns)\n",
    "train_scaled.head()"
   ]
  },
  {
   "cell_type": "code",
   "execution_count": 19,
   "metadata": {
    "collapsed": false
   },
   "outputs": [
    {
     "data": {
      "text/plain": [
       "Open Porch SF    0.013938\n",
       "Full Bath        0.018621\n",
       "Garage Area      0.020347\n",
       "Gr Liv Area      0.023078\n",
       "Overall Qual     0.024496\n",
       "1st Flr SF       0.025814\n",
       "Wood Deck SF     0.033064\n",
       "Fireplaces       0.046589\n",
       "dtype: float64"
      ]
     },
     "execution_count": 19,
     "metadata": {},
     "output_type": "execute_result"
    }
   ],
   "source": [
    "sorted_vars = train_scaled.var().sort_values()\n",
    "sorted_vars"
   ]
  },
  {
   "cell_type": "code",
   "execution_count": 20,
   "metadata": {
    "collapsed": false
   },
   "outputs": [
    {
     "data": {
      "text/html": [
       "<div>\n",
       "<table border=\"1\" class=\"dataframe\">\n",
       "  <thead>\n",
       "    <tr style=\"text-align: right;\">\n",
       "      <th></th>\n",
       "      <th>Wood Deck SF</th>\n",
       "      <th>Open Porch SF</th>\n",
       "      <th>Fireplaces</th>\n",
       "      <th>Full Bath</th>\n",
       "      <th>1st Flr SF</th>\n",
       "      <th>Garage Area</th>\n",
       "      <th>Gr Liv Area</th>\n",
       "      <th>Overall Qual</th>\n",
       "    </tr>\n",
       "  </thead>\n",
       "  <tbody>\n",
       "    <tr>\n",
       "      <th>count</th>\n",
       "      <td>1460.000000</td>\n",
       "      <td>1460.000000</td>\n",
       "      <td>1460.000000</td>\n",
       "      <td>1460.000000</td>\n",
       "      <td>1460.000000</td>\n",
       "      <td>1460.000000</td>\n",
       "      <td>1460.000000</td>\n",
       "      <td>1460.000000</td>\n",
       "    </tr>\n",
       "    <tr>\n",
       "      <th>mean</th>\n",
       "      <td>0.138207</td>\n",
       "      <td>0.084983</td>\n",
       "      <td>0.198402</td>\n",
       "      <td>0.391438</td>\n",
       "      <td>0.335449</td>\n",
       "      <td>0.318119</td>\n",
       "      <td>0.351245</td>\n",
       "      <td>0.567580</td>\n",
       "    </tr>\n",
       "    <tr>\n",
       "      <th>std</th>\n",
       "      <td>0.181836</td>\n",
       "      <td>0.118058</td>\n",
       "      <td>0.215846</td>\n",
       "      <td>0.136459</td>\n",
       "      <td>0.160668</td>\n",
       "      <td>0.142642</td>\n",
       "      <td>0.151916</td>\n",
       "      <td>0.156512</td>\n",
       "    </tr>\n",
       "    <tr>\n",
       "      <th>min</th>\n",
       "      <td>0.000000</td>\n",
       "      <td>0.000000</td>\n",
       "      <td>0.000000</td>\n",
       "      <td>0.000000</td>\n",
       "      <td>0.000000</td>\n",
       "      <td>0.000000</td>\n",
       "      <td>0.000000</td>\n",
       "      <td>0.000000</td>\n",
       "    </tr>\n",
       "    <tr>\n",
       "      <th>25%</th>\n",
       "      <td>0.000000</td>\n",
       "      <td>0.000000</td>\n",
       "      <td>0.000000</td>\n",
       "      <td>0.250000</td>\n",
       "      <td>0.211704</td>\n",
       "      <td>0.224798</td>\n",
       "      <td>0.238091</td>\n",
       "      <td>0.444444</td>\n",
       "    </tr>\n",
       "    <tr>\n",
       "      <th>50%</th>\n",
       "      <td>0.000000</td>\n",
       "      <td>0.047532</td>\n",
       "      <td>0.333333</td>\n",
       "      <td>0.500000</td>\n",
       "      <td>0.307229</td>\n",
       "      <td>0.322581</td>\n",
       "      <td>0.339274</td>\n",
       "      <td>0.555556</td>\n",
       "    </tr>\n",
       "    <tr>\n",
       "      <th>75%</th>\n",
       "      <td>0.251497</td>\n",
       "      <td>0.127971</td>\n",
       "      <td>0.333333</td>\n",
       "      <td>0.500000</td>\n",
       "      <td>0.434703</td>\n",
       "      <td>0.387097</td>\n",
       "      <td>0.429439</td>\n",
       "      <td>0.666667</td>\n",
       "    </tr>\n",
       "    <tr>\n",
       "      <th>max</th>\n",
       "      <td>1.000000</td>\n",
       "      <td>1.000000</td>\n",
       "      <td>1.000000</td>\n",
       "      <td>1.000000</td>\n",
       "      <td>1.000000</td>\n",
       "      <td>1.000000</td>\n",
       "      <td>1.000000</td>\n",
       "      <td>1.000000</td>\n",
       "    </tr>\n",
       "  </tbody>\n",
       "</table>\n",
       "</div>"
      ],
      "text/plain": [
       "       Wood Deck SF  Open Porch SF   Fireplaces    Full Bath   1st Flr SF  \\\n",
       "count   1460.000000    1460.000000  1460.000000  1460.000000  1460.000000   \n",
       "mean       0.138207       0.084983     0.198402     0.391438     0.335449   \n",
       "std        0.181836       0.118058     0.215846     0.136459     0.160668   \n",
       "min        0.000000       0.000000     0.000000     0.000000     0.000000   \n",
       "25%        0.000000       0.000000     0.000000     0.250000     0.211704   \n",
       "50%        0.000000       0.047532     0.333333     0.500000     0.307229   \n",
       "75%        0.251497       0.127971     0.333333     0.500000     0.434703   \n",
       "max        1.000000       1.000000     1.000000     1.000000     1.000000   \n",
       "\n",
       "       Garage Area  Gr Liv Area  Overall Qual  \n",
       "count  1460.000000  1460.000000   1460.000000  \n",
       "mean      0.318119     0.351245      0.567580  \n",
       "std       0.142642     0.151916      0.156512  \n",
       "min       0.000000     0.000000      0.000000  \n",
       "25%       0.224798     0.238091      0.444444  \n",
       "50%       0.322581     0.339274      0.555556  \n",
       "75%       0.387097     0.429439      0.666667  \n",
       "max       1.000000     1.000000      1.000000  "
      ]
     },
     "execution_count": 20,
     "metadata": {},
     "output_type": "execute_result"
    }
   ],
   "source": [
    "train_scaled.describe()"
   ]
  },
  {
   "cell_type": "code",
   "execution_count": 21,
   "metadata": {
    "collapsed": false
   },
   "outputs": [
    {
     "data": {
      "text/html": [
       "<div>\n",
       "<table border=\"1\" class=\"dataframe\">\n",
       "  <thead>\n",
       "    <tr style=\"text-align: right;\">\n",
       "      <th></th>\n",
       "      <th>Wood Deck SF</th>\n",
       "      <th>Open Porch SF</th>\n",
       "      <th>Fireplaces</th>\n",
       "      <th>Full Bath</th>\n",
       "      <th>1st Flr SF</th>\n",
       "      <th>Garage Area</th>\n",
       "      <th>Gr Liv Area</th>\n",
       "      <th>Overall Qual</th>\n",
       "    </tr>\n",
       "  </thead>\n",
       "  <tbody>\n",
       "    <tr>\n",
       "      <th>count</th>\n",
       "      <td>1460.000000</td>\n",
       "      <td>1460.000000</td>\n",
       "      <td>1460.000000</td>\n",
       "      <td>1460.000000</td>\n",
       "      <td>1460.000000</td>\n",
       "      <td>1460.000000</td>\n",
       "      <td>1460.000000</td>\n",
       "      <td>1460.000000</td>\n",
       "    </tr>\n",
       "    <tr>\n",
       "      <th>mean</th>\n",
       "      <td>0.138207</td>\n",
       "      <td>0.084983</td>\n",
       "      <td>0.198402</td>\n",
       "      <td>0.391438</td>\n",
       "      <td>0.427145</td>\n",
       "      <td>0.318119</td>\n",
       "      <td>0.426837</td>\n",
       "      <td>0.610822</td>\n",
       "    </tr>\n",
       "    <tr>\n",
       "      <th>std</th>\n",
       "      <td>0.181836</td>\n",
       "      <td>0.118058</td>\n",
       "      <td>0.215846</td>\n",
       "      <td>0.136459</td>\n",
       "      <td>0.138498</td>\n",
       "      <td>0.142642</td>\n",
       "      <td>0.134215</td>\n",
       "      <td>0.140861</td>\n",
       "    </tr>\n",
       "    <tr>\n",
       "      <th>min</th>\n",
       "      <td>0.000000</td>\n",
       "      <td>0.000000</td>\n",
       "      <td>0.000000</td>\n",
       "      <td>0.000000</td>\n",
       "      <td>0.137982</td>\n",
       "      <td>0.000000</td>\n",
       "      <td>0.116519</td>\n",
       "      <td>0.100000</td>\n",
       "    </tr>\n",
       "    <tr>\n",
       "      <th>25%</th>\n",
       "      <td>0.000000</td>\n",
       "      <td>0.000000</td>\n",
       "      <td>0.000000</td>\n",
       "      <td>0.250000</td>\n",
       "      <td>0.320475</td>\n",
       "      <td>0.224798</td>\n",
       "      <td>0.326868</td>\n",
       "      <td>0.500000</td>\n",
       "    </tr>\n",
       "    <tr>\n",
       "      <th>50%</th>\n",
       "      <td>0.000000</td>\n",
       "      <td>0.047532</td>\n",
       "      <td>0.333333</td>\n",
       "      <td>0.500000</td>\n",
       "      <td>0.402819</td>\n",
       "      <td>0.322581</td>\n",
       "      <td>0.416261</td>\n",
       "      <td>0.600000</td>\n",
       "    </tr>\n",
       "    <tr>\n",
       "      <th>75%</th>\n",
       "      <td>0.251497</td>\n",
       "      <td>0.127971</td>\n",
       "      <td>0.333333</td>\n",
       "      <td>0.500000</td>\n",
       "      <td>0.512704</td>\n",
       "      <td>0.387097</td>\n",
       "      <td>0.495920</td>\n",
       "      <td>0.700000</td>\n",
       "    </tr>\n",
       "    <tr>\n",
       "      <th>max</th>\n",
       "      <td>1.000000</td>\n",
       "      <td>1.000000</td>\n",
       "      <td>1.000000</td>\n",
       "      <td>1.000000</td>\n",
       "      <td>1.000000</td>\n",
       "      <td>1.000000</td>\n",
       "      <td>1.000000</td>\n",
       "      <td>1.000000</td>\n",
       "    </tr>\n",
       "  </tbody>\n",
       "</table>\n",
       "</div>"
      ],
      "text/plain": [
       "       Wood Deck SF  Open Porch SF   Fireplaces    Full Bath   1st Flr SF  \\\n",
       "count   1460.000000    1460.000000  1460.000000  1460.000000  1460.000000   \n",
       "mean       0.138207       0.084983     0.198402     0.391438     0.427145   \n",
       "std        0.181836       0.118058     0.215846     0.136459     0.138498   \n",
       "min        0.000000       0.000000     0.000000     0.000000     0.137982   \n",
       "25%        0.000000       0.000000     0.000000     0.250000     0.320475   \n",
       "50%        0.000000       0.047532     0.333333     0.500000     0.402819   \n",
       "75%        0.251497       0.127971     0.333333     0.500000     0.512704   \n",
       "max        1.000000       1.000000     1.000000     1.000000     1.000000   \n",
       "\n",
       "       Garage Area  Gr Liv Area  Overall Qual  \n",
       "count  1460.000000  1460.000000   1460.000000  \n",
       "mean      0.318119     0.426837      0.610822  \n",
       "std       0.142642     0.134215      0.140861  \n",
       "min       0.000000     0.116519      0.100000  \n",
       "25%       0.224798     0.326868      0.500000  \n",
       "50%       0.322581     0.416261      0.600000  \n",
       "75%       0.387097     0.495920      0.700000  \n",
       "max       1.000000     1.000000      1.000000  "
      ]
     },
     "execution_count": 21,
     "metadata": {},
     "output_type": "execute_result"
    }
   ],
   "source": [
    "# dataquest suggests this formula, which doesn't appear correct.\n",
    "train_scaled = train[features]/train[features].max()\n",
    "train_scaled.describe()"
   ]
  },
  {
   "cell_type": "markdown",
   "metadata": {},
   "source": [
    "# Drop low variance features and re-train"
   ]
  },
  {
   "cell_type": "code",
   "execution_count": 22,
   "metadata": {
    "collapsed": false
   },
   "outputs": [
    {
     "data": {
      "text/plain": [
       "Index(['Wood Deck SF', 'Fireplaces', 'Full Bath', '1st Flr SF', 'Garage Area',\n",
       "       'Gr Liv Area', 'Overall Qual'],\n",
       "      dtype='object')"
      ]
     },
     "execution_count": 22,
     "metadata": {},
     "output_type": "execute_result"
    }
   ],
   "source": [
    "features = features.drop('Open Porch SF')\n",
    "features"
   ]
  },
  {
   "cell_type": "code",
   "execution_count": 23,
   "metadata": {
    "collapsed": false
   },
   "outputs": [
    {
     "data": {
      "text/plain": [
       "LinearRegression(copy_X=True, fit_intercept=True, n_jobs=1, normalize=False)"
      ]
     },
     "execution_count": 23,
     "metadata": {},
     "output_type": "execute_result"
    }
   ],
   "source": [
    "lr = LinearRegression()\n",
    "lr.fit(train[features], train[target])"
   ]
  },
  {
   "cell_type": "code",
   "execution_count": 24,
   "metadata": {
    "collapsed": false
   },
   "outputs": [
    {
     "name": "stdout",
     "output_type": "stream",
     "text": [
      "34372.6967078\n"
     ]
    }
   ],
   "source": [
    "train_predictions = lr.predict(train[features])\n",
    "train_mse = mean_squared_error(train_predictions, train[target])\n",
    "train_rmse = np.sqrt(train_mse)\n",
    "print(train_rmse)"
   ]
  },
  {
   "cell_type": "code",
   "execution_count": 25,
   "metadata": {
    "collapsed": false
   },
   "outputs": [
    {
     "name": "stdout",
     "output_type": "stream",
     "text": [
      "40591.4270244\n"
     ]
    }
   ],
   "source": [
    "test_predictions = lr.predict(clean_test[features])\n",
    "test_mse = mean_squared_error(test_predictions, clean_test[target])\n",
    "test_rmse = np.sqrt(test_mse)\n",
    "print(test_rmse)"
   ]
  },
  {
   "cell_type": "code",
   "execution_count": null,
   "metadata": {
    "collapsed": true
   },
   "outputs": [],
   "source": []
  }
 ],
 "metadata": {
  "kernelspec": {
   "display_name": "Python 3 (dataquest)",
   "language": "python",
   "name": "other-env"
  },
  "language_info": {
   "codemirror_mode": {
    "name": "ipython",
    "version": 3
   },
   "file_extension": ".py",
   "mimetype": "text/x-python",
   "name": "python",
   "nbconvert_exporter": "python",
   "pygments_lexer": "ipython3",
   "version": "3.5.1"
  }
 },
 "nbformat": 4,
 "nbformat_minor": 0
}
