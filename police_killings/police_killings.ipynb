{
 "cells": [
  {
   "cell_type": "code",
   "execution_count": 42,
   "metadata": {
    "collapsed": true
   },
   "outputs": [],
   "source": [
    "import pandas as pd\n",
    "import matplotlib.pyplot as plt\n",
    "import numpy as np\n",
    "%matplotlib inline"
   ]
  },
  {
   "cell_type": "code",
   "execution_count": 2,
   "metadata": {
    "collapsed": true
   },
   "outputs": [],
   "source": [
    "police_killings = pd.read_csv(\"police_killings.csv\", encoding=\"iso-8859-1\")"
   ]
  },
  {
   "cell_type": "code",
   "execution_count": 3,
   "metadata": {
    "collapsed": false
   },
   "outputs": [
    {
     "data": {
      "text/html": [
       "<div style=\"max-height:1000px;max-width:1500px;overflow:auto;\">\n",
       "<table border=\"1\" class=\"dataframe\">\n",
       "  <thead>\n",
       "    <tr style=\"text-align: right;\">\n",
       "      <th></th>\n",
       "      <th>name</th>\n",
       "      <th>age</th>\n",
       "      <th>gender</th>\n",
       "      <th>raceethnicity</th>\n",
       "      <th>month</th>\n",
       "      <th>day</th>\n",
       "      <th>year</th>\n",
       "      <th>streetaddress</th>\n",
       "      <th>city</th>\n",
       "      <th>state</th>\n",
       "      <th>...</th>\n",
       "      <th>share_hispanic</th>\n",
       "      <th>p_income</th>\n",
       "      <th>h_income</th>\n",
       "      <th>county_income</th>\n",
       "      <th>comp_income</th>\n",
       "      <th>county_bucket</th>\n",
       "      <th>nat_bucket</th>\n",
       "      <th>pov</th>\n",
       "      <th>urate</th>\n",
       "      <th>college</th>\n",
       "    </tr>\n",
       "  </thead>\n",
       "  <tbody>\n",
       "    <tr>\n",
       "      <th>0</th>\n",
       "      <td> A'donte Washington</td>\n",
       "      <td> 16</td>\n",
       "      <td> Male</td>\n",
       "      <td>           Black</td>\n",
       "      <td> February</td>\n",
       "      <td> 23</td>\n",
       "      <td> 2015</td>\n",
       "      <td>           Clearview Ln</td>\n",
       "      <td>    Millbrook</td>\n",
       "      <td> AL</td>\n",
       "      <td>...</td>\n",
       "      <td>  5.6</td>\n",
       "      <td> 28375</td>\n",
       "      <td> 51367</td>\n",
       "      <td> 54766</td>\n",
       "      <td> 0.937936</td>\n",
       "      <td> 3</td>\n",
       "      <td> 3</td>\n",
       "      <td> 14.1</td>\n",
       "      <td> 0.097686</td>\n",
       "      <td> 0.168510</td>\n",
       "    </tr>\n",
       "    <tr>\n",
       "      <th>1</th>\n",
       "      <td>     Aaron Rutledge</td>\n",
       "      <td> 27</td>\n",
       "      <td> Male</td>\n",
       "      <td>           White</td>\n",
       "      <td>    April</td>\n",
       "      <td>  2</td>\n",
       "      <td> 2015</td>\n",
       "      <td> 300 block Iris Park Dr</td>\n",
       "      <td>    Pineville</td>\n",
       "      <td> LA</td>\n",
       "      <td>...</td>\n",
       "      <td>  0.5</td>\n",
       "      <td> 14678</td>\n",
       "      <td> 27972</td>\n",
       "      <td> 40930</td>\n",
       "      <td> 0.683411</td>\n",
       "      <td> 2</td>\n",
       "      <td> 1</td>\n",
       "      <td> 28.8</td>\n",
       "      <td> 0.065724</td>\n",
       "      <td> 0.111402</td>\n",
       "    </tr>\n",
       "    <tr>\n",
       "      <th>2</th>\n",
       "      <td>        Aaron Siler</td>\n",
       "      <td> 26</td>\n",
       "      <td> Male</td>\n",
       "      <td>           White</td>\n",
       "      <td>    March</td>\n",
       "      <td> 14</td>\n",
       "      <td> 2015</td>\n",
       "      <td>   22nd Ave and 56th St</td>\n",
       "      <td>      Kenosha</td>\n",
       "      <td> WI</td>\n",
       "      <td>...</td>\n",
       "      <td> 16.8</td>\n",
       "      <td> 25286</td>\n",
       "      <td> 45365</td>\n",
       "      <td> 54930</td>\n",
       "      <td> 0.825869</td>\n",
       "      <td> 2</td>\n",
       "      <td> 3</td>\n",
       "      <td> 14.6</td>\n",
       "      <td> 0.166293</td>\n",
       "      <td> 0.147312</td>\n",
       "    </tr>\n",
       "    <tr>\n",
       "      <th>3</th>\n",
       "      <td>       Aaron Valdez</td>\n",
       "      <td> 25</td>\n",
       "      <td> Male</td>\n",
       "      <td> Hispanic/Latino</td>\n",
       "      <td>    March</td>\n",
       "      <td> 11</td>\n",
       "      <td> 2015</td>\n",
       "      <td>      3000 Seminole Ave</td>\n",
       "      <td>   South Gate</td>\n",
       "      <td> CA</td>\n",
       "      <td>...</td>\n",
       "      <td> 98.8</td>\n",
       "      <td> 17194</td>\n",
       "      <td> 48295</td>\n",
       "      <td> 55909</td>\n",
       "      <td> 0.863814</td>\n",
       "      <td> 3</td>\n",
       "      <td> 3</td>\n",
       "      <td> 11.7</td>\n",
       "      <td> 0.124827</td>\n",
       "      <td> 0.050133</td>\n",
       "    </tr>\n",
       "    <tr>\n",
       "      <th>4</th>\n",
       "      <td>       Adam Jovicic</td>\n",
       "      <td> 29</td>\n",
       "      <td> Male</td>\n",
       "      <td>           White</td>\n",
       "      <td>    March</td>\n",
       "      <td> 19</td>\n",
       "      <td> 2015</td>\n",
       "      <td>         364 Hiwood Ave</td>\n",
       "      <td> Munroe Falls</td>\n",
       "      <td> OH</td>\n",
       "      <td>...</td>\n",
       "      <td>  1.7</td>\n",
       "      <td> 33954</td>\n",
       "      <td> 68785</td>\n",
       "      <td> 49669</td>\n",
       "      <td> 1.384868</td>\n",
       "      <td> 5</td>\n",
       "      <td> 4</td>\n",
       "      <td>  1.9</td>\n",
       "      <td> 0.063550</td>\n",
       "      <td> 0.403954</td>\n",
       "    </tr>\n",
       "  </tbody>\n",
       "</table>\n",
       "<p>5 rows × 34 columns</p>\n",
       "</div>"
      ],
      "text/plain": [
       "                 name age gender    raceethnicity     month  day  year  \\\n",
       "0  A'donte Washington  16   Male            Black  February   23  2015   \n",
       "1      Aaron Rutledge  27   Male            White     April    2  2015   \n",
       "2         Aaron Siler  26   Male            White     March   14  2015   \n",
       "3        Aaron Valdez  25   Male  Hispanic/Latino     March   11  2015   \n",
       "4        Adam Jovicic  29   Male            White     March   19  2015   \n",
       "\n",
       "            streetaddress          city state    ...     share_hispanic  \\\n",
       "0            Clearview Ln     Millbrook    AL    ...                5.6   \n",
       "1  300 block Iris Park Dr     Pineville    LA    ...                0.5   \n",
       "2    22nd Ave and 56th St       Kenosha    WI    ...               16.8   \n",
       "3       3000 Seminole Ave    South Gate    CA    ...               98.8   \n",
       "4          364 Hiwood Ave  Munroe Falls    OH    ...                1.7   \n",
       "\n",
       "   p_income  h_income  county_income  comp_income  county_bucket  nat_bucket  \\\n",
       "0     28375     51367          54766     0.937936              3           3   \n",
       "1     14678     27972          40930     0.683411              2           1   \n",
       "2     25286     45365          54930     0.825869              2           3   \n",
       "3     17194     48295          55909     0.863814              3           3   \n",
       "4     33954     68785          49669     1.384868              5           4   \n",
       "\n",
       "    pov     urate   college  \n",
       "0  14.1  0.097686  0.168510  \n",
       "1  28.8  0.065724  0.111402  \n",
       "2  14.6  0.166293  0.147312  \n",
       "3  11.7  0.124827  0.050133  \n",
       "4   1.9  0.063550  0.403954  \n",
       "\n",
       "[5 rows x 34 columns]"
      ]
     },
     "execution_count": 3,
     "metadata": {},
     "output_type": "execute_result"
    }
   ],
   "source": [
    "police_killings.head()"
   ]
  },
  {
   "cell_type": "code",
   "execution_count": 4,
   "metadata": {
    "collapsed": false
   },
   "outputs": [
    {
     "name": "stdout",
     "output_type": "stream",
     "text": [
      "Index(['name', 'age', 'gender', 'raceethnicity', 'month', 'day', 'year', 'streetaddress', 'city', 'state', 'latitude', 'longitude', 'state_fp', 'county_fp', 'tract_ce', 'geo_id', 'county_id', 'namelsad', 'lawenforcementagency', 'cause', 'armed', 'pop', 'share_white', 'share_black', 'share_hispanic', 'p_income', 'h_income', 'county_income', 'comp_income', 'county_bucket', 'nat_bucket', 'pov', 'urate', 'college'], dtype='object')\n"
     ]
    }
   ],
   "source": [
    "print(police_killings.columns)"
   ]
  },
  {
   "cell_type": "code",
   "execution_count": 5,
   "metadata": {
    "collapsed": false
   },
   "outputs": [
    {
     "data": {
      "text/plain": [
       "White                     236\n",
       "Black                     135\n",
       "Hispanic/Latino            67\n",
       "Unknown                    15\n",
       "Asian/Pacific Islander     10\n",
       "Native American             4\n",
       "dtype: int64"
      ]
     },
     "execution_count": 5,
     "metadata": {},
     "output_type": "execute_result"
    }
   ],
   "source": [
    "police_killings[\"raceethnicity\"].value_counts()"
   ]
  },
  {
   "cell_type": "code",
   "execution_count": 100,
   "metadata": {
    "collapsed": false
   },
   "outputs": [
    {
     "data": {
      "image/png": "[encoded data removed]",
      "text/plain": [
       "<matplotlib.figure.Figure at 0x7f8cdd77e940>"
      ]
     },
     "metadata": {},
     "output_type": "display_data"
    }
   ],
   "source": [
    "police_killings[\"raceethnicity\"].value_counts().plot(kind=\"bar\")\n",
    "plt.show()"
   ]
  },
  {
   "cell_type": "code",
   "execution_count": 99,
   "metadata": {
    "collapsed": false
   },
   "outputs": [
    {
     "data": {
      "text/plain": [
       "White                     0.505353\n",
       "Black                     0.289079\n",
       "Hispanic/Latino           0.143469\n",
       "Unknown                   0.032120\n",
       "Asian/Pacific Islander    0.021413\n",
       "Native American           0.008565\n",
       "dtype: float64"
      ]
     },
     "execution_count": 99,
     "metadata": {},
     "output_type": "execute_result"
    }
   ],
   "source": [
    "police_killings[\"raceethnicity\"].value_counts() / sum(police_killings[\"raceethnicity\"].value_counts())"
   ]
  },
  {
   "cell_type": "markdown",
   "metadata": {},
   "source": [
    "### Police killings by race\n",
    "About 50% of the police killings sample are for white people, but about 77% of the population in the US as a whole is white. At the same time, almost 29% of people killed by police in this dataset were black, whereas only 13% of the US population as a whole is black. Clearly, blacks are over-represented in the police killings dataset, and whites are under-represented."
   ]
  },
  {
   "cell_type": "code",
   "execution_count": 10,
   "metadata": {
    "collapsed": true
   },
   "outputs": [],
   "source": [
    "income = police_killings[police_killings[\"p_income\"] != \"-\"][\"p_income\"].astype(int)"
   ]
  },
  {
   "cell_type": "code",
   "execution_count": 16,
   "metadata": {
    "collapsed": false
   },
   "outputs": [
    {
     "data": {
      "text/plain": [
       "<matplotlib.axes._subplots.AxesSubplot at 0x7f8cdd8c1128>"
      ]
     },
     "execution_count": 16,
     "metadata": {},
     "output_type": "execute_result"
    },
    {
     "data": {
      "image/png": "[encoded data removed]",
      "text/plain": [
       "<matplotlib.figure.Figure at 0x7f8cdd8babe0>"
      ]
     },
     "metadata": {},
     "output_type": "display_data"
    }
   ],
   "source": [
    "income.hist(bins=50, figsize=(15,6))"
   ]
  },
  {
   "cell_type": "code",
   "execution_count": 19,
   "metadata": {
    "collapsed": false
   },
   "outputs": [],
   "source": [
    "state_pop = pd.read_csv(\"state_population.csv\")"
   ]
  },
  {
   "cell_type": "code",
   "execution_count": 22,
   "metadata": {
    "collapsed": false
   },
   "outputs": [],
   "source": [
    "counts = police_killings[\"state_fp\"].value_counts()"
   ]
  },
  {
   "cell_type": "code",
   "execution_count": 23,
   "metadata": {
    "collapsed": true
   },
   "outputs": [],
   "source": [
    "states = pd.DataFrame({\n",
    "        \"STATE\": counts.index,\n",
    "        \"shootings\": counts\n",
    "    })"
   ]
  },
  {
   "cell_type": "code",
   "execution_count": 24,
   "metadata": {
    "collapsed": false
   },
   "outputs": [
    {
     "data": {
      "text/html": [
       "<div style=\"max-height:1000px;max-width:1500px;overflow:auto;\">\n",
       "<table border=\"1\" class=\"dataframe\">\n",
       "  <thead>\n",
       "    <tr style=\"text-align: right;\">\n",
       "      <th></th>\n",
       "      <th>STATE</th>\n",
       "      <th>shootings</th>\n",
       "    </tr>\n",
       "  </thead>\n",
       "  <tbody>\n",
       "    <tr>\n",
       "      <th>6 </th>\n",
       "      <td>  6</td>\n",
       "      <td> 74</td>\n",
       "    </tr>\n",
       "    <tr>\n",
       "      <th>48</th>\n",
       "      <td> 48</td>\n",
       "      <td> 47</td>\n",
       "    </tr>\n",
       "    <tr>\n",
       "      <th>12</th>\n",
       "      <td> 12</td>\n",
       "      <td> 29</td>\n",
       "    </tr>\n",
       "    <tr>\n",
       "      <th>4 </th>\n",
       "      <td>  4</td>\n",
       "      <td> 25</td>\n",
       "    </tr>\n",
       "    <tr>\n",
       "      <th>40</th>\n",
       "      <td> 40</td>\n",
       "      <td> 22</td>\n",
       "    </tr>\n",
       "  </tbody>\n",
       "</table>\n",
       "</div>"
      ],
      "text/plain": [
       "    STATE  shootings\n",
       "6       6         74\n",
       "48     48         47\n",
       "12     12         29\n",
       "4       4         25\n",
       "40     40         22"
      ]
     },
     "execution_count": 24,
     "metadata": {},
     "output_type": "execute_result"
    }
   ],
   "source": [
    "states.head()"
   ]
  },
  {
   "cell_type": "code",
   "execution_count": 26,
   "metadata": {
    "collapsed": false
   },
   "outputs": [],
   "source": [
    "states = pd.merge(state_pop, states, on=\"STATE\")"
   ]
  },
  {
   "cell_type": "code",
   "execution_count": 27,
   "metadata": {
    "collapsed": true
   },
   "outputs": [],
   "source": [
    "states[\"pop_millions\"] = states[\"POPESTIMATE2015\"] / 1000000"
   ]
  },
  {
   "cell_type": "code",
   "execution_count": 28,
   "metadata": {
    "collapsed": false
   },
   "outputs": [
    {
     "data": {
      "text/plain": [
       "0     4.858979\n",
       "1     0.738432\n",
       "2     6.828065\n",
       "3     2.978204\n",
       "4    39.144818\n",
       "Name: pop_millions, dtype: float64"
      ]
     },
     "execution_count": 28,
     "metadata": {},
     "output_type": "execute_result"
    }
   ],
   "source": [
    "states[\"pop_millions\"].head()"
   ]
  },
  {
   "cell_type": "code",
   "execution_count": 29,
   "metadata": {
    "collapsed": true
   },
   "outputs": [],
   "source": [
    "states[\"rate\"] = states[\"shootings\"] / states[\"pop_millions\"]"
   ]
  },
  {
   "cell_type": "code",
   "execution_count": 31,
   "metadata": {
    "collapsed": false
   },
   "outputs": [
    {
     "data": {
      "text/html": [
       "<div style=\"max-height:1000px;max-width:1500px;overflow:auto;\">\n",
       "<table border=\"1\" class=\"dataframe\">\n",
       "  <thead>\n",
       "    <tr style=\"text-align: right;\">\n",
       "      <th></th>\n",
       "      <th>SUMLEV</th>\n",
       "      <th>REGION</th>\n",
       "      <th>DIVISION</th>\n",
       "      <th>STATE</th>\n",
       "      <th>NAME</th>\n",
       "      <th>POPESTIMATE2015</th>\n",
       "      <th>POPEST18PLUS2015</th>\n",
       "      <th>PCNT_POPEST18PLUS</th>\n",
       "      <th>shootings</th>\n",
       "      <th>pop_millions</th>\n",
       "      <th>rate</th>\n",
       "    </tr>\n",
       "  </thead>\n",
       "  <tbody>\n",
       "    <tr>\n",
       "      <th>6 </th>\n",
       "      <td> 40</td>\n",
       "      <td> 1</td>\n",
       "      <td> 1</td>\n",
       "      <td>  9</td>\n",
       "      <td>   Connecticut</td>\n",
       "      <td>  3590886</td>\n",
       "      <td>  2826827</td>\n",
       "      <td> 78.7</td>\n",
       "      <td>  1</td>\n",
       "      <td>  3.590886</td>\n",
       "      <td> 0.278483</td>\n",
       "    </tr>\n",
       "    <tr>\n",
       "      <th>37</th>\n",
       "      <td> 40</td>\n",
       "      <td> 1</td>\n",
       "      <td> 2</td>\n",
       "      <td> 42</td>\n",
       "      <td>  Pennsylvania</td>\n",
       "      <td> 12802503</td>\n",
       "      <td> 10112229</td>\n",
       "      <td> 79.0</td>\n",
       "      <td>  7</td>\n",
       "      <td> 12.802503</td>\n",
       "      <td> 0.546768</td>\n",
       "    </tr>\n",
       "    <tr>\n",
       "      <th>15</th>\n",
       "      <td> 40</td>\n",
       "      <td> 2</td>\n",
       "      <td> 4</td>\n",
       "      <td> 19</td>\n",
       "      <td>          Iowa</td>\n",
       "      <td>  3123899</td>\n",
       "      <td>  2395103</td>\n",
       "      <td> 76.7</td>\n",
       "      <td>  2</td>\n",
       "      <td>  3.123899</td>\n",
       "      <td> 0.640226</td>\n",
       "    </tr>\n",
       "    <tr>\n",
       "      <th>32</th>\n",
       "      <td> 40</td>\n",
       "      <td> 1</td>\n",
       "      <td> 2</td>\n",
       "      <td> 36</td>\n",
       "      <td>      New York</td>\n",
       "      <td> 19795791</td>\n",
       "      <td> 15584974</td>\n",
       "      <td> 78.7</td>\n",
       "      <td> 13</td>\n",
       "      <td> 19.795791</td>\n",
       "      <td> 0.656705</td>\n",
       "    </tr>\n",
       "    <tr>\n",
       "      <th>21</th>\n",
       "      <td> 40</td>\n",
       "      <td> 1</td>\n",
       "      <td> 1</td>\n",
       "      <td> 25</td>\n",
       "      <td> Massachusetts</td>\n",
       "      <td>  6794422</td>\n",
       "      <td>  5407335</td>\n",
       "      <td> 79.6</td>\n",
       "      <td>  5</td>\n",
       "      <td>  6.794422</td>\n",
       "      <td> 0.735898</td>\n",
       "    </tr>\n",
       "  </tbody>\n",
       "</table>\n",
       "</div>"
      ],
      "text/plain": [
       "    SUMLEV REGION DIVISION  STATE           NAME  POPESTIMATE2015  \\\n",
       "6       40      1        1      9    Connecticut          3590886   \n",
       "37      40      1        2     42   Pennsylvania         12802503   \n",
       "15      40      2        4     19           Iowa          3123899   \n",
       "32      40      1        2     36       New York         19795791   \n",
       "21      40      1        1     25  Massachusetts          6794422   \n",
       "\n",
       "    POPEST18PLUS2015  PCNT_POPEST18PLUS  shootings  pop_millions      rate  \n",
       "6            2826827               78.7          1      3.590886  0.278483  \n",
       "37          10112229               79.0          7     12.802503  0.546768  \n",
       "15           2395103               76.7          2      3.123899  0.640226  \n",
       "32          15584974               78.7         13     19.795791  0.656705  \n",
       "21           5407335               79.6          5      6.794422  0.735898  "
      ]
     },
     "execution_count": 31,
     "metadata": {},
     "output_type": "execute_result"
    }
   ],
   "source": [
    "states.sort(\"rate\").head()"
   ]
  },
  {
   "cell_type": "code",
   "execution_count": 34,
   "metadata": {
    "collapsed": false
   },
   "outputs": [
    {
     "data": {
      "text/html": [
       "<div style=\"max-height:1000px;max-width:1500px;overflow:auto;\">\n",
       "<table border=\"1\" class=\"dataframe\">\n",
       "  <thead>\n",
       "    <tr style=\"text-align: right;\">\n",
       "      <th></th>\n",
       "      <th>SUMLEV</th>\n",
       "      <th>REGION</th>\n",
       "      <th>DIVISION</th>\n",
       "      <th>STATE</th>\n",
       "      <th>NAME</th>\n",
       "      <th>POPESTIMATE2015</th>\n",
       "      <th>POPEST18PLUS2015</th>\n",
       "      <th>PCNT_POPEST18PLUS</th>\n",
       "      <th>shootings</th>\n",
       "      <th>pop_millions</th>\n",
       "      <th>rate</th>\n",
       "    </tr>\n",
       "  </thead>\n",
       "  <tbody>\n",
       "    <tr>\n",
       "      <th>35</th>\n",
       "      <td> 40</td>\n",
       "      <td> 3</td>\n",
       "      <td> 7</td>\n",
       "      <td> 40</td>\n",
       "      <td> Oklahoma</td>\n",
       "      <td> 3911338</td>\n",
       "      <td> 2950017</td>\n",
       "      <td> 75.4</td>\n",
       "      <td> 22</td>\n",
       "      <td> 3.911338</td>\n",
       "      <td> 5.624674</td>\n",
       "    </tr>\n",
       "    <tr>\n",
       "      <th>2 </th>\n",
       "      <td> 40</td>\n",
       "      <td> 4</td>\n",
       "      <td> 8</td>\n",
       "      <td>  4</td>\n",
       "      <td>  Arizona</td>\n",
       "      <td> 6828065</td>\n",
       "      <td> 5205215</td>\n",
       "      <td> 76.2</td>\n",
       "      <td> 25</td>\n",
       "      <td> 6.828065</td>\n",
       "      <td> 3.661359</td>\n",
       "    </tr>\n",
       "    <tr>\n",
       "      <th>27</th>\n",
       "      <td> 40</td>\n",
       "      <td> 2</td>\n",
       "      <td> 4</td>\n",
       "      <td> 31</td>\n",
       "      <td> Nebraska</td>\n",
       "      <td> 1896190</td>\n",
       "      <td> 1425853</td>\n",
       "      <td> 75.2</td>\n",
       "      <td>  6</td>\n",
       "      <td> 1.896190</td>\n",
       "      <td> 3.164240</td>\n",
       "    </tr>\n",
       "    <tr>\n",
       "      <th>11</th>\n",
       "      <td> 40</td>\n",
       "      <td> 4</td>\n",
       "      <td> 9</td>\n",
       "      <td> 15</td>\n",
       "      <td>   Hawaii</td>\n",
       "      <td> 1431603</td>\n",
       "      <td> 1120770</td>\n",
       "      <td> 78.3</td>\n",
       "      <td>  4</td>\n",
       "      <td> 1.431603</td>\n",
       "      <td> 2.794071</td>\n",
       "    </tr>\n",
       "    <tr>\n",
       "      <th>1 </th>\n",
       "      <td> 40</td>\n",
       "      <td> 4</td>\n",
       "      <td> 9</td>\n",
       "      <td>  2</td>\n",
       "      <td>   Alaska</td>\n",
       "      <td>  738432</td>\n",
       "      <td>  552166</td>\n",
       "      <td> 74.8</td>\n",
       "      <td>  2</td>\n",
       "      <td> 0.738432</td>\n",
       "      <td> 2.708442</td>\n",
       "    </tr>\n",
       "  </tbody>\n",
       "</table>\n",
       "</div>"
      ],
      "text/plain": [
       "    SUMLEV REGION DIVISION  STATE      NAME  POPESTIMATE2015  \\\n",
       "35      40      3        7     40  Oklahoma          3911338   \n",
       "2       40      4        8      4   Arizona          6828065   \n",
       "27      40      2        4     31  Nebraska          1896190   \n",
       "11      40      4        9     15    Hawaii          1431603   \n",
       "1       40      4        9      2    Alaska           738432   \n",
       "\n",
       "    POPEST18PLUS2015  PCNT_POPEST18PLUS  shootings  pop_millions      rate  \n",
       "35           2950017               75.4         22      3.911338  5.624674  \n",
       "2            5205215               76.2         25      6.828065  3.661359  \n",
       "27           1425853               75.2          6      1.896190  3.164240  \n",
       "11           1120770               78.3          4      1.431603  2.794071  \n",
       "1             552166               74.8          2      0.738432  2.708442  "
      ]
     },
     "execution_count": 34,
     "metadata": {},
     "output_type": "execute_result"
    }
   ],
   "source": [
    "states.sort(\"rate\", ascending=False).head()"
   ]
  },
  {
   "cell_type": "code",
   "execution_count": 59,
   "metadata": {
    "collapsed": false
   },
   "outputs": [],
   "source": [
    "bad_rows = police_killings[[\"share_white\", \"share_black\", \"share_hispanic\"]].replace({\"-\": None}).isnull()"
   ]
  },
  {
   "cell_type": "code",
   "execution_count": 60,
   "metadata": {
    "collapsed": false
   },
   "outputs": [
    {
     "data": {
      "text/plain": [
       "(467, 34)"
      ]
     },
     "execution_count": 60,
     "metadata": {},
     "output_type": "execute_result"
    }
   ],
   "source": [
    "police_killings[bad_rows == True].shape"
   ]
  },
  {
   "cell_type": "code",
   "execution_count": 62,
   "metadata": {
    "collapsed": false
   },
   "outputs": [
    {
     "data": {
      "text/html": [
       "<div style=\"max-height:1000px;max-width:1500px;overflow:auto;\">\n",
       "<table border=\"1\" class=\"dataframe\">\n",
       "  <thead>\n",
       "    <tr style=\"text-align: right;\">\n",
       "      <th></th>\n",
       "      <th>name</th>\n",
       "      <th>age</th>\n",
       "      <th>gender</th>\n",
       "      <th>raceethnicity</th>\n",
       "      <th>month</th>\n",
       "      <th>day</th>\n",
       "      <th>year</th>\n",
       "      <th>streetaddress</th>\n",
       "      <th>city</th>\n",
       "      <th>state</th>\n",
       "      <th>...</th>\n",
       "      <th>share_hispanic</th>\n",
       "      <th>p_income</th>\n",
       "      <th>h_income</th>\n",
       "      <th>county_income</th>\n",
       "      <th>comp_income</th>\n",
       "      <th>county_bucket</th>\n",
       "      <th>nat_bucket</th>\n",
       "      <th>pov</th>\n",
       "      <th>urate</th>\n",
       "      <th>college</th>\n",
       "    </tr>\n",
       "  </thead>\n",
       "  <tbody>\n",
       "    <tr>\n",
       "      <th>182</th>\n",
       "      <td> Hashim Abdul-Rasheed</td>\n",
       "      <td> 41</td>\n",
       "      <td> Male</td>\n",
       "      <td> Black</td>\n",
       "      <td> January</td>\n",
       "      <td>  7</td>\n",
       "      <td> 2015</td>\n",
       "      <td>                        4600 International Gateway</td>\n",
       "      <td> Columbus</td>\n",
       "      <td> OH</td>\n",
       "      <td>...</td>\n",
       "      <td> -</td>\n",
       "      <td> -</td>\n",
       "      <td>NaN</td>\n",
       "      <td> 50877</td>\n",
       "      <td>NaN</td>\n",
       "      <td>NaN</td>\n",
       "      <td>NaN</td>\n",
       "      <td> -</td>\n",
       "      <td>NaN</td>\n",
       "      <td>NaN</td>\n",
       "    </tr>\n",
       "    <tr>\n",
       "      <th>378</th>\n",
       "      <td>        Richard White</td>\n",
       "      <td> 63</td>\n",
       "      <td> Male</td>\n",
       "      <td> Black</td>\n",
       "      <td>   March</td>\n",
       "      <td> 20</td>\n",
       "      <td> 2015</td>\n",
       "      <td> Louis Armstrong New Orleans International Airp...</td>\n",
       "      <td>   Kenner</td>\n",
       "      <td> LA</td>\n",
       "      <td>...</td>\n",
       "      <td> -</td>\n",
       "      <td> -</td>\n",
       "      <td>NaN</td>\n",
       "      <td> 48261</td>\n",
       "      <td>NaN</td>\n",
       "      <td>NaN</td>\n",
       "      <td>NaN</td>\n",
       "      <td> -</td>\n",
       "      <td>NaN</td>\n",
       "      <td>NaN</td>\n",
       "    </tr>\n",
       "  </tbody>\n",
       "</table>\n",
       "<p>2 rows × 34 columns</p>\n",
       "</div>"
      ],
      "text/plain": [
       "                     name age gender raceethnicity    month  day  year  \\\n",
       "182  Hashim Abdul-Rasheed  41   Male         Black  January    7  2015   \n",
       "378         Richard White  63   Male         Black    March   20  2015   \n",
       "\n",
       "                                         streetaddress      city state  \\\n",
       "182                         4600 International Gateway  Columbus    OH   \n",
       "378  Louis Armstrong New Orleans International Airp...    Kenner    LA   \n",
       "\n",
       "      ...    share_hispanic  p_income  h_income  county_income  comp_income  \\\n",
       "182   ...                 -         -       NaN          50877          NaN   \n",
       "378   ...                 -         -       NaN          48261          NaN   \n",
       "\n",
       "     county_bucket  nat_bucket pov urate college  \n",
       "182            NaN         NaN   -   NaN     NaN  \n",
       "378            NaN         NaN   -   NaN     NaN  \n",
       "\n",
       "[2 rows x 34 columns]"
      ]
     },
     "execution_count": 62,
     "metadata": {},
     "output_type": "execute_result"
    }
   ],
   "source": [
    "police_killings[police_killings[\"share_white\"] == \"-\"]"
   ]
  },
  {
   "cell_type": "code",
   "execution_count": 71,
   "metadata": {
    "collapsed": false
   },
   "outputs": [],
   "source": [
    "null_share_white = police_killings[\"share_white\"] == \"-\"\n",
    "null_share_black = police_killings[\"share_black\"] == \"-\"\n",
    "null_share_hispanic = police_killings[\"share_hispanic\"] == \"-\""
   ]
  },
  {
   "cell_type": "code",
   "execution_count": 75,
   "metadata": {
    "collapsed": false
   },
   "outputs": [
    {
     "data": {
      "text/html": [
       "<div style=\"max-height:1000px;max-width:1500px;overflow:auto;\">\n",
       "<table border=\"1\" class=\"dataframe\">\n",
       "  <thead>\n",
       "    <tr style=\"text-align: right;\">\n",
       "      <th></th>\n",
       "      <th>name</th>\n",
       "      <th>age</th>\n",
       "      <th>gender</th>\n",
       "      <th>raceethnicity</th>\n",
       "      <th>month</th>\n",
       "      <th>day</th>\n",
       "      <th>year</th>\n",
       "      <th>streetaddress</th>\n",
       "      <th>city</th>\n",
       "      <th>state</th>\n",
       "      <th>...</th>\n",
       "      <th>share_hispanic</th>\n",
       "      <th>p_income</th>\n",
       "      <th>h_income</th>\n",
       "      <th>county_income</th>\n",
       "      <th>comp_income</th>\n",
       "      <th>county_bucket</th>\n",
       "      <th>nat_bucket</th>\n",
       "      <th>pov</th>\n",
       "      <th>urate</th>\n",
       "      <th>college</th>\n",
       "    </tr>\n",
       "  </thead>\n",
       "  <tbody>\n",
       "    <tr>\n",
       "      <th>182</th>\n",
       "      <td> Hashim Abdul-Rasheed</td>\n",
       "      <td> 41</td>\n",
       "      <td> Male</td>\n",
       "      <td> Black</td>\n",
       "      <td> January</td>\n",
       "      <td>  7</td>\n",
       "      <td> 2015</td>\n",
       "      <td>                        4600 International Gateway</td>\n",
       "      <td> Columbus</td>\n",
       "      <td> OH</td>\n",
       "      <td>...</td>\n",
       "      <td> -</td>\n",
       "      <td> -</td>\n",
       "      <td>NaN</td>\n",
       "      <td> 50877</td>\n",
       "      <td>NaN</td>\n",
       "      <td>NaN</td>\n",
       "      <td>NaN</td>\n",
       "      <td> -</td>\n",
       "      <td>NaN</td>\n",
       "      <td>NaN</td>\n",
       "    </tr>\n",
       "    <tr>\n",
       "      <th>378</th>\n",
       "      <td>        Richard White</td>\n",
       "      <td> 63</td>\n",
       "      <td> Male</td>\n",
       "      <td> Black</td>\n",
       "      <td>   March</td>\n",
       "      <td> 20</td>\n",
       "      <td> 2015</td>\n",
       "      <td> Louis Armstrong New Orleans International Airp...</td>\n",
       "      <td>   Kenner</td>\n",
       "      <td> LA</td>\n",
       "      <td>...</td>\n",
       "      <td> -</td>\n",
       "      <td> -</td>\n",
       "      <td>NaN</td>\n",
       "      <td> 48261</td>\n",
       "      <td>NaN</td>\n",
       "      <td>NaN</td>\n",
       "      <td>NaN</td>\n",
       "      <td> -</td>\n",
       "      <td>NaN</td>\n",
       "      <td>NaN</td>\n",
       "    </tr>\n",
       "  </tbody>\n",
       "</table>\n",
       "<p>2 rows × 34 columns</p>\n",
       "</div>"
      ],
      "text/plain": [
       "                     name age gender raceethnicity    month  day  year  \\\n",
       "182  Hashim Abdul-Rasheed  41   Male         Black  January    7  2015   \n",
       "378         Richard White  63   Male         Black    March   20  2015   \n",
       "\n",
       "                                         streetaddress      city state  \\\n",
       "182                         4600 International Gateway  Columbus    OH   \n",
       "378  Louis Armstrong New Orleans International Airp...    Kenner    LA   \n",
       "\n",
       "      ...    share_hispanic  p_income  h_income  county_income  comp_income  \\\n",
       "182   ...                 -         -       NaN          50877          NaN   \n",
       "378   ...                 -         -       NaN          48261          NaN   \n",
       "\n",
       "     county_bucket  nat_bucket pov urate college  \n",
       "182            NaN         NaN   -   NaN     NaN  \n",
       "378            NaN         NaN   -   NaN     NaN  \n",
       "\n",
       "[2 rows x 34 columns]"
      ]
     },
     "execution_count": 75,
     "metadata": {},
     "output_type": "execute_result"
    }
   ],
   "source": [
    "police_killings[null_share_white | null_share_black | null_share_hispanic]"
   ]
  },
  {
   "cell_type": "code",
   "execution_count": 77,
   "metadata": {
    "collapsed": false
   },
   "outputs": [
    {
     "data": {
      "text/html": [
       "<div style=\"max-height:1000px;max-width:1500px;overflow:auto;\">\n",
       "<table border=\"1\" class=\"dataframe\">\n",
       "  <thead>\n",
       "    <tr style=\"text-align: right;\">\n",
       "      <th></th>\n",
       "      <th>share_white</th>\n",
       "      <th>share_black</th>\n",
       "      <th>share_hispanic</th>\n",
       "    </tr>\n",
       "  </thead>\n",
       "  <tbody>\n",
       "    <tr>\n",
       "      <th>182</th>\n",
       "      <td> -</td>\n",
       "      <td> -</td>\n",
       "      <td> -</td>\n",
       "    </tr>\n",
       "    <tr>\n",
       "      <th>378</th>\n",
       "      <td> -</td>\n",
       "      <td> -</td>\n",
       "      <td> -</td>\n",
       "    </tr>\n",
       "  </tbody>\n",
       "</table>\n",
       "</div>"
      ],
      "text/plain": [
       "    share_white share_black share_hispanic\n",
       "182           -           -              -\n",
       "378           -           -              -"
      ]
     },
     "execution_count": 77,
     "metadata": {},
     "output_type": "execute_result"
    }
   ],
   "source": [
    "police_killings[null_share_hispanic][[\"share_white\", \"share_black\", \"share_hispanic\"]]"
   ]
  },
  {
   "cell_type": "code",
   "execution_count": 83,
   "metadata": {
    "collapsed": true
   },
   "outputs": [],
   "source": [
    "pk = police_killings[(police_killings[\"share_white\"] != \"-\") & \n",
    "                     (police_killings[\"share_black\"] != \"-\") & \n",
    "                     (police_killings[\"share_hispanic\"] != \"-\")].copy()"
   ]
  },
  {
   "cell_type": "code",
   "execution_count": 84,
   "metadata": {
    "collapsed": false
   },
   "outputs": [
    {
     "data": {
      "text/plain": [
       "(465, 34)"
      ]
     },
     "execution_count": 84,
     "metadata": {},
     "output_type": "execute_result"
    }
   ],
   "source": [
    "pk.shape"
   ]
  },
  {
   "cell_type": "code",
   "execution_count": 85,
   "metadata": {
    "collapsed": false
   },
   "outputs": [
    {
     "data": {
      "text/plain": [
       "(467, 34)"
      ]
     },
     "execution_count": 85,
     "metadata": {},
     "output_type": "execute_result"
    }
   ],
   "source": [
    "police_killings.shape"
   ]
  },
  {
   "cell_type": "code",
   "execution_count": 86,
   "metadata": {
    "collapsed": false
   },
   "outputs": [],
   "source": [
    "pk[\"share_white\"] = pk[\"share_white\"].astype(float)\n",
    "pk[\"share_black\"] = pk[\"share_black\"].astype(float)\n",
    "pk[\"share_hispanic\"] = pk[\"share_hispanic\"].astype(float)"
   ]
  },
  {
   "cell_type": "code",
   "execution_count": 87,
   "metadata": {
    "collapsed": true
   },
   "outputs": [],
   "source": [
    "lowest_rates = states.sort(\"rate\").head(10)\n",
    "highest_rates = states.sort(\"rate\", ascending=False).head(10)"
   ]
  },
  {
   "cell_type": "code",
   "execution_count": 95,
   "metadata": {
    "collapsed": false
   },
   "outputs": [
    {
     "data": {
      "text/html": [
       "<div style=\"max-height:1000px;max-width:1500px;overflow:auto;\">\n",
       "<table border=\"1\" class=\"dataframe\">\n",
       "  <thead>\n",
       "    <tr style=\"text-align: right;\">\n",
       "      <th></th>\n",
       "      <th>SUMLEV</th>\n",
       "      <th>REGION</th>\n",
       "      <th>DIVISION</th>\n",
       "      <th>STATE</th>\n",
       "      <th>NAME</th>\n",
       "      <th>POPESTIMATE2015</th>\n",
       "      <th>POPEST18PLUS2015</th>\n",
       "      <th>PCNT_POPEST18PLUS</th>\n",
       "      <th>shootings</th>\n",
       "      <th>pop_millions</th>\n",
       "      <th>rate</th>\n",
       "    </tr>\n",
       "  </thead>\n",
       "  <tbody>\n",
       "    <tr>\n",
       "      <th>6 </th>\n",
       "      <td> 40</td>\n",
       "      <td> 1</td>\n",
       "      <td> 1</td>\n",
       "      <td>  9</td>\n",
       "      <td>   Connecticut</td>\n",
       "      <td>  3590886</td>\n",
       "      <td>  2826827</td>\n",
       "      <td> 78.7</td>\n",
       "      <td>  1</td>\n",
       "      <td>  3.590886</td>\n",
       "      <td> 0.278483</td>\n",
       "    </tr>\n",
       "    <tr>\n",
       "      <th>37</th>\n",
       "      <td> 40</td>\n",
       "      <td> 1</td>\n",
       "      <td> 2</td>\n",
       "      <td> 42</td>\n",
       "      <td>  Pennsylvania</td>\n",
       "      <td> 12802503</td>\n",
       "      <td> 10112229</td>\n",
       "      <td> 79.0</td>\n",
       "      <td>  7</td>\n",
       "      <td> 12.802503</td>\n",
       "      <td> 0.546768</td>\n",
       "    </tr>\n",
       "    <tr>\n",
       "      <th>15</th>\n",
       "      <td> 40</td>\n",
       "      <td> 2</td>\n",
       "      <td> 4</td>\n",
       "      <td> 19</td>\n",
       "      <td>          Iowa</td>\n",
       "      <td>  3123899</td>\n",
       "      <td>  2395103</td>\n",
       "      <td> 76.7</td>\n",
       "      <td>  2</td>\n",
       "      <td>  3.123899</td>\n",
       "      <td> 0.640226</td>\n",
       "    </tr>\n",
       "    <tr>\n",
       "      <th>32</th>\n",
       "      <td> 40</td>\n",
       "      <td> 1</td>\n",
       "      <td> 2</td>\n",
       "      <td> 36</td>\n",
       "      <td>      New York</td>\n",
       "      <td> 19795791</td>\n",
       "      <td> 15584974</td>\n",
       "      <td> 78.7</td>\n",
       "      <td> 13</td>\n",
       "      <td> 19.795791</td>\n",
       "      <td> 0.656705</td>\n",
       "    </tr>\n",
       "    <tr>\n",
       "      <th>21</th>\n",
       "      <td> 40</td>\n",
       "      <td> 1</td>\n",
       "      <td> 1</td>\n",
       "      <td> 25</td>\n",
       "      <td> Massachusetts</td>\n",
       "      <td>  6794422</td>\n",
       "      <td>  5407335</td>\n",
       "      <td> 79.6</td>\n",
       "      <td>  5</td>\n",
       "      <td>  6.794422</td>\n",
       "      <td> 0.735898</td>\n",
       "    </tr>\n",
       "    <tr>\n",
       "      <th>29</th>\n",
       "      <td> 40</td>\n",
       "      <td> 1</td>\n",
       "      <td> 1</td>\n",
       "      <td> 33</td>\n",
       "      <td> New Hampshire</td>\n",
       "      <td>  1330608</td>\n",
       "      <td>  1066610</td>\n",
       "      <td> 80.2</td>\n",
       "      <td>  1</td>\n",
       "      <td>  1.330608</td>\n",
       "      <td> 0.751536</td>\n",
       "    </tr>\n",
       "    <tr>\n",
       "      <th>19</th>\n",
       "      <td> 40</td>\n",
       "      <td> 1</td>\n",
       "      <td> 1</td>\n",
       "      <td> 23</td>\n",
       "      <td>         Maine</td>\n",
       "      <td>  1329328</td>\n",
       "      <td>  1072948</td>\n",
       "      <td> 80.7</td>\n",
       "      <td>  1</td>\n",
       "      <td>  1.329328</td>\n",
       "      <td> 0.752260</td>\n",
       "    </tr>\n",
       "    <tr>\n",
       "      <th>13</th>\n",
       "      <td> 40</td>\n",
       "      <td> 2</td>\n",
       "      <td> 3</td>\n",
       "      <td> 17</td>\n",
       "      <td>      Illinois</td>\n",
       "      <td> 12859995</td>\n",
       "      <td>  9901322</td>\n",
       "      <td> 77.0</td>\n",
       "      <td> 11</td>\n",
       "      <td> 12.859995</td>\n",
       "      <td> 0.855366</td>\n",
       "    </tr>\n",
       "    <tr>\n",
       "      <th>34</th>\n",
       "      <td> 40</td>\n",
       "      <td> 2</td>\n",
       "      <td> 3</td>\n",
       "      <td> 39</td>\n",
       "      <td>          Ohio</td>\n",
       "      <td> 11613423</td>\n",
       "      <td>  8984946</td>\n",
       "      <td> 77.4</td>\n",
       "      <td> 10</td>\n",
       "      <td> 11.613423</td>\n",
       "      <td> 0.861073</td>\n",
       "    </tr>\n",
       "    <tr>\n",
       "      <th>45</th>\n",
       "      <td> 40</td>\n",
       "      <td> 2</td>\n",
       "      <td> 3</td>\n",
       "      <td> 55</td>\n",
       "      <td>     Wisconsin</td>\n",
       "      <td>  5771337</td>\n",
       "      <td>  4476711</td>\n",
       "      <td> 77.6</td>\n",
       "      <td>  5</td>\n",
       "      <td>  5.771337</td>\n",
       "      <td> 0.866350</td>\n",
       "    </tr>\n",
       "  </tbody>\n",
       "</table>\n",
       "</div>"
      ],
      "text/plain": [
       "    SUMLEV REGION DIVISION  STATE           NAME  POPESTIMATE2015  \\\n",
       "6       40      1        1      9    Connecticut          3590886   \n",
       "37      40      1        2     42   Pennsylvania         12802503   \n",
       "15      40      2        4     19           Iowa          3123899   \n",
       "32      40      1        2     36       New York         19795791   \n",
       "21      40      1        1     25  Massachusetts          6794422   \n",
       "29      40      1        1     33  New Hampshire          1330608   \n",
       "19      40      1        1     23          Maine          1329328   \n",
       "13      40      2        3     17       Illinois         12859995   \n",
       "34      40      2        3     39           Ohio         11613423   \n",
       "45      40      2        3     55      Wisconsin          5771337   \n",
       "\n",
       "    POPEST18PLUS2015  PCNT_POPEST18PLUS  shootings  pop_millions      rate  \n",
       "6            2826827               78.7          1      3.590886  0.278483  \n",
       "37          10112229               79.0          7     12.802503  0.546768  \n",
       "15           2395103               76.7          2      3.123899  0.640226  \n",
       "32          15584974               78.7         13     19.795791  0.656705  \n",
       "21           5407335               79.6          5      6.794422  0.735898  \n",
       "29           1066610               80.2          1      1.330608  0.751536  \n",
       "19           1072948               80.7          1      1.329328  0.752260  \n",
       "13           9901322               77.0         11     12.859995  0.855366  \n",
       "34           8984946               77.4         10     11.613423  0.861073  \n",
       "45           4476711               77.6          5      5.771337  0.866350  "
      ]
     },
     "execution_count": 95,
     "metadata": {},
     "output_type": "execute_result"
    }
   ],
   "source": [
    "lowest_rates"
   ]
  },
  {
   "cell_type": "code",
   "execution_count": 96,
   "metadata": {
    "collapsed": false
   },
   "outputs": [],
   "source": [
    "pk_lowest = pk[pk[\"state_fp\"].isin(lowest_rates[\"STATE\"])]\n",
    "pk_highest = pk[pk[\"state_fp\"].isin(highest_rates[\"STATE\"])]"
   ]
  },
  {
   "cell_type": "code",
   "execution_count": 97,
   "metadata": {
    "collapsed": false
   },
   "outputs": [
    {
     "data": {
      "text/plain": [
       "share_white       60.132727\n",
       "share_black       21.610909\n",
       "share_hispanic    12.994545\n",
       "dtype: float64"
      ]
     },
     "execution_count": 97,
     "metadata": {},
     "output_type": "execute_result"
    }
   ],
   "source": [
    "pk_lowest[[\"share_white\", \"share_black\", \"share_hispanic\"]].mean()"
   ]
  },
  {
   "cell_type": "code",
   "execution_count": 98,
   "metadata": {
    "collapsed": false
   },
   "outputs": [
    {
     "data": {
      "text/plain": [
       "share_white       55.652174\n",
       "share_black       11.532609\n",
       "share_hispanic    20.693478\n",
       "dtype: float64"
      ]
     },
     "execution_count": 98,
     "metadata": {},
     "output_type": "execute_result"
    }
   ],
   "source": [
    "pk_highest[[\"share_white\", \"share_black\", \"share_hispanic\"]].mean()"
   ]
  },
  {
   "cell_type": "code",
   "execution_count": null,
   "metadata": {
    "collapsed": true
   },
   "outputs": [],
   "source": []
  }
 ],
 "metadata": {
  "kernelspec": {
   "display_name": "Python 3",
   "language": "python",
   "name": "python3"
  },
  "language_info": {
   "codemirror_mode": {
    "name": "ipython",
    "version": 3
   },
   "file_extension": ".py",
   "mimetype": "text/x-python",
   "name": "python",
   "nbconvert_exporter": "python",
   "pygments_lexer": "ipython3",
   "version": "3.4.3"
  }
 },
 "nbformat": 4,
 "nbformat_minor": 0
}
