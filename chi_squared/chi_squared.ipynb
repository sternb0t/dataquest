{
 "cells": [
  {
   "cell_type": "code",
   "execution_count": 2,
   "metadata": {
    "collapsed": false
   },
   "outputs": [],
   "source": [
    "import numpy as np\n",
    "\n",
    "chi_squared_values = []\n",
    "\n",
    "N = 32561\n",
    "expected = N / 2\n",
    "\n",
    "for i in range(1000):\n",
    "    \n",
    "    r = np.random.random(N,)\n",
    "    r[r < .5] = 0\n",
    "    r[r > 0] = 1\n",
    "    \n",
    "    female_count = np.count_nonzero(r)\n",
    "    male_count = N - female_count\n",
    "    \n",
    "    female_diff = (female_count - expected)**2 / expected\n",
    "    male_diff = (male_count - expected)**2 / expected\n",
    "    \n",
    "    chi_sq = female_diff + male_diff\n",
    "\n",
    "    chi_squared_values.append(chi_sq)\n"
   ]
  },
  {
   "cell_type": "code",
   "execution_count": 5,
   "metadata": {
    "collapsed": false
   },
   "outputs": [],
   "source": [
    "import matplotlib.pyplot as plt\n",
    "%matplotlib inline"
   ]
  },
  {
   "cell_type": "code",
   "execution_count": 8,
   "metadata": {
    "collapsed": false
   },
   "outputs": [
    {
     "data": {
      "image/png": "[encoded data removed]",
      "text/plain": [
       "<matplotlib.figure.Figure at 0x104743cc0>"
      ]
     },
     "metadata": {},
     "output_type": "display_data"
    }
   ],
   "source": [
    "plt.hist(chi_squared_values, bins=50)\n",
    "plt.show()"
   ]
  },
  {
   "cell_type": "code",
   "execution_count": 9,
   "metadata": {
    "collapsed": false
   },
   "outputs": [
    {
     "data": {
      "text/plain": [
       "(array([ 766.,  162.,   39.,   18.,    8.,    4.,    1.,    1.,    0.,    1.]),\n",
       " array([  0.        ,   1.54133333,   3.08266667,   4.624     ,\n",
       "          6.16533333,   7.70666667,   9.248     ,  10.78933333,\n",
       "         12.33066667,  13.872     ,  15.41333333]),\n",
       " <a list of 10 Patch objects>)"
      ]
     },
     "execution_count": 9,
     "metadata": {},
     "output_type": "execute_result"
    },
    {
     "data": {
      "image/png": "[encoded data removed]",
      "text/plain": [
       "<matplotlib.figure.Figure at 0x104861a58>"
      ]
     },
     "metadata": {},
     "output_type": "display_data"
    }
   ],
   "source": [
    "chi_squared_values = []\n",
    "import numpy as np\n",
    "import matplotlib.pyplot as plt\n",
    "\n",
    "for i in range(1000):\n",
    "    \n",
    "    sample = np.random.random((300,))\n",
    "    \n",
    "    sample[sample < .5] = 0\n",
    "    sample[sample >= .5] = 1\n",
    "    \n",
    "    male_count = len(sample[sample == 0])\n",
    "    female_count = len(sample[sample == 1])\n",
    "    \n",
    "    male_diff = (male_count - 150)**2 / 150\n",
    "    female_diff = (female_count - 150)**2 / 150\n",
    "    \n",
    "    chi_sq = male_diff + female_diff\n",
    "    \n",
    "    chi_squared_values.append(chi_sq)\n",
    "    \n",
    "plt.hist(chi_squared_values)"
   ]
  },
  {
   "cell_type": "code",
   "execution_count": 15,
   "metadata": {
    "collapsed": false
   },
   "outputs": [
    {
     "name": "stdout",
     "output_type": "stream",
     "text": [
      "chisq of White is 106.60051058459067\n",
      "chisq of Black is 168.96185436178587\n",
      "chisq of Asian-Pac-Islander is 9.49707720004237\n",
      "chisq of Amer-Indian-Eskimo is 9.789827255278311\n",
      "chisq of Other is 785.6366671916837\n",
      "race chisq is 1080.485936593381\n"
     ]
    }
   ],
   "source": [
    "labels = ['White', 'Black', 'Asian-Pac-Islander', 'Amer-Indian-Eskimo', 'Other']\n",
    "observed = [27816, 3124, 1039, 311, 271]\n",
    "expected = [26146.5, 3939.9, 944.3, 260.5, 1269.8]\n",
    "\n",
    "race_chisqs = []\n",
    "\n",
    "for idx, i in enumerate(labels):\n",
    "    chisq = (expected[idx] - observed[idx]) ** 2 / expected[idx]\n",
    "    print(\"chisq of {} is {}\".format(i, chisq))\n",
    "    race_chisqs.append(chisq)\n",
    "\n",
    "race_chisq = sum(race_chisqs)\n",
    "print(\"race chisq is {}\".format(race_chisq))"
   ]
  },
  {
   "cell_type": "code",
   "execution_count": 18,
   "metadata": {
    "collapsed": false
   },
   "outputs": [
    {
     "data": {
      "text/plain": [
       "(1080.485936593381, 1.2848494674873035e-232)"
      ]
     },
     "execution_count": 18,
     "metadata": {},
     "output_type": "execute_result"
    }
   ],
   "source": [
    "from scipy.stats import chisquare\n",
    "import numpy as np\n",
    "\n",
    "observed = np.array([27816, 3124, 1039, 311, 271])\n",
    "expected = np.array([26146.5, 3939.9, 944.3, 260.5, 1269.8])\n",
    "\n",
    "chisquare_value, pvalue = chisquare(observed, expected)\n",
    "chisquare_value, pvalue"
   ]
  },
  {
   "cell_type": "markdown",
   "metadata": {},
   "source": [
    "# Two Dimensions"
   ]
  },
  {
   "cell_type": "code",
   "execution_count": 62,
   "metadata": {
    "collapsed": false
   },
   "outputs": [
    {
     "data": {
      "text/html": [
       "<div>\n",
       "<table border=\"1\" class=\"dataframe\">\n",
       "  <thead>\n",
       "    <tr style=\"text-align: right;\">\n",
       "      <th></th>\n",
       "      <th>Male</th>\n",
       "      <th>Female</th>\n",
       "    </tr>\n",
       "  </thead>\n",
       "  <tbody>\n",
       "    <tr>\n",
       "      <th>&gt;50k</th>\n",
       "      <td>6662</td>\n",
       "      <td>1179</td>\n",
       "    </tr>\n",
       "    <tr>\n",
       "      <th>&lt;=50k</th>\n",
       "      <td>15128</td>\n",
       "      <td>9592</td>\n",
       "    </tr>\n",
       "  </tbody>\n",
       "</table>\n",
       "</div>"
      ],
      "text/plain": [
       "        Male  Female\n",
       ">50k    6662    1179\n",
       "<=50k  15128    9592"
      ]
     },
     "execution_count": 62,
     "metadata": {},
     "output_type": "execute_result"
    }
   ],
   "source": [
    "import pandas as pd\n",
    "\n",
    "# make the dataset of observed values\n",
    "\n",
    "df = pd.DataFrame({\"Male\": [6662, 15128], \"Female\": [1179, 9592]}, \n",
    "                  index=[\">50k\", \"<=50k\"],\n",
    "                  columns=[\"Male\", \"Female\"])\n",
    "df"
   ]
  },
  {
   "cell_type": "code",
   "execution_count": 63,
   "metadata": {
    "collapsed": false
   },
   "outputs": [
    {
     "data": {
      "text/html": [
       "<div>\n",
       "<table border=\"1\" class=\"dataframe\">\n",
       "  <thead>\n",
       "    <tr style=\"text-align: right;\">\n",
       "      <th></th>\n",
       "      <th>Male</th>\n",
       "      <th>Female</th>\n",
       "      <th>Totals</th>\n",
       "    </tr>\n",
       "  </thead>\n",
       "  <tbody>\n",
       "    <tr>\n",
       "      <th>&gt;50k</th>\n",
       "      <td>6662</td>\n",
       "      <td>1179</td>\n",
       "      <td>7841</td>\n",
       "    </tr>\n",
       "    <tr>\n",
       "      <th>&lt;=50k</th>\n",
       "      <td>15128</td>\n",
       "      <td>9592</td>\n",
       "      <td>24720</td>\n",
       "    </tr>\n",
       "  </tbody>\n",
       "</table>\n",
       "</div>"
      ],
      "text/plain": [
       "        Male  Female  Totals\n",
       ">50k    6662    1179    7841\n",
       "<=50k  15128    9592   24720"
      ]
     },
     "execution_count": 63,
     "metadata": {},
     "output_type": "execute_result"
    }
   ],
   "source": [
    "# add totals column\n",
    "df[\"Totals\"] = df[\"Female\"] + df[\"Male\"]\n",
    "df"
   ]
  },
  {
   "cell_type": "code",
   "execution_count": 64,
   "metadata": {
    "collapsed": false
   },
   "outputs": [
    {
     "data": {
      "text/html": [
       "<div>\n",
       "<table border=\"1\" class=\"dataframe\">\n",
       "  <thead>\n",
       "    <tr style=\"text-align: right;\">\n",
       "      <th></th>\n",
       "      <th>Male</th>\n",
       "      <th>Female</th>\n",
       "      <th>Totals</th>\n",
       "    </tr>\n",
       "  </thead>\n",
       "  <tbody>\n",
       "    <tr>\n",
       "      <th>&gt;50k</th>\n",
       "      <td>6662</td>\n",
       "      <td>1179</td>\n",
       "      <td>7841</td>\n",
       "    </tr>\n",
       "    <tr>\n",
       "      <th>&lt;=50k</th>\n",
       "      <td>15128</td>\n",
       "      <td>9592</td>\n",
       "      <td>24720</td>\n",
       "    </tr>\n",
       "    <tr>\n",
       "      <th>Totals</th>\n",
       "      <td>21790</td>\n",
       "      <td>10771</td>\n",
       "      <td>32561</td>\n",
       "    </tr>\n",
       "  </tbody>\n",
       "</table>\n",
       "</div>"
      ],
      "text/plain": [
       "         Male  Female  Totals\n",
       ">50k     6662    1179    7841\n",
       "<=50k   15128    9592   24720\n",
       "Totals  21790   10771   32561"
      ]
     },
     "execution_count": 64,
     "metadata": {},
     "output_type": "execute_result"
    }
   ],
   "source": [
    "# add totals row\n",
    "df = df.append(pd.Series(df.sum(), name=\"Totals\"))\n",
    "df"
   ]
  },
  {
   "cell_type": "code",
   "execution_count": 65,
   "metadata": {
    "collapsed": false
   },
   "outputs": [
    {
     "name": "stdout",
     "output_type": "stream",
     "text": [
      "<class 'pandas.core.frame.DataFrame'>\n",
      "Index: 3 entries, >50k to Totals\n",
      "Data columns (total 3 columns):\n",
      "Male      3 non-null int64\n",
      "Female    3 non-null int64\n",
      "Totals    3 non-null int64\n",
      "dtypes: int64(3)\n",
      "memory usage: 96.0+ bytes\n"
     ]
    }
   ],
   "source": [
    "df.info()"
   ]
  },
  {
   "cell_type": "code",
   "execution_count": 123,
   "metadata": {
    "collapsed": false
   },
   "outputs": [
    {
     "name": "stdout",
     "output_type": "stream",
     "text": [
      "32561\n",
      ">50k      0.205\n",
      "<=50k     0.465\n",
      "Totals    0.669\n",
      "Name: Male, dtype: float64\n",
      ">50k      0.036\n",
      "<=50k     0.295\n",
      "Totals    0.331\n",
      "Name: Female, dtype: float64\n",
      ">50k      0.241\n",
      "<=50k     0.759\n",
      "Totals    1.000\n",
      "Name: Totals, dtype: float64\n"
     ]
    }
   ],
   "source": [
    "# calculate proportions\n",
    "\n",
    "# total number of observations\n",
    "N = df[\"Totals\"].iloc[2].round(1)\n",
    "print(N)\n",
    "\n",
    "props_male = (df[\"Male\"] / N).round(3)\n",
    "props_female = (df[\"Female\"] / N).round(3)\n",
    "props_totals= (df[\"Totals\"] / N).round(3)\n",
    "\n",
    "print(props_male)\n",
    "print(props_female)\n",
    "print(props_totals)"
   ]
  },
  {
   "cell_type": "code",
   "execution_count": 118,
   "metadata": {
    "collapsed": false
   },
   "outputs": [
    {
     "data": {
      "text/html": [
       "<div>\n",
       "<table border=\"1\" class=\"dataframe\">\n",
       "  <thead>\n",
       "    <tr style=\"text-align: right;\">\n",
       "      <th></th>\n",
       "      <th>Male</th>\n",
       "      <th>Female</th>\n",
       "      <th>Totals</th>\n",
       "    </tr>\n",
       "  </thead>\n",
       "  <tbody>\n",
       "    <tr>\n",
       "      <th>&gt;50k</th>\n",
       "      <td>0.205</td>\n",
       "      <td>0.036</td>\n",
       "      <td>0.241</td>\n",
       "    </tr>\n",
       "    <tr>\n",
       "      <th>&lt;=50k</th>\n",
       "      <td>0.465</td>\n",
       "      <td>0.295</td>\n",
       "      <td>0.759</td>\n",
       "    </tr>\n",
       "    <tr>\n",
       "      <th>Totals</th>\n",
       "      <td>0.669</td>\n",
       "      <td>0.331</td>\n",
       "      <td>1.000</td>\n",
       "    </tr>\n",
       "  </tbody>\n",
       "</table>\n",
       "</div>"
      ],
      "text/plain": [
       "         Male  Female  Totals\n",
       ">50k    0.205   0.036   0.241\n",
       "<=50k   0.465   0.295   0.759\n",
       "Totals  0.669   0.331   1.000"
      ]
     },
     "execution_count": 118,
     "metadata": {},
     "output_type": "execute_result"
    }
   ],
   "source": [
    "df_props = pd.DataFrame({\"Male\": props_male, \"Female\": props_female, \"Totals\": props_totals},\n",
    "                        index=[\">50k\", \"<=50k\", \"Totals\"],\n",
    "                        columns=[\"Male\", \"Female\", \"Totals\"])\n",
    "df_props"
   ]
  },
  {
   "cell_type": "code",
   "execution_count": 127,
   "metadata": {
    "collapsed": false
   },
   "outputs": [
    {
     "name": "stdout",
     "output_type": "stream",
     "text": [
      "[5249.8, 2597.4, 16533.5, 8180.3]\n"
     ]
    }
   ],
   "source": [
    "# chi squared expected values\n",
    "males_over50k = round(.669 * .241 * 32561, 1)\n",
    "females_over50k = round(.331 * .241 * 32561, 1)\n",
    "males_under50k = round(.669 * .759 * 32561, 1)\n",
    "females_under50k = round(.331 * .759 * 32561, 1)\n",
    "\n",
    "expected = [males_over50k, females_over50k, males_under50k, females_under50k]\n",
    "print(expected)"
   ]
  },
  {
   "cell_type": "code",
   "execution_count": 128,
   "metadata": {
    "collapsed": false
   },
   "outputs": [
    {
     "name": "stdout",
     "output_type": "stream",
     "text": [
      "[5249.8000000000002, 2597.4000000000001, 16533.5, 8180.3000000000002]\n"
     ]
    }
   ],
   "source": [
    "# chi squared expected values using the df\n",
    "\n",
    "males_over50k = round(df_props[\"Male\"].loc[\"Totals\"] * df_props[\"Totals\"].loc[\">50k\"] * N, 1)\n",
    "females_over50k = round(df_props[\"Female\"].loc[\"Totals\"] * df_props[\"Totals\"].loc[\">50k\"] * N, 1)\n",
    "males_under50k = round(df_props[\"Male\"].loc[\"Totals\"] * df_props[\"Totals\"].loc[\"<=50k\"] * N, 1)\n",
    "females_under50k = round(df_props[\"Female\"].loc[\"Totals\"] * df_props[\"Totals\"].loc[\"<=50k\"] * N, 1)\n",
    "\n",
    "expected = [males_over50k, females_over50k, males_under50k, females_under50k]\n",
    "print(expected)"
   ]
  },
  {
   "cell_type": "code",
   "execution_count": 129,
   "metadata": {
    "collapsed": false
   },
   "outputs": [
    {
     "data": {
      "text/plain": [
       "array([ 6662,  1179, 15128,  9592])"
      ]
     },
     "execution_count": 129,
     "metadata": {},
     "output_type": "execute_result"
    }
   ],
   "source": [
    "observed = df.loc[[\">50k\", \"<=50k\"]][[\"Male\", \"Female\"]].values.flatten()\n",
    "observed"
   ]
  },
  {
   "cell_type": "code",
   "execution_count": 133,
   "metadata": {
    "collapsed": false
   },
   "outputs": [
    {
     "name": "stdout",
     "output_type": "stream",
     "text": [
      "1517.55109815 0.0\n"
     ]
    }
   ],
   "source": [
    "import numpy as np\n",
    "from scipy.stats import chisquare\n",
    "\n",
    "observed = np.array([6662, 1179, 15128, 9592])\n",
    "expected = np.array([5249.8, 2597.4, 16533.5, 8180.3])\n",
    "chisquare_value_gender_income, pvalue_gender_income = chisquare(observed, expected)\n",
    "print(chisquare_value_gender_income, pvalue_gender_income)"
   ]
  },
  {
   "cell_type": "code",
   "execution_count": 134,
   "metadata": {
    "collapsed": false
   },
   "outputs": [
    {
     "name": "stdout",
     "output_type": "stream",
     "text": [
      "1517.55109815 0.0\n"
     ]
    }
   ],
   "source": [
    "import numpy as np\n",
    "from scipy.stats import chisquare\n",
    "\n",
    "observed = df.loc[[\">50k\", \"<=50k\"]][[\"Male\", \"Female\"]].values.flatten()\n",
    "expected = np.array([males_over50k, females_over50k, males_under50k, females_under50k])\n",
    "chisquare_value_gender_income, pvalue_gender_income = chisquare(observed, expected)\n",
    "print(chisquare_value_gender_income, pvalue_gender_income)"
   ]
  },
  {
   "cell_type": "code",
   "execution_count": 140,
   "metadata": {
    "collapsed": false
   },
   "outputs": [
    {
     "name": "stdout",
     "output_type": "stream",
     "text": [
      "Female  1179   9592   10771\n",
      "Male                       \n",
      "6662        1      0      0\n",
      "15128       0      1      0\n",
      "21790       0      0      1\n"
     ]
    }
   ],
   "source": [
    "table = pd.crosstab(df[\"Male\"], df[\"Female\"])\n",
    "print(table)"
   ]
  },
  {
   "cell_type": "code",
   "execution_count": null,
   "metadata": {
    "collapsed": true
   },
   "outputs": [],
   "source": []
  }
 ],
 "metadata": {
  "kernelspec": {
   "display_name": "Python 3 (dataquest)",
   "language": "python",
   "name": "other-env"
  },
  "language_info": {
   "codemirror_mode": {
    "name": "ipython",
    "version": 3
   },
   "file_extension": ".py",
   "mimetype": "text/x-python",
   "name": "python",
   "nbconvert_exporter": "python",
   "pygments_lexer": "ipython3",
   "version": "3.5.1"
  }
 },
 "nbformat": 4,
 "nbformat_minor": 0
}
