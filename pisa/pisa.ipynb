{
 "cells": [
  {
   "cell_type": "code",
   "execution_count": 20,
   "metadata": {
    "collapsed": false
   },
   "outputs": [
    {
     "name": "stdout",
     "output_type": "stream",
     "text": [
      "      lean  year\n",
      "0   2.9642  1975\n",
      "1   2.9644  1976\n",
      "2   2.9656  1977\n",
      "3   2.9667  1978\n",
      "4   2.9673  1979\n",
      "5   2.9688  1980\n",
      "6   2.9696  1981\n",
      "7   2.9698  1982\n",
      "8   2.9713  1983\n",
      "9   2.9717  1984\n",
      "10  2.9725  1985\n",
      "11  2.9742  1986\n",
      "12  2.9757  1987\n"
     ]
    }
   ],
   "source": [
    "import pandas as pd\n",
    "import matplotlib.pyplot as plt\n",
    "%matplotlib inline\n",
    "\n",
    "pisa = pd.DataFrame({\"year\": range(1975, 1988), \n",
    "                         \"lean\": [2.9642, 2.9644, 2.9656, 2.9667, 2.9673, 2.9688, 2.9696, \n",
    "                                  2.9698, 2.9713, 2.9717, 2.9725, 2.9742, 2.9757]})\n",
    "\n",
    "print(pisa)"
   ]
  },
  {
   "cell_type": "code",
   "execution_count": 21,
   "metadata": {
    "collapsed": false
   },
   "outputs": [
    {
     "data": {
      "image/png": "[encoded data removed]",
      "text/plain": [
       "<matplotlib.figure.Figure at 0x11aef3a58>"
      ]
     },
     "metadata": {},
     "output_type": "display_data"
    }
   ],
   "source": [
    "plt.scatter(x=pisa[\"year\"], y=pisa[\"lean\"])\n",
    "plt.show()"
   ]
  },
  {
   "cell_type": "code",
   "execution_count": 22,
   "metadata": {
    "collapsed": false
   },
   "outputs": [],
   "source": [
    "import statsmodels.api as sm\n",
    "\n",
    "y = pisa[\"lean\"] # target\n",
    "X = pisa[\"year\"]  # features\n",
    "X = sm.add_constant(X)  # add a column of 1's as the constant term"
   ]
  },
  {
   "cell_type": "code",
   "execution_count": 23,
   "metadata": {
    "collapsed": false
   },
   "outputs": [
    {
     "data": {
      "text/plain": [
       "0     2.9642\n",
       "1     2.9644\n",
       "2     2.9656\n",
       "3     2.9667\n",
       "4     2.9673\n",
       "5     2.9688\n",
       "6     2.9696\n",
       "7     2.9698\n",
       "8     2.9713\n",
       "9     2.9717\n",
       "10    2.9725\n",
       "11    2.9742\n",
       "12    2.9757\n",
       "Name: lean, dtype: float64"
      ]
     },
     "execution_count": 23,
     "metadata": {},
     "output_type": "execute_result"
    }
   ],
   "source": [
    "y"
   ]
  },
  {
   "cell_type": "code",
   "execution_count": 24,
   "metadata": {
    "collapsed": false
   },
   "outputs": [
    {
     "data": {
      "text/html": [
       "<div>\n",
       "<table border=\"1\" class=\"dataframe\">\n",
       "  <thead>\n",
       "    <tr style=\"text-align: right;\">\n",
       "      <th></th>\n",
       "      <th>const</th>\n",
       "      <th>year</th>\n",
       "    </tr>\n",
       "  </thead>\n",
       "  <tbody>\n",
       "    <tr>\n",
       "      <th>0</th>\n",
       "      <td>1.0</td>\n",
       "      <td>1975</td>\n",
       "    </tr>\n",
       "    <tr>\n",
       "      <th>1</th>\n",
       "      <td>1.0</td>\n",
       "      <td>1976</td>\n",
       "    </tr>\n",
       "    <tr>\n",
       "      <th>2</th>\n",
       "      <td>1.0</td>\n",
       "      <td>1977</td>\n",
       "    </tr>\n",
       "    <tr>\n",
       "      <th>3</th>\n",
       "      <td>1.0</td>\n",
       "      <td>1978</td>\n",
       "    </tr>\n",
       "    <tr>\n",
       "      <th>4</th>\n",
       "      <td>1.0</td>\n",
       "      <td>1979</td>\n",
       "    </tr>\n",
       "    <tr>\n",
       "      <th>5</th>\n",
       "      <td>1.0</td>\n",
       "      <td>1980</td>\n",
       "    </tr>\n",
       "    <tr>\n",
       "      <th>6</th>\n",
       "      <td>1.0</td>\n",
       "      <td>1981</td>\n",
       "    </tr>\n",
       "    <tr>\n",
       "      <th>7</th>\n",
       "      <td>1.0</td>\n",
       "      <td>1982</td>\n",
       "    </tr>\n",
       "    <tr>\n",
       "      <th>8</th>\n",
       "      <td>1.0</td>\n",
       "      <td>1983</td>\n",
       "    </tr>\n",
       "    <tr>\n",
       "      <th>9</th>\n",
       "      <td>1.0</td>\n",
       "      <td>1984</td>\n",
       "    </tr>\n",
       "    <tr>\n",
       "      <th>10</th>\n",
       "      <td>1.0</td>\n",
       "      <td>1985</td>\n",
       "    </tr>\n",
       "    <tr>\n",
       "      <th>11</th>\n",
       "      <td>1.0</td>\n",
       "      <td>1986</td>\n",
       "    </tr>\n",
       "    <tr>\n",
       "      <th>12</th>\n",
       "      <td>1.0</td>\n",
       "      <td>1987</td>\n",
       "    </tr>\n",
       "  </tbody>\n",
       "</table>\n",
       "</div>"
      ],
      "text/plain": [
       "    const  year\n",
       "0     1.0  1975\n",
       "1     1.0  1976\n",
       "2     1.0  1977\n",
       "3     1.0  1978\n",
       "4     1.0  1979\n",
       "5     1.0  1980\n",
       "6     1.0  1981\n",
       "7     1.0  1982\n",
       "8     1.0  1983\n",
       "9     1.0  1984\n",
       "10    1.0  1985\n",
       "11    1.0  1986\n",
       "12    1.0  1987"
      ]
     },
     "execution_count": 24,
     "metadata": {},
     "output_type": "execute_result"
    }
   ],
   "source": [
    "X"
   ]
  },
  {
   "cell_type": "code",
   "execution_count": 25,
   "metadata": {
    "collapsed": true
   },
   "outputs": [],
   "source": [
    "# OLS -- Ordinary Least Squares Fit\n",
    "linear = sm.OLS(y, X)"
   ]
  },
  {
   "cell_type": "code",
   "execution_count": 26,
   "metadata": {
    "collapsed": false
   },
   "outputs": [],
   "source": [
    "# fit model\n",
    "linearfit = linear.fit()"
   ]
  },
  {
   "cell_type": "code",
   "execution_count": 27,
   "metadata": {
    "collapsed": false
   },
   "outputs": [
    {
     "name": "stdout",
     "output_type": "stream",
     "text": [
      "                            OLS Regression Results                            \n",
      "==============================================================================\n",
      "Dep. Variable:                   lean   R-squared:                       0.988\n",
      "Model:                            OLS   Adj. R-squared:                  0.987\n",
      "Method:                 Least Squares   F-statistic:                     904.1\n",
      "Date:                Tue, 04 Jul 2017   Prob (F-statistic):           6.50e-12\n",
      "Time:                        12:47:31   Log-Likelihood:                 83.777\n",
      "No. Observations:                  13   AIC:                            -163.6\n",
      "Df Residuals:                      11   BIC:                            -162.4\n",
      "Df Model:                           1                                         \n",
      "Covariance Type:            nonrobust                                         \n",
      "==============================================================================\n",
      "                 coef    std err          t      P>|t|      [0.025      0.975]\n",
      "------------------------------------------------------------------------------\n",
      "const          1.1233      0.061     18.297      0.000       0.988       1.258\n",
      "year           0.0009    3.1e-05     30.069      0.000       0.001       0.001\n",
      "==============================================================================\n",
      "Omnibus:                        0.310   Durbin-Watson:                   1.642\n",
      "Prob(Omnibus):                  0.856   Jarque-Bera (JB):                0.450\n",
      "Skew:                           0.094   Prob(JB):                        0.799\n",
      "Kurtosis:                       2.108   Cond. No.                     1.05e+06\n",
      "==============================================================================\n",
      "\n",
      "Warnings:\n",
      "[1] Standard Errors assume that the covariance matrix of the errors is correctly specified.\n",
      "[2] The condition number is large, 1.05e+06. This might indicate that there are\n",
      "strong multicollinearity or other numerical problems.\n"
     ]
    },
    {
     "name": "stderr",
     "output_type": "stream",
     "text": [
      "/Users/jeffrey.sternberg/Code/dataquest/lib/python3.5/site-packages/scipy/stats/stats.py:1334: UserWarning: kurtosistest only valid for n>=20 ... continuing anyway, n=13\n",
      "  \"anyway, n=%i\" % int(n))\n"
     ]
    }
   ],
   "source": [
    "print(linearfit.summary())"
   ]
  },
  {
   "cell_type": "code",
   "execution_count": 28,
   "metadata": {
    "collapsed": false
   },
   "outputs": [
    {
     "data": {
      "text/plain": [
       "<statsmodels.regression.linear_model.RegressionResultsWrapper at 0x11af10940>"
      ]
     },
     "execution_count": 28,
     "metadata": {},
     "output_type": "execute_result"
    }
   ],
   "source": [
    "linearfit"
   ]
  },
  {
   "cell_type": "code",
   "execution_count": 30,
   "metadata": {
    "collapsed": false
   },
   "outputs": [],
   "source": [
    "# Our predicted values of y\n",
    "yhat = linearfit.predict(X)"
   ]
  },
  {
   "cell_type": "code",
   "execution_count": 32,
   "metadata": {
    "collapsed": true
   },
   "outputs": [],
   "source": [
    "residuals = yhat - y"
   ]
  },
  {
   "cell_type": "code",
   "execution_count": 33,
   "metadata": {
    "collapsed": false
   },
   "outputs": [
    {
     "data": {
      "text/html": [
       "<div>\n",
       "<table border=\"1\" class=\"dataframe\">\n",
       "  <thead>\n",
       "    <tr style=\"text-align: right;\">\n",
       "      <th></th>\n",
       "      <th>residuals</th>\n",
       "      <th>y</th>\n",
       "      <th>yhat</th>\n",
       "    </tr>\n",
       "  </thead>\n",
       "  <tbody>\n",
       "    <tr>\n",
       "      <th>0</th>\n",
       "      <td>-0.000422</td>\n",
       "      <td>2.9642</td>\n",
       "      <td>2.963778</td>\n",
       "    </tr>\n",
       "    <tr>\n",
       "      <th>1</th>\n",
       "      <td>0.000310</td>\n",
       "      <td>2.9644</td>\n",
       "      <td>2.964710</td>\n",
       "    </tr>\n",
       "    <tr>\n",
       "      <th>2</th>\n",
       "      <td>0.000042</td>\n",
       "      <td>2.9656</td>\n",
       "      <td>2.965642</td>\n",
       "    </tr>\n",
       "    <tr>\n",
       "      <th>3</th>\n",
       "      <td>-0.000126</td>\n",
       "      <td>2.9667</td>\n",
       "      <td>2.966574</td>\n",
       "    </tr>\n",
       "    <tr>\n",
       "      <th>4</th>\n",
       "      <td>0.000205</td>\n",
       "      <td>2.9673</td>\n",
       "      <td>2.967505</td>\n",
       "    </tr>\n",
       "    <tr>\n",
       "      <th>5</th>\n",
       "      <td>-0.000363</td>\n",
       "      <td>2.9688</td>\n",
       "      <td>2.968437</td>\n",
       "    </tr>\n",
       "    <tr>\n",
       "      <th>6</th>\n",
       "      <td>-0.000231</td>\n",
       "      <td>2.9696</td>\n",
       "      <td>2.969369</td>\n",
       "    </tr>\n",
       "    <tr>\n",
       "      <th>7</th>\n",
       "      <td>0.000501</td>\n",
       "      <td>2.9698</td>\n",
       "      <td>2.970301</td>\n",
       "    </tr>\n",
       "    <tr>\n",
       "      <th>8</th>\n",
       "      <td>-0.000067</td>\n",
       "      <td>2.9713</td>\n",
       "      <td>2.971233</td>\n",
       "    </tr>\n",
       "    <tr>\n",
       "      <th>9</th>\n",
       "      <td>0.000465</td>\n",
       "      <td>2.9717</td>\n",
       "      <td>2.972165</td>\n",
       "    </tr>\n",
       "    <tr>\n",
       "      <th>10</th>\n",
       "      <td>0.000597</td>\n",
       "      <td>2.9725</td>\n",
       "      <td>2.973097</td>\n",
       "    </tr>\n",
       "    <tr>\n",
       "      <th>11</th>\n",
       "      <td>-0.000171</td>\n",
       "      <td>2.9742</td>\n",
       "      <td>2.974029</td>\n",
       "    </tr>\n",
       "    <tr>\n",
       "      <th>12</th>\n",
       "      <td>-0.000740</td>\n",
       "      <td>2.9757</td>\n",
       "      <td>2.974960</td>\n",
       "    </tr>\n",
       "  </tbody>\n",
       "</table>\n",
       "</div>"
      ],
      "text/plain": [
       "    residuals       y      yhat\n",
       "0   -0.000422  2.9642  2.963778\n",
       "1    0.000310  2.9644  2.964710\n",
       "2    0.000042  2.9656  2.965642\n",
       "3   -0.000126  2.9667  2.966574\n",
       "4    0.000205  2.9673  2.967505\n",
       "5   -0.000363  2.9688  2.968437\n",
       "6   -0.000231  2.9696  2.969369\n",
       "7    0.000501  2.9698  2.970301\n",
       "8   -0.000067  2.9713  2.971233\n",
       "9    0.000465  2.9717  2.972165\n",
       "10   0.000597  2.9725  2.973097\n",
       "11  -0.000171  2.9742  2.974029\n",
       "12  -0.000740  2.9757  2.974960"
      ]
     },
     "execution_count": 33,
     "metadata": {},
     "output_type": "execute_result"
    }
   ],
   "source": [
    "side_by_side = pd.DataFrame({\"yhat\": yhat, \"y\": y, \"residuals\": residuals})\n",
    "side_by_side"
   ]
  },
  {
   "cell_type": "code",
   "execution_count": 35,
   "metadata": {
    "collapsed": false
   },
   "outputs": [
    {
     "data": {
      "image/png": "[encoded data removed]",
      "text/plain": [
       "<matplotlib.figure.Figure at 0x1185795f8>"
      ]
     },
     "metadata": {},
     "output_type": "display_data"
    }
   ],
   "source": [
    "plt.hist(residuals, bins=5)\n",
    "plt.show()"
   ]
  },
  {
   "cell_type": "markdown",
   "metadata": {},
   "source": [
    "# Standard Error"
   ]
  },
  {
   "cell_type": "code",
   "execution_count": 36,
   "metadata": {
    "collapsed": true
   },
   "outputs": [],
   "source": [
    "import numpy as np\n",
    "\n",
    "# sum the (predicted - observed) squared\n",
    "# Sum of Squared Error\n",
    "SSE = np.sum((y.values-yhat)**2)\n",
    "\n",
    "# bar indicates notation, drawing a line over the y for average / mean\n",
    "ybar = np.mean(y.values)\n",
    "\n",
    "# Regression Sum of Squares -- the difference between the predictions and the mean\n",
    "RSS = np.sum((ybar-yhat)**2)\n",
    "\n",
    "# Total Sum of Squares -- the difference between the actual values and the mean\n",
    "TSS = np.sum((y.values-ybar)**2)"
   ]
  },
  {
   "cell_type": "code",
   "execution_count": 37,
   "metadata": {
    "collapsed": false
   },
   "outputs": [
    {
     "data": {
      "text/plain": [
       "(1.9228571428570597e-06, 0.00015804483516482682, 0.00015996769230769499)"
      ]
     },
     "execution_count": 37,
     "metadata": {},
     "output_type": "execute_result"
    }
   ],
   "source": [
    "SSE, RSS, TSS"
   ]
  },
  {
   "cell_type": "code",
   "execution_count": 38,
   "metadata": {
    "collapsed": true
   },
   "outputs": [],
   "source": [
    "# r squared is the regression sum of squares over the total sum of squares\n",
    "R2 = RSS/TSS"
   ]
  },
  {
   "cell_type": "code",
   "execution_count": 39,
   "metadata": {
    "collapsed": false
   },
   "outputs": [
    {
     "data": {
      "text/plain": [
       "0.98797971568427967"
      ]
     },
     "execution_count": 39,
     "metadata": {},
     "output_type": "execute_result"
    }
   ],
   "source": [
    "R2"
   ]
  },
  {
   "cell_type": "code",
   "execution_count": 40,
   "metadata": {
    "collapsed": false
   },
   "outputs": [
    {
     "name": "stdout",
     "output_type": "stream",
     "text": [
      "0.013978021978\n"
     ]
    }
   ],
   "source": [
    "# Assuming no external forces on the tower, how many meters will the tower of Pisa lean in 15 years?\n",
    "delta = linearfit.params[\"year\"] * 15\n",
    "print(delta)"
   ]
  },
  {
   "cell_type": "code",
   "execution_count": 41,
   "metadata": {
    "collapsed": false
   },
   "outputs": [
    {
     "data": {
      "text/plain": [
       "const    1.123338\n",
       "year     0.000932\n",
       "dtype: float64"
      ]
     },
     "execution_count": 41,
     "metadata": {},
     "output_type": "execute_result"
    }
   ],
   "source": [
    "linearfit.params"
   ]
  },
  {
   "cell_type": "code",
   "execution_count": 42,
   "metadata": {
    "collapsed": true
   },
   "outputs": [],
   "source": [
    "# calculate the estimated variance of the 'year' coefficient (beta 1)\n",
    "# the standard error s is the square root of the estimated variance (s2) \n",
    "# the estimated variance (s2) is the square of the standard error s\n",
    "\n",
    "xvar = np.sum((pisa[\"year\"] - pisa[\"year\"].mean())**2)\n",
    "\n",
    "s2b1 = SSE / ((pisa.shape[0] - 2) * xvar)"
   ]
  },
  {
   "cell_type": "code",
   "execution_count": 43,
   "metadata": {
    "collapsed": false
   },
   "outputs": [
    {
     "data": {
      "text/plain": [
       "9.6046810332520455e-10"
      ]
     },
     "execution_count": 43,
     "metadata": {},
     "output_type": "execute_result"
    }
   ],
   "source": [
    "s2b1"
   ]
  },
  {
   "cell_type": "code",
   "execution_count": 44,
   "metadata": {
    "collapsed": false
   },
   "outputs": [
    {
     "data": {
      "text/plain": [
       "3.0991419833967025e-05"
      ]
     },
     "execution_count": 44,
     "metadata": {},
     "output_type": "execute_result"
    }
   ],
   "source": [
    "# should match 3.1e-05 from the linearfit summary... and it does!\n",
    "np.sqrt(s2b1)"
   ]
  },
  {
   "cell_type": "markdown",
   "metadata": {},
   "source": [
    "# T Distribution"
   ]
  },
  {
   "cell_type": "code",
   "execution_count": 45,
   "metadata": {
    "collapsed": false
   },
   "outputs": [
    {
     "data": {
      "image/png": "[encoded data removed]",
      "text/plain": [
       "<matplotlib.figure.Figure at 0x11af60ef0>"
      ]
     },
     "metadata": {},
     "output_type": "display_data"
    }
   ],
   "source": [
    "from scipy.stats import t\n",
    "\n",
    "# 100 values between -3 and 3\n",
    "x = np.linspace(-3,3,100)\n",
    "\n",
    "# Compute the pdf with 3 degrees of freedom\n",
    "#print(t.pdf(x=x, df=3))\n",
    "\n",
    "# get probability density function of the t distribution for these 100 values with different degrees of freedom\n",
    "tdist3 = t.pdf(x=x, df=3)\n",
    "tdist30 = t.pdf(x=x, df=30)\n",
    "\n",
    "# plot them on 1 plot\n",
    "plt.plot(x, tdist3)\n",
    "plt.plot(x, tdist30)\n",
    "plt.show()"
   ]
  },
  {
   "cell_type": "markdown",
   "metadata": {},
   "source": [
    "# Statistical Significance Of Coefficients\n",
    "Now that we know what the t-distribution is we can use it for significance testing. To do significance testing we must first start by stating our hypothesis. We want to test whether the lean of the tower depends on the year, ie. every year the tower leans a certain amount. This is done by setting null and alternative hypotheses. \n",
    "\n",
    "In our case we will say the null hypothesis is that the lean of the tower of Pisa does not depend on the year, meaning the coefficient will be equal to zero. \n",
    "\n",
    "The alternative hypothesis would then be that the lean of the tower depends on the year, i.e., the coefficient is not equal to zero."
   ]
  },
  {
   "cell_type": "code",
   "execution_count": 50,
   "metadata": {
    "collapsed": true
   },
   "outputs": [],
   "source": [
    "# The variable s2b1 is in memory.  The variance of beta_1\n",
    "tstat = linearfit.params[\"year\"] / np.sqrt(s2b1)"
   ]
  },
  {
   "cell_type": "code",
   "execution_count": 51,
   "metadata": {
    "collapsed": false
   },
   "outputs": [
    {
     "data": {
      "text/plain": [
       "30.068584687648393"
      ]
     },
     "execution_count": 51,
     "metadata": {},
     "output_type": "execute_result"
    }
   ],
   "source": [
    "tstat"
   ]
  },
  {
   "cell_type": "code",
   "execution_count": 52,
   "metadata": {
    "collapsed": true
   },
   "outputs": [],
   "source": [
    "# At the 95% confidence interval for a two-sided t-test we must use a p-value of 0.975\n",
    "pval = 0.975\n",
    "\n",
    "# The degrees of freedom\n",
    "df = pisa.shape[0] - 2\n",
    "\n",
    "# The probability to test against\n",
    "p = t.cdf(tstat, df=df)\n",
    "\n",
    "beta1_test = p > pval"
   ]
  },
  {
   "cell_type": "code",
   "execution_count": 53,
   "metadata": {
    "collapsed": false
   },
   "outputs": [
    {
     "data": {
      "text/plain": [
       "True"
      ]
     },
     "execution_count": 53,
     "metadata": {},
     "output_type": "execute_result"
    }
   ],
   "source": [
    "beta1_test"
   ]
  },
  {
   "cell_type": "code",
   "execution_count": 54,
   "metadata": {
    "collapsed": true
   },
   "outputs": [],
   "source": [
    "# because beta1_test is True, we reject the null hypothesis and say that the lean of the tower does depend on the year"
   ]
  },
  {
   "cell_type": "code",
   "execution_count": null,
   "metadata": {
    "collapsed": true
   },
   "outputs": [],
   "source": []
  }
 ],
 "metadata": {
  "kernelspec": {
   "display_name": "Python 3 (dataquest)",
   "language": "python",
   "name": "other-env"
  },
  "language_info": {
   "codemirror_mode": {
    "name": "ipython",
    "version": 3
   },
   "file_extension": ".py",
   "mimetype": "text/x-python",
   "name": "python",
   "nbconvert_exporter": "python",
   "pygments_lexer": "ipython3",
   "version": "3.5.1"
  }
 },
 "nbformat": 4,
 "nbformat_minor": 0
}
