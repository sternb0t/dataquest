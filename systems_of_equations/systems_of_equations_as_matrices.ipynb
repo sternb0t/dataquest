{
 "cells": [
  {
   "cell_type": "markdown",
   "metadata": {},
   "source": [
    "# Systems Of Equations As Matrices\n",
    "\n",
    "We've worked a bit with matrices before, and the very cool thing about systems of equations is that we can represent them the same way.\n",
    "\n",
    "We could represent our equations above as a matrix that looks like this:\n",
    "\n",
    "```\n",
    "[\n",
    "    [2, 1, | 25],\n",
    "    [3, 2, | 40]  \n",
    "]\n",
    "```\n",
    "\n",
    "This is just a matrix that contains the coefficients and constants in our equations. We call this an augmented matrix, because it has both the constants and the coefficients. The line separates them, with constants to the right.\n",
    "\n",
    "This matrix has three columns and two rows (where each row represents an equation in the system). The first column represents xx, the second represents yy, and the third is for the constants in the equations (which appear on the right of the = sign).\n",
    "\n",
    "Systems of equations form the underpinnings of linear algebra, but we generally work with matrices like this one because it's easier for us to represent them.\n",
    "\n",
    "The simplest way to represent a matrix in Python is with a NumPy array. A NumPy array can have rows and columns, just like a matrix."
   ]
  },
  {
   "cell_type": "code",
   "execution_count": 1,
   "metadata": {
    "collapsed": true
   },
   "outputs": [],
   "source": [
    "import numpy as np\n",
    "\n",
    "# Set the dtype to float to do float math with the numbers\n",
    "matrix = np.asarray([\n",
    "    [2, 1, 25],\n",
    "    [3, 2, 40]  \n",
    "], dtype=np.float32)"
   ]
  },
  {
   "cell_type": "code",
   "execution_count": 2,
   "metadata": {
    "collapsed": false
   },
   "outputs": [
    {
     "data": {
      "text/plain": [
       "array([[  2.,   1.,  25.],\n",
       "       [  3.,   2.,  40.]], dtype=float32)"
      ]
     },
     "execution_count": 2,
     "metadata": {},
     "output_type": "execute_result"
    }
   ],
   "source": [
    "matrix"
   ]
  },
  {
   "cell_type": "code",
   "execution_count": 5,
   "metadata": {
    "collapsed": true
   },
   "outputs": [],
   "source": [
    "# Multiply the first row of the matrix by 2.\n",
    "matrix[0] = matrix[0] * 2"
   ]
  },
  {
   "cell_type": "code",
   "execution_count": 6,
   "metadata": {
    "collapsed": false
   },
   "outputs": [
    {
     "data": {
      "text/plain": [
       "array([[  4.,   2.,  50.],\n",
       "       [  3.,   2.,  40.]], dtype=float32)"
      ]
     },
     "execution_count": 6,
     "metadata": {},
     "output_type": "execute_result"
    }
   ],
   "source": [
    "matrix"
   ]
  },
  {
   "cell_type": "code",
   "execution_count": 8,
   "metadata": {
    "collapsed": false
   },
   "outputs": [],
   "source": [
    "# Subtract the second row from the first row.\n",
    "matrix[0] = matrix[0] - matrix[1]"
   ]
  },
  {
   "cell_type": "code",
   "execution_count": 9,
   "metadata": {
    "collapsed": false
   },
   "outputs": [
    {
     "data": {
      "text/plain": [
       "array([[  1.,   0.,  10.],\n",
       "       [  3.,   2.,  40.]], dtype=float32)"
      ]
     },
     "execution_count": 9,
     "metadata": {},
     "output_type": "execute_result"
    }
   ],
   "source": [
    "matrix"
   ]
  },
  {
   "cell_type": "code",
   "execution_count": 11,
   "metadata": {
    "collapsed": false
   },
   "outputs": [],
   "source": [
    "# Subtract 3 times the first row from the second row.\n",
    "matrix[1] = matrix[1] - (matrix[0] * 3)"
   ]
  },
  {
   "cell_type": "code",
   "execution_count": 12,
   "metadata": {
    "collapsed": false
   },
   "outputs": [
    {
     "data": {
      "text/plain": [
       "array([[  1.,   0.,  10.],\n",
       "       [  0.,   2.,  10.]], dtype=float32)"
      ]
     },
     "execution_count": 12,
     "metadata": {},
     "output_type": "execute_result"
    }
   ],
   "source": [
    "matrix"
   ]
  },
  {
   "cell_type": "code",
   "execution_count": 13,
   "metadata": {
    "collapsed": true
   },
   "outputs": [],
   "source": [
    "# Finally, divide the second row by 2 to get rid of the coefficient.\n",
    "matrix[1] = matrix[1] / 2"
   ]
  },
  {
   "cell_type": "code",
   "execution_count": 14,
   "metadata": {
    "collapsed": false
   },
   "outputs": [
    {
     "data": {
      "text/plain": [
       "array([[  1.,   0.,  10.],\n",
       "       [  0.,   1.,   5.]], dtype=float32)"
      ]
     },
     "execution_count": 14,
     "metadata": {},
     "output_type": "execute_result"
    }
   ],
   "source": [
    "matrix"
   ]
  },
  {
   "cell_type": "code",
   "execution_count": 15,
   "metadata": {
    "collapsed": true
   },
   "outputs": [],
   "source": [
    "# More complex"
   ]
  },
  {
   "cell_type": "code",
   "execution_count": 99,
   "metadata": {
    "collapsed": true
   },
   "outputs": [],
   "source": [
    "import numpy as np\n",
    "\n",
    "matrix = np.asarray([\n",
    "    [1, 2, 0, 7],\n",
    "    [0, 3, 3, 11],\n",
    "    [1, 2, 2, 11]\n",
    "], dtype=np.float32)"
   ]
  },
  {
   "cell_type": "code",
   "execution_count": 100,
   "metadata": {
    "collapsed": false
   },
   "outputs": [
    {
     "data": {
      "text/plain": [
       "array([[  1.,   2.,   0.,   7.],\n",
       "       [  0.,   3.,   3.,  11.],\n",
       "       [  0.,   0.,   2.,   4.]], dtype=float32)"
      ]
     },
     "execution_count": 100,
     "metadata": {},
     "output_type": "execute_result"
    }
   ],
   "source": [
    "matrix[2] = matrix[2] - matrix[0]\n",
    "matrix"
   ]
  },
  {
   "cell_type": "code",
   "execution_count": 101,
   "metadata": {
    "collapsed": false
   },
   "outputs": [
    {
     "data": {
      "text/plain": [
       "array([[  1.,   2.,   0.,   7.],\n",
       "       [  0.,   3.,   3.,  11.],\n",
       "       [  0.,   0.,   1.,   2.]], dtype=float32)"
      ]
     },
     "execution_count": 101,
     "metadata": {},
     "output_type": "execute_result"
    }
   ],
   "source": [
    "matrix[2] = matrix[2] / 2\n",
    "matrix"
   ]
  },
  {
   "cell_type": "code",
   "execution_count": 102,
   "metadata": {
    "collapsed": false
   },
   "outputs": [
    {
     "data": {
      "text/plain": [
       "array([[ 1.,  2.,  0.,  7.],\n",
       "       [ 0.,  3.,  0.,  5.],\n",
       "       [ 0.,  0.,  1.,  2.]], dtype=float32)"
      ]
     },
     "execution_count": 102,
     "metadata": {},
     "output_type": "execute_result"
    }
   ],
   "source": [
    "matrix[1] -= matrix[2] * 3\n",
    "matrix"
   ]
  },
  {
   "cell_type": "code",
   "execution_count": 103,
   "metadata": {
    "collapsed": false
   },
   "outputs": [
    {
     "data": {
      "text/plain": [
       "array([[ 1.        ,  2.        ,  0.        ,  7.        ],\n",
       "       [ 0.        ,  1.        ,  0.        ,  1.66666663],\n",
       "       [ 0.        ,  0.        ,  1.        ,  2.        ]], dtype=float32)"
      ]
     },
     "execution_count": 103,
     "metadata": {},
     "output_type": "execute_result"
    }
   ],
   "source": [
    "# Divide the second row by 3\n",
    "matrix[1] /= 3\n",
    "matrix"
   ]
  },
  {
   "cell_type": "code",
   "execution_count": 104,
   "metadata": {
    "collapsed": false
   },
   "outputs": [
    {
     "data": {
      "text/plain": [
       "array([[ 1.        ,  0.        ,  0.        ,  3.66666675],\n",
       "       [ 0.        ,  1.        ,  0.        ,  1.66666663],\n",
       "       [ 0.        ,  0.        ,  1.        ,  2.        ]], dtype=float32)"
      ]
     },
     "execution_count": 104,
     "metadata": {},
     "output_type": "execute_result"
    }
   ],
   "source": [
    "# subtract 2x 2nd row from 1st\n",
    "matrix[0] -= (matrix[1] * 2)\n",
    "matrix"
   ]
  },
  {
   "cell_type": "code",
   "execution_count": null,
   "metadata": {
    "collapsed": true
   },
   "outputs": [],
   "source": [
    "# more practice"
   ]
  },
  {
   "cell_type": "code",
   "execution_count": 128,
   "metadata": {
    "collapsed": true
   },
   "outputs": [],
   "source": [
    "# 3x + y = 3\n",
    "# 4x - 3y = 17\n",
    "\n",
    "matrix = np.asarray([\n",
    "    [3, 1, 3],\n",
    "    [4, -3, 17]\n",
    "], dtype=np.float32)\n"
   ]
  },
  {
   "cell_type": "code",
   "execution_count": 129,
   "metadata": {
    "collapsed": false
   },
   "outputs": [
    {
     "data": {
      "text/plain": [
       "array([[  3.,   1.,   3.],\n",
       "       [  4.,  -3.,  17.]], dtype=float32)"
      ]
     },
     "execution_count": 129,
     "metadata": {},
     "output_type": "execute_result"
    }
   ],
   "source": [
    "matrix"
   ]
  },
  {
   "cell_type": "code",
   "execution_count": 130,
   "metadata": {
    "collapsed": false
   },
   "outputs": [
    {
     "data": {
      "text/plain": [
       "array([[  9.,   3.,   9.],\n",
       "       [  4.,  -3.,  17.]], dtype=float32)"
      ]
     },
     "execution_count": 130,
     "metadata": {},
     "output_type": "execute_result"
    }
   ],
   "source": [
    "matrix[0] *= 3\n",
    "matrix"
   ]
  },
  {
   "cell_type": "code",
   "execution_count": 131,
   "metadata": {
    "collapsed": false
   },
   "outputs": [
    {
     "data": {
      "text/plain": [
       "array([[ 13.,   0.,  26.],\n",
       "       [  4.,  -3.,  17.]], dtype=float32)"
      ]
     },
     "execution_count": 131,
     "metadata": {},
     "output_type": "execute_result"
    }
   ],
   "source": [
    "matrix[0] += matrix[1]\n",
    "matrix"
   ]
  },
  {
   "cell_type": "code",
   "execution_count": 132,
   "metadata": {
    "collapsed": false
   },
   "outputs": [
    {
     "data": {
      "text/plain": [
       "array([[  1.,   0.,   2.],\n",
       "       [  4.,  -3.,  17.]], dtype=float32)"
      ]
     },
     "execution_count": 132,
     "metadata": {},
     "output_type": "execute_result"
    }
   ],
   "source": [
    "matrix[0] /= 13\n",
    "matrix"
   ]
  },
  {
   "cell_type": "code",
   "execution_count": 136,
   "metadata": {
    "collapsed": false
   },
   "outputs": [
    {
     "data": {
      "text/plain": [
       "array([[ 1.,  0.,  2.],\n",
       "       [ 0., -3.,  9.]], dtype=float32)"
      ]
     },
     "execution_count": 136,
     "metadata": {},
     "output_type": "execute_result"
    }
   ],
   "source": [
    "# 4x * 2 = 8, subtract 8 from both sides\n",
    "matrix[1][0] = 0\n",
    "matrix[1][2] = 9\n",
    "matrix"
   ]
  },
  {
   "cell_type": "code",
   "execution_count": 137,
   "metadata": {
    "collapsed": false
   },
   "outputs": [
    {
     "data": {
      "text/plain": [
       "array([[ 1.,  0.,  2.],\n",
       "       [-0.,  1., -3.]], dtype=float32)"
      ]
     },
     "execution_count": 137,
     "metadata": {},
     "output_type": "execute_result"
    }
   ],
   "source": [
    "matrix[1] /= -3\n",
    "matrix"
   ]
  },
  {
   "cell_type": "code",
   "execution_count": 139,
   "metadata": {
    "collapsed": false
   },
   "outputs": [
    {
     "data": {
      "text/plain": [
       "array([[  0.,   0.,   0.,   7.],\n",
       "       [  0.,   0.,   1.,  11.],\n",
       "       [  1.,   2.,   2.,  11.],\n",
       "       [  0.,   5.,   5.,   1.]], dtype=float32)"
      ]
     },
     "execution_count": 139,
     "metadata": {},
     "output_type": "execute_result"
    }
   ],
   "source": [
    "# echelon form\n",
    "\n",
    "matrix = np.asarray([\n",
    "    [0, 0, 0, 7],\n",
    "    [0, 0, 1, 11],\n",
    "    [1, 2, 2, 11],\n",
    "    [0, 5, 5, 1]\n",
    "], dtype=np.float32)\n",
    "matrix"
   ]
  },
  {
   "cell_type": "code",
   "execution_count": 140,
   "metadata": {
    "collapsed": false
   },
   "outputs": [
    {
     "data": {
      "text/plain": [
       "array([[  0.,   0.,   0.,   7.],\n",
       "       [  1.,   2.,   2.,  11.]], dtype=float32)"
      ]
     },
     "execution_count": 140,
     "metadata": {},
     "output_type": "execute_result"
    }
   ],
   "source": [
    "matrix[[0,2]]"
   ]
  },
  {
   "cell_type": "code",
   "execution_count": 141,
   "metadata": {
    "collapsed": false
   },
   "outputs": [
    {
     "data": {
      "text/plain": [
       "array([[  1.,   2.,   2.,  11.],\n",
       "       [  0.,   0.,   1.,  11.],\n",
       "       [  0.,   0.,   0.,   7.],\n",
       "       [  0.,   5.,   5.,   1.]], dtype=float32)"
      ]
     },
     "execution_count": 141,
     "metadata": {},
     "output_type": "execute_result"
    }
   ],
   "source": [
    "matrix[[0,2]] = matrix[[2,0]]\n",
    "matrix"
   ]
  },
  {
   "cell_type": "code",
   "execution_count": 143,
   "metadata": {
    "collapsed": false
   },
   "outputs": [
    {
     "data": {
      "text/plain": [
       "array([[  1.,   2.,   2.,  11.],\n",
       "       [  0.,   5.,   5.,   1.],\n",
       "       [  0.,   0.,   0.,   7.],\n",
       "       [  0.,   0.,   1.,  11.]], dtype=float32)"
      ]
     },
     "execution_count": 143,
     "metadata": {},
     "output_type": "execute_result"
    }
   ],
   "source": [
    "# swap 2nd and 4th\n",
    "matrix[[1,3]] = matrix[[3,1]]\n",
    "matrix"
   ]
  },
  {
   "cell_type": "code",
   "execution_count": 144,
   "metadata": {
    "collapsed": false
   },
   "outputs": [
    {
     "data": {
      "text/plain": [
       "array([[  1.,   2.,   2.,  11.],\n",
       "       [  0.,   5.,   5.,   1.],\n",
       "       [  0.,   0.,   1.,  11.],\n",
       "       [  0.,   0.,   0.,   7.]], dtype=float32)"
      ]
     },
     "execution_count": 144,
     "metadata": {},
     "output_type": "execute_result"
    }
   ],
   "source": [
    "# swap 3nd and 4th\n",
    "matrix[[2,3]] = matrix[[3,2]]\n",
    "matrix"
   ]
  },
  {
   "cell_type": "code",
   "execution_count": 145,
   "metadata": {
    "collapsed": false
   },
   "outputs": [
    {
     "data": {
      "text/plain": [
       "array([[ 10.,   5.,  20.,  60.],\n",
       "       [  3.,   1.,   0.,  11.],\n",
       "       [  8.,   2.,   2.,  30.],\n",
       "       [  0.,   4.,   5.,  13.]], dtype=float32)"
      ]
     },
     "execution_count": 145,
     "metadata": {},
     "output_type": "execute_result"
    }
   ],
   "source": [
    "# try to convert to reduced row echelon form\n",
    "A = np.asarray([\n",
    "    [10, 5, 20, 60],\n",
    "    [3, 1, 0, 11],\n",
    "    [8, 2, 2, 30],\n",
    "    [0, 4, 5, 13]\n",
    "], dtype=np.float32)\n",
    "A"
   ]
  },
  {
   "cell_type": "code",
   "execution_count": 146,
   "metadata": {
    "collapsed": false
   },
   "outputs": [
    {
     "data": {
      "text/plain": [
       "array([[  1. ,   0.5,   2. ,   6. ],\n",
       "       [  3. ,   1. ,   0. ,  11. ],\n",
       "       [  8. ,   2. ,   2. ,  30. ],\n",
       "       [  0. ,   4. ,   5. ,  13. ]], dtype=float32)"
      ]
     },
     "execution_count": 146,
     "metadata": {},
     "output_type": "execute_result"
    }
   ],
   "source": [
    "A[0] /= 10\n",
    "A"
   ]
  },
  {
   "cell_type": "code",
   "execution_count": 147,
   "metadata": {
    "collapsed": false
   },
   "outputs": [
    {
     "data": {
      "text/plain": [
       "array([[  1. ,   0.5,   2. ,   6. ],\n",
       "       [  0. ,  -0.5,  -6. ,  -7. ],\n",
       "       [  8. ,   2. ,   2. ,  30. ],\n",
       "       [  0. ,   4. ,   5. ,  13. ]], dtype=float32)"
      ]
     },
     "execution_count": 147,
     "metadata": {},
     "output_type": "execute_result"
    }
   ],
   "source": [
    "A[1] -= A[0] * 3\n",
    "A"
   ]
  },
  {
   "cell_type": "code",
   "execution_count": 148,
   "metadata": {
    "collapsed": false
   },
   "outputs": [
    {
     "data": {
      "text/plain": [
       "array([[  1. ,   0.5,   2. ,   6. ],\n",
       "       [  0. ,  -0.5,  -6. ,  -7. ],\n",
       "       [  0. ,  -2. , -14. , -18. ],\n",
       "       [  0. ,   4. ,   5. ,  13. ]], dtype=float32)"
      ]
     },
     "execution_count": 148,
     "metadata": {},
     "output_type": "execute_result"
    }
   ],
   "source": [
    "A[2] -= A[0] * 8\n",
    "A"
   ]
  },
  {
   "cell_type": "code",
   "execution_count": 149,
   "metadata": {
    "collapsed": false
   },
   "outputs": [
    {
     "data": {
      "text/plain": [
       "array([[  1. ,   0.5,   2. ,   6. ],\n",
       "       [ -0. ,   1. ,  12. ,  14. ],\n",
       "       [  0. ,  -2. , -14. , -18. ],\n",
       "       [  0. ,   4. ,   5. ,  13. ]], dtype=float32)"
      ]
     },
     "execution_count": 149,
     "metadata": {},
     "output_type": "execute_result"
    }
   ],
   "source": [
    "A[1] /= -0.5\n",
    "A"
   ]
  },
  {
   "cell_type": "code",
   "execution_count": 150,
   "metadata": {
    "collapsed": false
   },
   "outputs": [
    {
     "data": {
      "text/plain": [
       "array([[  1. ,   0.5,   2. ,   6. ],\n",
       "       [ -0. ,   1. ,  12. ,  14. ],\n",
       "       [  0. ,   0. ,  10. ,  10. ],\n",
       "       [  0. ,   4. ,   5. ,  13. ]], dtype=float32)"
      ]
     },
     "execution_count": 150,
     "metadata": {},
     "output_type": "execute_result"
    }
   ],
   "source": [
    "A[2] -= A[1] * -2\n",
    "A"
   ]
  },
  {
   "cell_type": "code",
   "execution_count": 151,
   "metadata": {
    "collapsed": false
   },
   "outputs": [
    {
     "data": {
      "text/plain": [
       "array([[  1.,   0.,  -4.,  -1.],\n",
       "       [ -0.,   1.,  12.,  14.],\n",
       "       [  0.,   0.,  10.,  10.],\n",
       "       [  0.,   4.,   5.,  13.]], dtype=float32)"
      ]
     },
     "execution_count": 151,
     "metadata": {},
     "output_type": "execute_result"
    }
   ],
   "source": [
    "A[0] -= A[1] * 0.5\n",
    "A"
   ]
  },
  {
   "cell_type": "code",
   "execution_count": 152,
   "metadata": {
    "collapsed": false
   },
   "outputs": [
    {
     "data": {
      "text/plain": [
       "array([[  1.,   0.,  -4.,  -1.],\n",
       "       [ -0.,   1.,  12.,  14.],\n",
       "       [  0.,   0.,  10.,  10.],\n",
       "       [  0.,   0., -43., -43.]], dtype=float32)"
      ]
     },
     "execution_count": 152,
     "metadata": {},
     "output_type": "execute_result"
    }
   ],
   "source": [
    "A[3] -= A[1] * 4\n",
    "A"
   ]
  },
  {
   "cell_type": "code",
   "execution_count": 153,
   "metadata": {
    "collapsed": false
   },
   "outputs": [
    {
     "data": {
      "text/plain": [
       "array([[  1.,   0.,  -4.,  -1.],\n",
       "       [ -0.,   1.,  12.,  14.],\n",
       "       [  0.,   0.,   1.,   1.],\n",
       "       [  0.,   0., -43., -43.]], dtype=float32)"
      ]
     },
     "execution_count": 153,
     "metadata": {},
     "output_type": "execute_result"
    }
   ],
   "source": [
    "A[2] /= 10\n",
    "A"
   ]
  },
  {
   "cell_type": "code",
   "execution_count": 154,
   "metadata": {
    "collapsed": false
   },
   "outputs": [
    {
     "data": {
      "text/plain": [
       "array([[  1.,   0.,   0.,   3.],\n",
       "       [ -0.,   1.,  12.,  14.],\n",
       "       [  0.,   0.,   1.,   1.],\n",
       "       [  0.,   0., -43., -43.]], dtype=float32)"
      ]
     },
     "execution_count": 154,
     "metadata": {},
     "output_type": "execute_result"
    }
   ],
   "source": [
    "A[0] -= A[2] * -4\n",
    "A"
   ]
  },
  {
   "cell_type": "code",
   "execution_count": 155,
   "metadata": {
    "collapsed": false
   },
   "outputs": [
    {
     "data": {
      "text/plain": [
       "array([[  1.,   0.,   0.,   3.],\n",
       "       [ -0.,   1.,   0.,   2.],\n",
       "       [  0.,   0.,   1.,   1.],\n",
       "       [  0.,   0., -43., -43.]], dtype=float32)"
      ]
     },
     "execution_count": 155,
     "metadata": {},
     "output_type": "execute_result"
    }
   ],
   "source": [
    "A[1] -= A[2] * 12\n",
    "A"
   ]
  },
  {
   "cell_type": "code",
   "execution_count": 156,
   "metadata": {
    "collapsed": false
   },
   "outputs": [
    {
     "data": {
      "text/plain": [
       "array([[ 1.,  0.,  0.,  3.],\n",
       "       [-0.,  1.,  0.,  2.],\n",
       "       [ 0.,  0.,  1.,  1.],\n",
       "       [ 0.,  0.,  0.,  0.]], dtype=float32)"
      ]
     },
     "execution_count": 156,
     "metadata": {},
     "output_type": "execute_result"
    }
   ],
   "source": [
    "A[3] -= A[2] * -43\n",
    "A"
   ]
  },
  {
   "cell_type": "code",
   "execution_count": 158,
   "metadata": {
    "collapsed": false
   },
   "outputs": [
    {
     "data": {
      "text/plain": [
       "array([[  5.,  -1.,   3.,  14.],\n",
       "       [  0.,   1.,   2.,   8.],\n",
       "       [  0.,  -2.,   5.,   1.],\n",
       "       [  0.,   0.,   6.,   6.]], dtype=float32)"
      ]
     },
     "execution_count": 158,
     "metadata": {},
     "output_type": "execute_result"
    }
   ],
   "source": [
    "B = np.asarray([\n",
    "    [5, -1, 3, 14],\n",
    "    [0, 1, 2, 8],\n",
    "    [0, -2, 5, 1],\n",
    "    [0, 0, 6, 6]\n",
    "], dtype=np.float32)\n",
    "B"
   ]
  },
  {
   "cell_type": "code",
   "execution_count": 159,
   "metadata": {
    "collapsed": false
   },
   "outputs": [
    {
     "data": {
      "text/plain": [
       "array([[ 1.        , -0.2       ,  0.60000002,  2.79999995],\n",
       "       [ 0.        ,  1.        ,  2.        ,  8.        ],\n",
       "       [ 0.        , -2.        ,  5.        ,  1.        ],\n",
       "       [ 0.        ,  0.        ,  6.        ,  6.        ]], dtype=float32)"
      ]
     },
     "execution_count": 159,
     "metadata": {},
     "output_type": "execute_result"
    }
   ],
   "source": [
    "B[0] /= 5\n",
    "B"
   ]
  },
  {
   "cell_type": "code",
   "execution_count": 160,
   "metadata": {
    "collapsed": false
   },
   "outputs": [
    {
     "data": {
      "text/plain": [
       "array([[ 1.       ,  0.       ,  1.       ,  4.4000001],\n",
       "       [ 0.       ,  1.       ,  2.       ,  8.       ],\n",
       "       [ 0.       , -2.       ,  5.       ,  1.       ],\n",
       "       [ 0.       ,  0.       ,  6.       ,  6.       ]], dtype=float32)"
      ]
     },
     "execution_count": 160,
     "metadata": {},
     "output_type": "execute_result"
    }
   ],
   "source": [
    "B[0] -= B[1] * -0.2\n",
    "B"
   ]
  },
  {
   "cell_type": "code",
   "execution_count": 161,
   "metadata": {
    "collapsed": true
   },
   "outputs": [],
   "source": [
    "B[2] -= B[1] * -2"
   ]
  },
  {
   "cell_type": "code",
   "execution_count": 162,
   "metadata": {
    "collapsed": false
   },
   "outputs": [
    {
     "data": {
      "text/plain": [
       "array([[  1.       ,   0.       ,   1.       ,   4.4000001],\n",
       "       [  0.       ,   1.       ,   2.       ,   8.       ],\n",
       "       [  0.       ,   0.       ,   9.       ,  17.       ],\n",
       "       [  0.       ,   0.       ,   6.       ,   6.       ]], dtype=float32)"
      ]
     },
     "execution_count": 162,
     "metadata": {},
     "output_type": "execute_result"
    }
   ],
   "source": [
    "B"
   ]
  },
  {
   "cell_type": "code",
   "execution_count": 163,
   "metadata": {
    "collapsed": false
   },
   "outputs": [
    {
     "data": {
      "text/plain": [
       "array([[ 1.        ,  0.        ,  1.        ,  4.4000001 ],\n",
       "       [ 0.        ,  1.        ,  2.        ,  8.        ],\n",
       "       [ 0.        ,  0.        ,  1.        ,  1.88888884],\n",
       "       [ 0.        ,  0.        ,  6.        ,  6.        ]], dtype=float32)"
      ]
     },
     "execution_count": 163,
     "metadata": {},
     "output_type": "execute_result"
    }
   ],
   "source": [
    "B[2]/= 9\n",
    "B"
   ]
  },
  {
   "cell_type": "code",
   "execution_count": 164,
   "metadata": {
    "collapsed": false
   },
   "outputs": [
    {
     "data": {
      "text/plain": [
       "array([[ 1.        ,  0.        ,  0.        ,  2.51111126],\n",
       "       [ 0.        ,  1.        ,  2.        ,  8.        ],\n",
       "       [ 0.        ,  0.        ,  1.        ,  1.88888884],\n",
       "       [ 0.        ,  0.        ,  6.        ,  6.        ]], dtype=float32)"
      ]
     },
     "execution_count": 164,
     "metadata": {},
     "output_type": "execute_result"
    }
   ],
   "source": [
    "B[0] -= B[2]\n",
    "B"
   ]
  },
  {
   "cell_type": "code",
   "execution_count": 165,
   "metadata": {
    "collapsed": true
   },
   "outputs": [],
   "source": [
    "B[1] -= B[2] * 2"
   ]
  },
  {
   "cell_type": "code",
   "execution_count": 166,
   "metadata": {
    "collapsed": false
   },
   "outputs": [
    {
     "data": {
      "text/plain": [
       "array([[ 1.        ,  0.        ,  0.        ,  2.51111126],\n",
       "       [ 0.        ,  1.        ,  0.        ,  4.22222233],\n",
       "       [ 0.        ,  0.        ,  1.        ,  1.88888884],\n",
       "       [ 0.        ,  0.        ,  6.        ,  6.        ]], dtype=float32)"
      ]
     },
     "execution_count": 166,
     "metadata": {},
     "output_type": "execute_result"
    }
   ],
   "source": [
    "B"
   ]
  },
  {
   "cell_type": "code",
   "execution_count": 167,
   "metadata": {
    "collapsed": false
   },
   "outputs": [
    {
     "data": {
      "text/plain": [
       "array([[ 1.        ,  0.        ,  0.        ,  2.51111126],\n",
       "       [ 0.        ,  1.        ,  0.        ,  4.22222233],\n",
       "       [ 0.        ,  0.        ,  1.        ,  1.88888884],\n",
       "       [ 0.        ,  0.        ,  0.        , -5.33333302]], dtype=float32)"
      ]
     },
     "execution_count": 167,
     "metadata": {},
     "output_type": "execute_result"
    }
   ],
   "source": [
    "B[3] -= B[2] * 6\n",
    "B"
   ]
  },
  {
   "cell_type": "code",
   "execution_count": 168,
   "metadata": {
    "collapsed": false
   },
   "outputs": [
    {
     "data": {
      "text/plain": [
       "array([[ 1.        ,  0.        ,  0.        ,  2.51111126],\n",
       "       [ 0.        ,  1.        ,  0.        ,  4.22222233],\n",
       "       [ 0.        ,  0.        ,  1.        ,  1.88888884],\n",
       "       [-0.        , -0.        , -0.        ,  1.        ]], dtype=float32)"
      ]
     },
     "execution_count": 168,
     "metadata": {},
     "output_type": "execute_result"
    }
   ],
   "source": [
    "B[3] /= -5.33333302\n",
    "B"
   ]
  },
  {
   "cell_type": "code",
   "execution_count": 169,
   "metadata": {
    "collapsed": false
   },
   "outputs": [
    {
     "data": {
      "text/plain": [
       "array([[ 1.        ,  0.        ,  0.        ,  0.        ],\n",
       "       [ 0.        ,  1.        ,  0.        ,  4.22222233],\n",
       "       [ 0.        ,  0.        ,  1.        ,  1.88888884],\n",
       "       [-0.        , -0.        , -0.        ,  1.        ]], dtype=float32)"
      ]
     },
     "execution_count": 169,
     "metadata": {},
     "output_type": "execute_result"
    }
   ],
   "source": [
    "B[0] -= B[3] * 2.51111126\n",
    "B"
   ]
  },
  {
   "cell_type": "code",
   "execution_count": 171,
   "metadata": {
    "collapsed": false
   },
   "outputs": [
    {
     "data": {
      "text/plain": [
       "array([[ 1.        ,  0.        ,  0.        ,  0.        ],\n",
       "       [ 0.        ,  1.        ,  0.        ,  0.        ],\n",
       "       [ 0.        ,  0.        ,  1.        ,  1.88888884],\n",
       "       [-0.        , -0.        , -0.        ,  1.        ]], dtype=float32)"
      ]
     },
     "execution_count": 171,
     "metadata": {},
     "output_type": "execute_result"
    }
   ],
   "source": [
    "B[1] -= B[3] * 4.22222233\n",
    "B"
   ]
  },
  {
   "cell_type": "code",
   "execution_count": 172,
   "metadata": {
    "collapsed": false
   },
   "outputs": [
    {
     "data": {
      "text/plain": [
       "array([[ 1.,  0.,  0.,  0.],\n",
       "       [ 0.,  1.,  0.,  0.],\n",
       "       [ 0.,  0.,  1.,  0.],\n",
       "       [-0., -0., -0.,  1.]], dtype=float32)"
      ]
     },
     "execution_count": 172,
     "metadata": {},
     "output_type": "execute_result"
    }
   ],
   "source": [
    "B[2] -= B[3] * 1.88888884\n",
    "B"
   ]
  },
  {
   "cell_type": "code",
   "execution_count": 180,
   "metadata": {
    "collapsed": false
   },
   "outputs": [
    {
     "data": {
      "text/plain": [
       "array([[  5.,  -1.,   3.,  14.],\n",
       "       [  0.,   1.,   2.,   8.],\n",
       "       [  0.,  -2.,   5.,   1.],\n",
       "       [  0.,   0.,   6.,   6.]], dtype=float32)"
      ]
     },
     "execution_count": 180,
     "metadata": {},
     "output_type": "execute_result"
    }
   ],
   "source": [
    "B = np.asarray([\n",
    "    [5, -1, 3, 14],\n",
    "    [0, 1, 2, 8],\n",
    "    [0, -2, 5, 1],\n",
    "    [0, 0, 6, 6]\n",
    "], dtype=np.float32)\n",
    "B"
   ]
  },
  {
   "cell_type": "code",
   "execution_count": 181,
   "metadata": {
    "collapsed": false
   },
   "outputs": [
    {
     "data": {
      "text/plain": [
       "array([[  5.,  -1.,   3.,  14.],\n",
       "       [  0.,   1.,   2.,   8.],\n",
       "       [  0.,  -2.,   5.,   1.],\n",
       "       [  0.,   0.,   1.,   1.]], dtype=float32)"
      ]
     },
     "execution_count": 181,
     "metadata": {},
     "output_type": "execute_result"
    }
   ],
   "source": [
    "B[3] /= 6\n",
    "B"
   ]
  },
  {
   "cell_type": "code",
   "execution_count": 182,
   "metadata": {
    "collapsed": false
   },
   "outputs": [
    {
     "data": {
      "text/plain": [
       "array([[  5.,  -1.,   3.,  14.],\n",
       "       [  0.,   1.,   2.,   8.],\n",
       "       [  0.,   0.,   9.,  17.],\n",
       "       [  0.,   0.,   1.,   1.]], dtype=float32)"
      ]
     },
     "execution_count": 182,
     "metadata": {},
     "output_type": "execute_result"
    }
   ],
   "source": [
    "B[2] -= B[1] * -2\n",
    "B"
   ]
  },
  {
   "cell_type": "code",
   "execution_count": 183,
   "metadata": {
    "collapsed": false
   },
   "outputs": [
    {
     "data": {
      "text/plain": [
       "array([[  5.        ,  -1.        ,   3.        ,  14.        ],\n",
       "       [  0.        ,   1.        ,   2.        ,   8.        ],\n",
       "       [  0.        ,   0.        ,   1.        ,   1.88888884],\n",
       "       [  0.        ,   0.        ,   1.        ,   1.        ]], dtype=float32)"
      ]
     },
     "execution_count": 183,
     "metadata": {},
     "output_type": "execute_result"
    }
   ],
   "source": [
    "B[2] /= 9\n",
    "B"
   ]
  },
  {
   "cell_type": "code",
   "execution_count": null,
   "metadata": {
    "collapsed": true
   },
   "outputs": [],
   "source": [
    "# inconsistent because z cannot equal both 1.8 and 1 at the same time"
   ]
  },
  {
   "cell_type": "code",
   "execution_count": 184,
   "metadata": {
    "collapsed": false
   },
   "outputs": [
    {
     "data": {
      "text/plain": [
       "array([[  2.,   4.,   8.,  20.],\n",
       "       [  4.,   8.,  16.,  40.],\n",
       "       [ 20.,   5.,   5.,  10.]], dtype=float32)"
      ]
     },
     "execution_count": 184,
     "metadata": {},
     "output_type": "execute_result"
    }
   ],
   "source": [
    "# infinite solutions\n",
    "A = np.asarray([\n",
    "        [2, 4, 8, 20],\n",
    "        [4, 8, 16, 40],\n",
    "        [20, 5, 5, 10]\n",
    "], dtype=np.float32)\n",
    "A"
   ]
  },
  {
   "cell_type": "code",
   "execution_count": 185,
   "metadata": {
    "collapsed": false
   },
   "outputs": [
    {
     "data": {
      "text/plain": [
       "array([[  1.,   2.,   4.,  10.],\n",
       "       [  4.,   8.,  16.,  40.],\n",
       "       [ 20.,   5.,   5.,  10.]], dtype=float32)"
      ]
     },
     "execution_count": 185,
     "metadata": {},
     "output_type": "execute_result"
    }
   ],
   "source": [
    "A[0] /= 2\n",
    "A"
   ]
  },
  {
   "cell_type": "code",
   "execution_count": 186,
   "metadata": {
    "collapsed": false
   },
   "outputs": [
    {
     "data": {
      "text/plain": [
       "array([[  1.,   2.,   4.,  10.],\n",
       "       [  0.,   0.,   0.,   0.],\n",
       "       [ 20.,   5.,   5.,  10.]], dtype=float32)"
      ]
     },
     "execution_count": 186,
     "metadata": {},
     "output_type": "execute_result"
    }
   ],
   "source": [
    "A[1] -= A[0] * 4\n",
    "A"
   ]
  },
  {
   "cell_type": "code",
   "execution_count": 187,
   "metadata": {
    "collapsed": false
   },
   "outputs": [
    {
     "data": {
      "text/plain": [
       "array([[   1.,    2.,    4.,   10.],\n",
       "       [   0.,    0.,    0.,    0.],\n",
       "       [   0.,  -35.,  -75., -190.]], dtype=float32)"
      ]
     },
     "execution_count": 187,
     "metadata": {},
     "output_type": "execute_result"
    }
   ],
   "source": [
    "A[2] -= A[0] * 20\n",
    "A"
   ]
  },
  {
   "cell_type": "code",
   "execution_count": null,
   "metadata": {
    "collapsed": true
   },
   "outputs": [],
   "source": []
  },
  {
   "cell_type": "code",
   "execution_count": 188,
   "metadata": {
    "collapsed": false
   },
   "outputs": [
    {
     "data": {
      "text/plain": [
       "array([[  1.,   1.,   1.,   4.],\n",
       "       [  3.,  -2.,   5.,   8.],\n",
       "       [  8.,  -4.,   5.,  10.]], dtype=float32)"
      ]
     },
     "execution_count": 188,
     "metadata": {},
     "output_type": "execute_result"
    }
   ],
   "source": [
    "B = np.asarray([\n",
    "        [1, 1, 1, 4],\n",
    "        [3, -2, 5, 8],\n",
    "        [8, -4, 5, 10]\n",
    "        ], dtype=np.float32)\n",
    "B"
   ]
  },
  {
   "cell_type": "code",
   "execution_count": 189,
   "metadata": {
    "collapsed": false
   },
   "outputs": [
    {
     "data": {
      "text/plain": [
       "array([[  1.,   1.,   1.,   4.],\n",
       "       [  0.,  -5.,   2.,  -4.],\n",
       "       [  8.,  -4.,   5.,  10.]], dtype=float32)"
      ]
     },
     "execution_count": 189,
     "metadata": {},
     "output_type": "execute_result"
    }
   ],
   "source": [
    "B[1] -= B[0] * 3\n",
    "B"
   ]
  },
  {
   "cell_type": "code",
   "execution_count": 190,
   "metadata": {
    "collapsed": false
   },
   "outputs": [
    {
     "data": {
      "text/plain": [
       "array([[  1.,   1.,   1.,   4.],\n",
       "       [  0.,  -5.,   2.,  -4.],\n",
       "       [  0., -12.,  -3., -22.]], dtype=float32)"
      ]
     },
     "execution_count": 190,
     "metadata": {},
     "output_type": "execute_result"
    }
   ],
   "source": [
    "B[2] -= B[0] * 8\n",
    "B"
   ]
  },
  {
   "cell_type": "code",
   "execution_count": 191,
   "metadata": {
    "collapsed": false
   },
   "outputs": [
    {
     "data": {
      "text/plain": [
       "array([[  1.        ,   1.        ,   1.        ,   4.        ],\n",
       "       [ -0.        ,   1.        ,  -0.40000001,   0.80000001],\n",
       "       [  0.        , -12.        ,  -3.        , -22.        ]], dtype=float32)"
      ]
     },
     "execution_count": 191,
     "metadata": {},
     "output_type": "execute_result"
    }
   ],
   "source": [
    "B[1] /= -5\n",
    "B"
   ]
  },
  {
   "cell_type": "code",
   "execution_count": 192,
   "metadata": {
    "collapsed": false
   },
   "outputs": [
    {
     "data": {
      "text/plain": [
       "array([[  1.        ,   0.        ,   1.39999998,   3.20000005],\n",
       "       [ -0.        ,   1.        ,  -0.40000001,   0.80000001],\n",
       "       [  0.        , -12.        ,  -3.        , -22.        ]], dtype=float32)"
      ]
     },
     "execution_count": 192,
     "metadata": {},
     "output_type": "execute_result"
    }
   ],
   "source": [
    "B[0] -= B[1]\n",
    "B"
   ]
  },
  {
   "cell_type": "code",
   "execution_count": 193,
   "metadata": {
    "collapsed": false
   },
   "outputs": [
    {
     "data": {
      "text/plain": [
       "array([[  1.        ,   0.        ,   1.39999998,   3.20000005],\n",
       "       [ -0.        ,   1.        ,  -0.40000001,   0.80000001],\n",
       "       [  0.        ,   0.        ,  -7.80000019, -12.39999962]], dtype=float32)"
      ]
     },
     "execution_count": 193,
     "metadata": {},
     "output_type": "execute_result"
    }
   ],
   "source": [
    "B[2] -= B[1] * -12\n",
    "B"
   ]
  },
  {
   "cell_type": "code",
   "execution_count": 194,
   "metadata": {
    "collapsed": true
   },
   "outputs": [],
   "source": [
    "B[2] /= -7.80000019"
   ]
  },
  {
   "cell_type": "code",
   "execution_count": 195,
   "metadata": {
    "collapsed": false
   },
   "outputs": [
    {
     "data": {
      "text/plain": [
       "array([[ 1.        ,  0.        ,  1.39999998,  3.20000005],\n",
       "       [-0.        ,  1.        , -0.40000001,  0.80000001],\n",
       "       [-0.        , -0.        ,  1.        ,  1.58974349]], dtype=float32)"
      ]
     },
     "execution_count": 195,
     "metadata": {},
     "output_type": "execute_result"
    }
   ],
   "source": [
    "B"
   ]
  },
  {
   "cell_type": "code",
   "execution_count": 196,
   "metadata": {
    "collapsed": false
   },
   "outputs": [
    {
     "data": {
      "text/plain": [
       "array([[ 1.        ,  0.        ,  0.        ,  0.97435927],\n",
       "       [-0.        ,  1.        , -0.40000001,  0.80000001],\n",
       "       [-0.        , -0.        ,  1.        ,  1.58974349]], dtype=float32)"
      ]
     },
     "execution_count": 196,
     "metadata": {},
     "output_type": "execute_result"
    }
   ],
   "source": [
    "B[0] -= B[2] * 1.39999998\n",
    "B"
   ]
  },
  {
   "cell_type": "code",
   "execution_count": 197,
   "metadata": {
    "collapsed": false
   },
   "outputs": [
    {
     "data": {
      "text/plain": [
       "array([[ 1.        ,  0.        ,  0.        ,  0.97435927],\n",
       "       [-0.        ,  1.        ,  0.        ,  1.43589735],\n",
       "       [-0.        , -0.        ,  1.        ,  1.58974349]], dtype=float32)"
      ]
     },
     "execution_count": 197,
     "metadata": {},
     "output_type": "execute_result"
    }
   ],
   "source": [
    "B[1] -= B[2] * -0.40000001\n",
    "B"
   ]
  },
  {
   "cell_type": "code",
   "execution_count": null,
   "metadata": {
    "collapsed": true
   },
   "outputs": [],
   "source": []
  }
 ],
 "metadata": {
  "kernelspec": {
   "display_name": "Python 3 (dataquest)",
   "language": "python",
   "name": "other-env"
  },
  "language_info": {
   "codemirror_mode": {
    "name": "ipython",
    "version": 3
   },
   "file_extension": ".py",
   "mimetype": "text/x-python",
   "name": "python",
   "nbconvert_exporter": "python",
   "pygments_lexer": "ipython3",
   "version": "3.5.1"
  }
 },
 "nbformat": 4,
 "nbformat_minor": 0
}
