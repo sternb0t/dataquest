{
 "cells": [
  {
   "cell_type": "code",
   "execution_count": 11,
   "metadata": {
    "collapsed": true
   },
   "outputs": [],
   "source": [
    "import numpy as np\n",
    "import random"
   ]
  },
  {
   "cell_type": "code",
   "execution_count": 2,
   "metadata": {
    "collapsed": false
   },
   "outputs": [
    {
     "data": {
      "text/plain": [
       "array([1, 2, 3])"
      ]
     },
     "execution_count": 2,
     "metadata": {},
     "output_type": "execute_result"
    }
   ],
   "source": [
    "a = np.array([1, 2, 3])\n",
    "a"
   ]
  },
  {
   "cell_type": "code",
   "execution_count": 3,
   "metadata": {
    "collapsed": false
   },
   "outputs": [
    {
     "data": {
      "text/plain": [
       "array([1, 2, 3])"
      ]
     },
     "execution_count": 3,
     "metadata": {},
     "output_type": "execute_result"
    }
   ],
   "source": [
    "a.transpose()"
   ]
  },
  {
   "cell_type": "code",
   "execution_count": 4,
   "metadata": {
    "collapsed": true
   },
   "outputs": [],
   "source": [
    "a.shape = (3, 1)"
   ]
  },
  {
   "cell_type": "code",
   "execution_count": 5,
   "metadata": {
    "collapsed": false
   },
   "outputs": [
    {
     "data": {
      "text/plain": [
       "array([[1],\n",
       "       [2],\n",
       "       [3]])"
      ]
     },
     "execution_count": 5,
     "metadata": {},
     "output_type": "execute_result"
    }
   ],
   "source": [
    "a"
   ]
  },
  {
   "cell_type": "code",
   "execution_count": 6,
   "metadata": {
    "collapsed": false
   },
   "outputs": [
    {
     "data": {
      "text/plain": [
       "array([[1, 2, 3]])"
      ]
     },
     "execution_count": 6,
     "metadata": {},
     "output_type": "execute_result"
    }
   ],
   "source": [
    "a.transpose()"
   ]
  },
  {
   "cell_type": "code",
   "execution_count": 20,
   "metadata": {
    "collapsed": false
   },
   "outputs": [],
   "source": [
    "v = np.array([random.random() for i in range(12)])"
   ]
  },
  {
   "cell_type": "code",
   "execution_count": 21,
   "metadata": {
    "collapsed": false
   },
   "outputs": [
    {
     "data": {
      "text/plain": [
       "array([ 0.01947407,  0.97507513,  0.11118474,  0.08989993,  0.84109898,\n",
       "        0.58096873,  0.45765437,  0.88077996,  0.28642177,  0.0626973 ,\n",
       "        0.55577169,  0.66034873])"
      ]
     },
     "execution_count": 21,
     "metadata": {},
     "output_type": "execute_result"
    }
   ],
   "source": [
    "v"
   ]
  },
  {
   "cell_type": "code",
   "execution_count": 27,
   "metadata": {
    "collapsed": false
   },
   "outputs": [],
   "source": [
    "v.shape = (12,1)"
   ]
  },
  {
   "cell_type": "code",
   "execution_count": 28,
   "metadata": {
    "collapsed": false
   },
   "outputs": [
    {
     "data": {
      "text/plain": [
       "array([[ 0.01947407],\n",
       "       [ 0.97507513],\n",
       "       [ 0.11118474],\n",
       "       [ 0.08989993],\n",
       "       [ 0.84109898],\n",
       "       [ 0.58096873],\n",
       "       [ 0.45765437],\n",
       "       [ 0.88077996],\n",
       "       [ 0.28642177],\n",
       "       [ 0.0626973 ],\n",
       "       [ 0.55577169],\n",
       "       [ 0.66034873]])"
      ]
     },
     "execution_count": 28,
     "metadata": {},
     "output_type": "execute_result"
    }
   ],
   "source": [
    "v"
   ]
  },
  {
   "cell_type": "code",
   "execution_count": 29,
   "metadata": {
    "collapsed": false
   },
   "outputs": [
    {
     "data": {
      "text/plain": [
       "array([ 0.89344638,  0.18887025,  0.3692661 ,  0.18601605,  0.99453585,\n",
       "        0.91032159,  0.49266606,  0.28357788,  0.45691534,  0.72858578])"
      ]
     },
     "execution_count": 29,
     "metadata": {},
     "output_type": "execute_result"
    }
   ],
   "source": [
    "v2 = np.array([random.random() for i in range(10)])\n",
    "v2"
   ]
  },
  {
   "cell_type": "code",
   "execution_count": 31,
   "metadata": {
    "collapsed": false
   },
   "outputs": [],
   "source": [
    "v2.shape = (1,10)"
   ]
  },
  {
   "cell_type": "code",
   "execution_count": 32,
   "metadata": {
    "collapsed": false
   },
   "outputs": [
    {
     "data": {
      "text/plain": [
       "array([[ 0.89344638,  0.18887025,  0.3692661 ,  0.18601605,  0.99453585,\n",
       "         0.91032159,  0.49266606,  0.28357788,  0.45691534,  0.72858578]])"
      ]
     },
     "execution_count": 32,
     "metadata": {},
     "output_type": "execute_result"
    }
   ],
   "source": [
    "v2"
   ]
  },
  {
   "cell_type": "code",
   "execution_count": 34,
   "metadata": {
    "collapsed": false
   },
   "outputs": [
    {
     "data": {
      "text/plain": [
       "array([[ 0.01739904,  0.00367807,  0.00719111,  0.00362249,  0.01936766,\n",
       "         0.01772767,  0.00959421,  0.00552242,  0.008898  ,  0.01418853],\n",
       "       [ 0.87117735,  0.18416269,  0.36006219,  0.18137963,  0.96974717,\n",
       "         0.88763194,  0.48038642,  0.27650974,  0.44552679,  0.71042587],\n",
       "       [ 0.09933761,  0.02099949,  0.04105676,  0.02068215,  0.11057721,\n",
       "         0.10121387,  0.05477695,  0.03152953,  0.05080201,  0.08100762],\n",
       "       [ 0.08032077,  0.01697942,  0.033197  ,  0.01672283,  0.08940871,\n",
       "         0.08183785,  0.04429065,  0.02549363,  0.04107666,  0.06549981],\n",
       "       [ 0.75147684,  0.15885858,  0.31058934,  0.15645791,  0.83650309,\n",
       "         0.76567056,  0.41438092,  0.23851707,  0.38431103,  0.61281276],\n",
       "       [ 0.51906441,  0.10972771,  0.21453206,  0.10806951,  0.57779423,\n",
       "         0.52886838,  0.28622358,  0.16474988,  0.26545353,  0.42328556],\n",
       "       [ 0.40888964,  0.0864373 ,  0.16899625,  0.08513106,  0.45515368,\n",
       "         0.41661265,  0.22547077,  0.12978066,  0.2091093 ,  0.33344047],\n",
       "       [ 0.78692967,  0.16635313,  0.32524218,  0.16383921,  0.87596724,\n",
       "         0.80179301,  0.43393039,  0.24976971,  0.40244188,  0.64172375],\n",
       "       [ 0.2559025 ,  0.05409655,  0.10576585,  0.05327905,  0.28485672,\n",
       "         0.26073592,  0.14111029,  0.08122288,  0.1308705 ,  0.20868283],\n",
       "       [ 0.05601667,  0.01184165,  0.02315199,  0.0116627 ,  0.06235471,\n",
       "         0.0570747 ,  0.03088883,  0.01777957,  0.02864736,  0.04568036],\n",
       "       [ 0.49655221,  0.10496874,  0.20522765,  0.10338246,  0.55273487,\n",
       "         0.50593097,  0.27380985,  0.15760456,  0.25394061,  0.40492735],\n",
       "       [ 0.58998618,  0.12472023,  0.2438444 ,  0.12283546,  0.65674049,\n",
       "         0.60112971,  0.32533141,  0.18726029,  0.30172347,  0.48112069]])"
      ]
     },
     "execution_count": 34,
     "metadata": {},
     "output_type": "execute_result"
    }
   ],
   "source": [
    "np.dot(v, v2)"
   ]
  },
  {
   "cell_type": "code",
   "execution_count": null,
   "metadata": {
    "collapsed": true
   },
   "outputs": [],
   "source": []
  }
 ],
 "metadata": {
  "kernelspec": {
   "display_name": "Python 3 (dataquest)",
   "language": "python",
   "name": "other-env"
  },
  "language_info": {
   "codemirror_mode": {
    "name": "ipython",
    "version": 3
   },
   "file_extension": ".py",
   "mimetype": "text/x-python",
   "name": "python",
   "nbconvert_exporter": "python",
   "pygments_lexer": "ipython3",
   "version": "3.5.1"
  }
 },
 "nbformat": 4,
 "nbformat_minor": 0
}
