{
 "cells": [
  {
   "cell_type": "markdown",
   "metadata": {},
   "source": [
    "# Guided Project: Predicting Housing Prices\n",
    "\n",
    "In this course, we started by building intuition for model based learning, explored how the linear regression model worked, understood how the two different approaches to model fitting worked, and some techniques for cleaning, transforming, and selecting features. In this guided project, you can practice what you learned in this course by exploring ways to improve the models we built. Let's start by setting up a pipeline of functions that will let us quickly iterate on different models.\n",
    "\n",
    "* Import pandas, matplotlib, and numpy into the environment.\n",
    "* Read AmesHousing.txt into a pandas data frame. Select the first 1460 rows from from data and assign to train. Select the remaining rows from data and assign to test.\n",
    "* For the following functions, we recommend creating them in the first few cells in the notebook. This way, you can add cells to the end of the notebook to do experiments and update the functions in these cells.\n",
    "  * Create a function named `transform_features()` that, for now, just returns the train data frame.\n",
    "  * Create a function named `select_features()` that, for now, just returns the Gr Liv Area and SalePrice columns from the train data frame.\n",
    "  * Create a function named `train_and_test()` that, for now:\n",
    "    * trains a model using all columns except the SalePrice column from the data frame returned from select_features()\n",
    "    * tests the model on the test set using k-fold cross-validation and returns the fold-level RMSE values as well as the average RMSE value.\n",
    "    \n",
    "Dataset description:\n",
    "https://ww2.amstat.org/publications/jse/v19n3/decock/datadocumentation.txt"
   ]
  },
  {
   "cell_type": "code",
   "execution_count": 1,
   "metadata": {
    "collapsed": false
   },
   "outputs": [],
   "source": [
    "%matplotlib inline\n",
    "import pandas as pd\n",
    "import numpy as np\n",
    "import matplotlib.pyplot as plt\n",
    "from sklearn.linear_model import LinearRegression\n",
    "from sklearn.model_selection import cross_val_score, KFold\n",
    "from sklearn.metrics import mean_squared_error\n",
    "import seaborn as sns\n",
    "import matplotlib.pyplot as plt "
   ]
  },
  {
   "cell_type": "code",
   "execution_count": 2,
   "metadata": {
    "collapsed": false
   },
   "outputs": [
    {
     "data": {
      "text/html": [
       "<div>\n",
       "<table border=\"1\" class=\"dataframe\">\n",
       "  <thead>\n",
       "    <tr style=\"text-align: right;\">\n",
       "      <th></th>\n",
       "      <th>Order</th>\n",
       "      <th>PID</th>\n",
       "      <th>MS SubClass</th>\n",
       "      <th>MS Zoning</th>\n",
       "      <th>Lot Frontage</th>\n",
       "      <th>Lot Area</th>\n",
       "      <th>Street</th>\n",
       "      <th>Alley</th>\n",
       "      <th>Lot Shape</th>\n",
       "      <th>Land Contour</th>\n",
       "      <th>...</th>\n",
       "      <th>Pool Area</th>\n",
       "      <th>Pool QC</th>\n",
       "      <th>Fence</th>\n",
       "      <th>Misc Feature</th>\n",
       "      <th>Misc Val</th>\n",
       "      <th>Mo Sold</th>\n",
       "      <th>Yr Sold</th>\n",
       "      <th>Sale Type</th>\n",
       "      <th>Sale Condition</th>\n",
       "      <th>SalePrice</th>\n",
       "    </tr>\n",
       "  </thead>\n",
       "  <tbody>\n",
       "    <tr>\n",
       "      <th>0</th>\n",
       "      <td>1</td>\n",
       "      <td>526301100</td>\n",
       "      <td>20</td>\n",
       "      <td>RL</td>\n",
       "      <td>141.0</td>\n",
       "      <td>31770</td>\n",
       "      <td>Pave</td>\n",
       "      <td>NaN</td>\n",
       "      <td>IR1</td>\n",
       "      <td>Lvl</td>\n",
       "      <td>...</td>\n",
       "      <td>0</td>\n",
       "      <td>NaN</td>\n",
       "      <td>NaN</td>\n",
       "      <td>NaN</td>\n",
       "      <td>0</td>\n",
       "      <td>5</td>\n",
       "      <td>2010</td>\n",
       "      <td>WD</td>\n",
       "      <td>Normal</td>\n",
       "      <td>215000</td>\n",
       "    </tr>\n",
       "    <tr>\n",
       "      <th>1</th>\n",
       "      <td>2</td>\n",
       "      <td>526350040</td>\n",
       "      <td>20</td>\n",
       "      <td>RH</td>\n",
       "      <td>80.0</td>\n",
       "      <td>11622</td>\n",
       "      <td>Pave</td>\n",
       "      <td>NaN</td>\n",
       "      <td>Reg</td>\n",
       "      <td>Lvl</td>\n",
       "      <td>...</td>\n",
       "      <td>0</td>\n",
       "      <td>NaN</td>\n",
       "      <td>MnPrv</td>\n",
       "      <td>NaN</td>\n",
       "      <td>0</td>\n",
       "      <td>6</td>\n",
       "      <td>2010</td>\n",
       "      <td>WD</td>\n",
       "      <td>Normal</td>\n",
       "      <td>105000</td>\n",
       "    </tr>\n",
       "    <tr>\n",
       "      <th>2</th>\n",
       "      <td>3</td>\n",
       "      <td>526351010</td>\n",
       "      <td>20</td>\n",
       "      <td>RL</td>\n",
       "      <td>81.0</td>\n",
       "      <td>14267</td>\n",
       "      <td>Pave</td>\n",
       "      <td>NaN</td>\n",
       "      <td>IR1</td>\n",
       "      <td>Lvl</td>\n",
       "      <td>...</td>\n",
       "      <td>0</td>\n",
       "      <td>NaN</td>\n",
       "      <td>NaN</td>\n",
       "      <td>Gar2</td>\n",
       "      <td>12500</td>\n",
       "      <td>6</td>\n",
       "      <td>2010</td>\n",
       "      <td>WD</td>\n",
       "      <td>Normal</td>\n",
       "      <td>172000</td>\n",
       "    </tr>\n",
       "    <tr>\n",
       "      <th>3</th>\n",
       "      <td>4</td>\n",
       "      <td>526353030</td>\n",
       "      <td>20</td>\n",
       "      <td>RL</td>\n",
       "      <td>93.0</td>\n",
       "      <td>11160</td>\n",
       "      <td>Pave</td>\n",
       "      <td>NaN</td>\n",
       "      <td>Reg</td>\n",
       "      <td>Lvl</td>\n",
       "      <td>...</td>\n",
       "      <td>0</td>\n",
       "      <td>NaN</td>\n",
       "      <td>NaN</td>\n",
       "      <td>NaN</td>\n",
       "      <td>0</td>\n",
       "      <td>4</td>\n",
       "      <td>2010</td>\n",
       "      <td>WD</td>\n",
       "      <td>Normal</td>\n",
       "      <td>244000</td>\n",
       "    </tr>\n",
       "    <tr>\n",
       "      <th>4</th>\n",
       "      <td>5</td>\n",
       "      <td>527105010</td>\n",
       "      <td>60</td>\n",
       "      <td>RL</td>\n",
       "      <td>74.0</td>\n",
       "      <td>13830</td>\n",
       "      <td>Pave</td>\n",
       "      <td>NaN</td>\n",
       "      <td>IR1</td>\n",
       "      <td>Lvl</td>\n",
       "      <td>...</td>\n",
       "      <td>0</td>\n",
       "      <td>NaN</td>\n",
       "      <td>MnPrv</td>\n",
       "      <td>NaN</td>\n",
       "      <td>0</td>\n",
       "      <td>3</td>\n",
       "      <td>2010</td>\n",
       "      <td>WD</td>\n",
       "      <td>Normal</td>\n",
       "      <td>189900</td>\n",
       "    </tr>\n",
       "  </tbody>\n",
       "</table>\n",
       "<p>5 rows × 82 columns</p>\n",
       "</div>"
      ],
      "text/plain": [
       "   Order        PID  MS SubClass MS Zoning  Lot Frontage  Lot Area Street  \\\n",
       "0      1  526301100           20        RL         141.0     31770   Pave   \n",
       "1      2  526350040           20        RH          80.0     11622   Pave   \n",
       "2      3  526351010           20        RL          81.0     14267   Pave   \n",
       "3      4  526353030           20        RL          93.0     11160   Pave   \n",
       "4      5  527105010           60        RL          74.0     13830   Pave   \n",
       "\n",
       "  Alley Lot Shape Land Contour    ...     Pool Area Pool QC  Fence  \\\n",
       "0   NaN       IR1          Lvl    ...             0     NaN    NaN   \n",
       "1   NaN       Reg          Lvl    ...             0     NaN  MnPrv   \n",
       "2   NaN       IR1          Lvl    ...             0     NaN    NaN   \n",
       "3   NaN       Reg          Lvl    ...             0     NaN    NaN   \n",
       "4   NaN       IR1          Lvl    ...             0     NaN  MnPrv   \n",
       "\n",
       "  Misc Feature Misc Val Mo Sold Yr Sold Sale Type  Sale Condition  SalePrice  \n",
       "0          NaN        0       5    2010       WD           Normal     215000  \n",
       "1          NaN        0       6    2010       WD           Normal     105000  \n",
       "2         Gar2    12500       6    2010       WD           Normal     172000  \n",
       "3          NaN        0       4    2010       WD           Normal     244000  \n",
       "4          NaN        0       3    2010       WD           Normal     189900  \n",
       "\n",
       "[5 rows x 82 columns]"
      ]
     },
     "execution_count": 2,
     "metadata": {},
     "output_type": "execute_result"
    }
   ],
   "source": [
    "data = pd.read_csv('AmesHousing.txt', sep='\\t')\n",
    "data.head()"
   ]
  },
  {
   "cell_type": "code",
   "execution_count": 3,
   "metadata": {
    "collapsed": true
   },
   "outputs": [],
   "source": [
    "train = data.iloc[:1460]\n",
    "test = data.iloc[1460:]\n",
    "target = 'SalePrice'"
   ]
  },
  {
   "cell_type": "code",
   "execution_count": 4,
   "metadata": {
    "collapsed": true
   },
   "outputs": [],
   "source": [
    "def transform_features(train):\n",
    "    return train\n",
    "\n",
    "def select_features(train):\n",
    "    return train[['Gr Liv Area', target]]\n",
    "\n",
    "def train_and_test(train):\n",
    "    X = train.drop(target, axis=1)\n",
    "    y = train[target]\n",
    "    lr = LinearRegression()\n",
    "    kf = KFold(10,  shuffle=True, random_state=42)\n",
    "    mses = cross_val_score(lr, X, y, \n",
    "                           scoring='neg_mean_squared_error', cv=kf)\n",
    "    rmses = np.sqrt(np.abs(mses))\n",
    "    avg_rmse = np.mean(rmses)\n",
    "    return rmses, avg_rmse\n",
    "\n",
    "def pipeline(train):\n",
    "    train_trans = transform_features(train)\n",
    "    train_selected = select_features(train_trans)\n",
    "    return train_and_test(train_selected)"
   ]
  },
  {
   "cell_type": "code",
   "execution_count": 5,
   "metadata": {
    "collapsed": false
   },
   "outputs": [
    {
     "name": "stderr",
     "output_type": "stream",
     "text": [
      "/Users/jeffrey.sternberg/Code/dataquest/lib/python3.5/site-packages/scipy/linalg/basic.py:1018: RuntimeWarning: internal gelsd driver lwork query error, required iwork dimension not returned. This is likely the result of LAPACK bug 0038, fixed in LAPACK 3.2.2 (released July 21, 2010). Falling back to 'gelss' driver.\n",
      "  warnings.warn(mesg, RuntimeWarning)\n"
     ]
    },
    {
     "data": {
      "text/plain": [
       "(array([ 56748.82946149,  56349.48341116,  51150.83173562,  62323.19801875,\n",
       "         50137.04444069,  59439.93392326,  59680.07993746,  57567.73326237,\n",
       "         57232.03654767,  49837.79805003]), 56046.696878851639)"
      ]
     },
     "execution_count": 5,
     "metadata": {},
     "output_type": "execute_result"
    }
   ],
   "source": [
    "pipeline(train)"
   ]
  },
  {
   "cell_type": "markdown",
   "metadata": {},
   "source": [
    "# Feature transformation\n",
    "\n",
    "Let's now start to removing features with many missing values, diving deeper into potential categorical features, and transforming text and numerical columns. Update `transform_features()` so that any column from the data frame with more than 25% (or another cutoff value) missing values is dropped. \n",
    "\n",
    "You also need to remove any columns that leak information about the sale (e.g. like the year the sale happened). In general, the goal of this function is to:\n",
    "\n",
    "* remove features that we don't want to use in the model, just based on the number of missing values or data leakage\n",
    "* transform features into the proper format (numerical to categorical, scaling numerical, filling in missing values, etc)\n",
    "* create new features by combining other features\n",
    "\n",
    "Next, you need to get more familiar with the remaining columns by reading the data documentation for each column, determining what transformations are necessary (if any), and more. As we mentioned earlier, succeeding in predictive modeling (and competitions like Kaggle) is highly dependent on the quality of features the model has. Libraries like scikit-learn has made it quick and easy to simply try and tweak many different models, but cleaning, selecting, and transforming features is still more of an art that requires a bit of human ingenuity.\n",
    "\n",
    "* As we mentioned earlier, add cells to the end of the notebook to explore and experiment with different features.\n",
    "* The transform_features() function shouldn't modify the train data frame and instead return a new one entirely. This way, we can keep using train in the experimentation cells.\n",
    "* Which columns need to be dropped immediately?\n",
    "  * The PID column doesn't seem helpful for making predictions. Read the documentation to understand why (or display the column).\n",
    "  * Which columns contain a large number of missing values?\n",
    "  * Which columns leak data about the final sale?\n",
    "  * Which columns contain less than 25% missing values and how should they be filled in?\n",
    "  * Which columns in the data frame should be categorical? Here are some things you should think about:\n",
    "* If a categorical column has hundreds of unique values (or categories), should you keep it? When you dummy code this column, hundreds of columns will need to be added back to the data frame.\n",
    "* Which categorical columns have a few unique values but more than 95% of the values in the column belong to a specific category? This would be similar to a low variance numerical feature (no variability in the data for the model to capture).\n",
    "* Which columns are currently numerical but need to be encoded as categorical instead (because the numbers don't have any semantic meaning)?\n",
    "* What new features can we create, that better capture the information in some of the features?\n",
    "  * An example of this would be the `years_until_remod` feature we created in the last mission.\n",
    "* Use this function to transform the test data frame as well.\n",
    "                                                                                     "
   ]
  },
  {
   "cell_type": "code",
   "execution_count": 6,
   "metadata": {
    "collapsed": true
   },
   "outputs": [],
   "source": [
    "def transform_features(df, missing_threshold=.25):\n",
    "    # don't modify the passed-in data frame and instead return a new one entirely. \n",
    "    # This way, we can keep using train & test in the experimentation cells\n",
    "    df = df.copy()\n",
    "    \n",
    "    # The Order and PID columns don't seem helpful for making predictions\n",
    "    df = df.drop(['Order', 'PID'], axis=1)\n",
    "    \n",
    "    # make meaningful age columns\n",
    "    df['years_until_sale'] = df['Yr Sold'] - df['Year Built']\n",
    "    df['years_until_remod'] = df['Year Remod/Add'] - df['Year Built']\n",
    "    \n",
    "    # remove the components of meaningful age colums\n",
    "    # also, Yr Sold leaks information about the sale so need to remove it anyway\n",
    "    to_drop = ['Yr Sold', 'Year Built', 'Year Remod/Add', 'Mo Sold', 'Garage Yr Blt']\n",
    "    df = df.drop(to_drop, axis=1)\n",
    "    \n",
    "    # process datatypes separately\n",
    "    df_numeric = clean_numerics(df, missing_threshold)\n",
    "    df_cat = clean_categoricals(df, missing_threshold)\n",
    "    \n",
    "    # merge numeric and categorical for final transformed\n",
    "    transformed = pd.concat([df_numeric, df_cat], axis=1)\n",
    "    return transformed\n",
    "\n",
    "\n",
    "def clean_numerics(df, missing_threshold):\n",
    "    \"\"\"Clean up numeric columns\"\"\"\n",
    "    n = len(df)\n",
    "    df_numeric = df.select_dtypes(include=['int64'])\n",
    "    \n",
    "    # remove numeric columns with > 25% missing values\n",
    "    missing_num = df_numeric.isnull().sum()\n",
    "    to_drop = missing_num[missing_num / n > missing_threshold].index\n",
    "    # print(\"Dropping numerics: \", to_drop)\n",
    "    df_numeric = df_numeric.drop(to_drop, axis=1)\n",
    "\n",
    "    return df_numeric\n",
    "\n",
    "\n",
    "def clean_categoricals(df, missing_threshold, make_dummies=True):\n",
    "    \"\"\"Clean up categorical columns\"\"\"\n",
    "    n = len(df)\n",
    "    df_cat = df.select_dtypes(include=['object']).copy()\n",
    "    for col in df_cat.columns:\n",
    "        df_cat[col] = df_cat[col].astype('category')\n",
    "    \n",
    "    # remove categorical columns with > 25% missing values\n",
    "    missing_cat = df_cat.isnull().sum()\n",
    "    to_drop = missing_cat[missing_cat / n > missing_threshold].index\n",
    "    # print(\"Dropping categoricals: \", to_drop)\n",
    "    df_cat = df_cat.drop(to_drop, axis=1)\n",
    "    \n",
    "    # also drop these 2 cat columns since they have many values \n",
    "    # and probably won't impact prediction...\n",
    "    to_drop = ['Exterior 1st', 'Exterior 2nd']\n",
    "    df_cat = df_cat.drop(to_drop, axis=1)\n",
    "    \n",
    "    # convert to dummy columns\n",
    "    if make_dummies:\n",
    "        df_cat = pd.get_dummies(df_cat)\n",
    "    \n",
    "    return df_cat"
   ]
  },
  {
   "cell_type": "code",
   "execution_count": 7,
   "metadata": {
    "collapsed": false
   },
   "outputs": [
    {
     "data": {
      "text/html": [
       "<div>\n",
       "<table border=\"1\" class=\"dataframe\">\n",
       "  <thead>\n",
       "    <tr style=\"text-align: right;\">\n",
       "      <th></th>\n",
       "      <th>MS SubClass</th>\n",
       "      <th>Lot Area</th>\n",
       "      <th>Overall Qual</th>\n",
       "      <th>Overall Cond</th>\n",
       "      <th>1st Flr SF</th>\n",
       "      <th>2nd Flr SF</th>\n",
       "      <th>Low Qual Fin SF</th>\n",
       "      <th>Gr Liv Area</th>\n",
       "      <th>Full Bath</th>\n",
       "      <th>Half Bath</th>\n",
       "      <th>...</th>\n",
       "      <th>Sale Type_ConLI</th>\n",
       "      <th>Sale Type_ConLw</th>\n",
       "      <th>Sale Type_New</th>\n",
       "      <th>Sale Type_Oth</th>\n",
       "      <th>Sale Type_WD</th>\n",
       "      <th>Sale Condition_Abnorml</th>\n",
       "      <th>Sale Condition_Alloca</th>\n",
       "      <th>Sale Condition_Family</th>\n",
       "      <th>Sale Condition_Normal</th>\n",
       "      <th>Sale Condition_Partial</th>\n",
       "    </tr>\n",
       "  </thead>\n",
       "  <tbody>\n",
       "    <tr>\n",
       "      <th>0</th>\n",
       "      <td>20</td>\n",
       "      <td>31770</td>\n",
       "      <td>6</td>\n",
       "      <td>5</td>\n",
       "      <td>1656</td>\n",
       "      <td>0</td>\n",
       "      <td>0</td>\n",
       "      <td>1656</td>\n",
       "      <td>1</td>\n",
       "      <td>0</td>\n",
       "      <td>...</td>\n",
       "      <td>0.0</td>\n",
       "      <td>0.0</td>\n",
       "      <td>0.0</td>\n",
       "      <td>0.0</td>\n",
       "      <td>1.0</td>\n",
       "      <td>0.0</td>\n",
       "      <td>0.0</td>\n",
       "      <td>0.0</td>\n",
       "      <td>1.0</td>\n",
       "      <td>0.0</td>\n",
       "    </tr>\n",
       "    <tr>\n",
       "      <th>1</th>\n",
       "      <td>20</td>\n",
       "      <td>11622</td>\n",
       "      <td>5</td>\n",
       "      <td>6</td>\n",
       "      <td>896</td>\n",
       "      <td>0</td>\n",
       "      <td>0</td>\n",
       "      <td>896</td>\n",
       "      <td>1</td>\n",
       "      <td>0</td>\n",
       "      <td>...</td>\n",
       "      <td>0.0</td>\n",
       "      <td>0.0</td>\n",
       "      <td>0.0</td>\n",
       "      <td>0.0</td>\n",
       "      <td>1.0</td>\n",
       "      <td>0.0</td>\n",
       "      <td>0.0</td>\n",
       "      <td>0.0</td>\n",
       "      <td>1.0</td>\n",
       "      <td>0.0</td>\n",
       "    </tr>\n",
       "    <tr>\n",
       "      <th>2</th>\n",
       "      <td>20</td>\n",
       "      <td>14267</td>\n",
       "      <td>6</td>\n",
       "      <td>6</td>\n",
       "      <td>1329</td>\n",
       "      <td>0</td>\n",
       "      <td>0</td>\n",
       "      <td>1329</td>\n",
       "      <td>1</td>\n",
       "      <td>1</td>\n",
       "      <td>...</td>\n",
       "      <td>0.0</td>\n",
       "      <td>0.0</td>\n",
       "      <td>0.0</td>\n",
       "      <td>0.0</td>\n",
       "      <td>1.0</td>\n",
       "      <td>0.0</td>\n",
       "      <td>0.0</td>\n",
       "      <td>0.0</td>\n",
       "      <td>1.0</td>\n",
       "      <td>0.0</td>\n",
       "    </tr>\n",
       "    <tr>\n",
       "      <th>3</th>\n",
       "      <td>20</td>\n",
       "      <td>11160</td>\n",
       "      <td>7</td>\n",
       "      <td>5</td>\n",
       "      <td>2110</td>\n",
       "      <td>0</td>\n",
       "      <td>0</td>\n",
       "      <td>2110</td>\n",
       "      <td>2</td>\n",
       "      <td>1</td>\n",
       "      <td>...</td>\n",
       "      <td>0.0</td>\n",
       "      <td>0.0</td>\n",
       "      <td>0.0</td>\n",
       "      <td>0.0</td>\n",
       "      <td>1.0</td>\n",
       "      <td>0.0</td>\n",
       "      <td>0.0</td>\n",
       "      <td>0.0</td>\n",
       "      <td>1.0</td>\n",
       "      <td>0.0</td>\n",
       "    </tr>\n",
       "    <tr>\n",
       "      <th>4</th>\n",
       "      <td>60</td>\n",
       "      <td>13830</td>\n",
       "      <td>5</td>\n",
       "      <td>5</td>\n",
       "      <td>928</td>\n",
       "      <td>701</td>\n",
       "      <td>0</td>\n",
       "      <td>1629</td>\n",
       "      <td>2</td>\n",
       "      <td>1</td>\n",
       "      <td>...</td>\n",
       "      <td>0.0</td>\n",
       "      <td>0.0</td>\n",
       "      <td>0.0</td>\n",
       "      <td>0.0</td>\n",
       "      <td>1.0</td>\n",
       "      <td>0.0</td>\n",
       "      <td>0.0</td>\n",
       "      <td>0.0</td>\n",
       "      <td>1.0</td>\n",
       "      <td>0.0</td>\n",
       "    </tr>\n",
       "  </tbody>\n",
       "</table>\n",
       "<p>5 rows × 224 columns</p>\n",
       "</div>"
      ],
      "text/plain": [
       "   MS SubClass  Lot Area  Overall Qual  Overall Cond  1st Flr SF  2nd Flr SF  \\\n",
       "0           20     31770             6             5        1656           0   \n",
       "1           20     11622             5             6         896           0   \n",
       "2           20     14267             6             6        1329           0   \n",
       "3           20     11160             7             5        2110           0   \n",
       "4           60     13830             5             5         928         701   \n",
       "\n",
       "   Low Qual Fin SF  Gr Liv Area  Full Bath  Half Bath           ...            \\\n",
       "0                0         1656          1          0           ...             \n",
       "1                0          896          1          0           ...             \n",
       "2                0         1329          1          1           ...             \n",
       "3                0         2110          2          1           ...             \n",
       "4                0         1629          2          1           ...             \n",
       "\n",
       "   Sale Type_ConLI  Sale Type_ConLw  Sale Type_New  Sale Type_Oth  \\\n",
       "0              0.0              0.0            0.0            0.0   \n",
       "1              0.0              0.0            0.0            0.0   \n",
       "2              0.0              0.0            0.0            0.0   \n",
       "3              0.0              0.0            0.0            0.0   \n",
       "4              0.0              0.0            0.0            0.0   \n",
       "\n",
       "   Sale Type_WD   Sale Condition_Abnorml  Sale Condition_Alloca  \\\n",
       "0            1.0                     0.0                    0.0   \n",
       "1            1.0                     0.0                    0.0   \n",
       "2            1.0                     0.0                    0.0   \n",
       "3            1.0                     0.0                    0.0   \n",
       "4            1.0                     0.0                    0.0   \n",
       "\n",
       "   Sale Condition_Family  Sale Condition_Normal  Sale Condition_Partial  \n",
       "0                    0.0                    1.0                     0.0  \n",
       "1                    0.0                    1.0                     0.0  \n",
       "2                    0.0                    1.0                     0.0  \n",
       "3                    0.0                    1.0                     0.0  \n",
       "4                    0.0                    1.0                     0.0  \n",
       "\n",
       "[5 rows x 224 columns]"
      ]
     },
     "execution_count": 7,
     "metadata": {},
     "output_type": "execute_result"
    }
   ],
   "source": [
    "# test the transform_features function\n",
    "train_trans = transform_features(train)\n",
    "train_trans.head()"
   ]
  },
  {
   "cell_type": "code",
   "execution_count": 8,
   "metadata": {
    "collapsed": false
   },
   "outputs": [
    {
     "data": {
      "text/html": [
       "<div>\n",
       "<table border=\"1\" class=\"dataframe\">\n",
       "  <thead>\n",
       "    <tr style=\"text-align: right;\">\n",
       "      <th></th>\n",
       "      <th>MS SubClass</th>\n",
       "      <th>Lot Area</th>\n",
       "      <th>Overall Qual</th>\n",
       "      <th>Overall Cond</th>\n",
       "      <th>1st Flr SF</th>\n",
       "      <th>2nd Flr SF</th>\n",
       "      <th>Low Qual Fin SF</th>\n",
       "      <th>Gr Liv Area</th>\n",
       "      <th>Full Bath</th>\n",
       "      <th>Half Bath</th>\n",
       "      <th>...</th>\n",
       "      <th>Sale Type_New</th>\n",
       "      <th>Sale Type_Oth</th>\n",
       "      <th>Sale Type_VWD</th>\n",
       "      <th>Sale Type_WD</th>\n",
       "      <th>Sale Condition_Abnorml</th>\n",
       "      <th>Sale Condition_AdjLand</th>\n",
       "      <th>Sale Condition_Alloca</th>\n",
       "      <th>Sale Condition_Family</th>\n",
       "      <th>Sale Condition_Normal</th>\n",
       "      <th>Sale Condition_Partial</th>\n",
       "    </tr>\n",
       "  </thead>\n",
       "  <tbody>\n",
       "    <tr>\n",
       "      <th>1460</th>\n",
       "      <td>60</td>\n",
       "      <td>9720</td>\n",
       "      <td>9</td>\n",
       "      <td>5</td>\n",
       "      <td>1366</td>\n",
       "      <td>581</td>\n",
       "      <td>0</td>\n",
       "      <td>1947</td>\n",
       "      <td>2</td>\n",
       "      <td>1</td>\n",
       "      <td>...</td>\n",
       "      <td>0.0</td>\n",
       "      <td>0.0</td>\n",
       "      <td>0.0</td>\n",
       "      <td>1.0</td>\n",
       "      <td>0.0</td>\n",
       "      <td>0.0</td>\n",
       "      <td>0.0</td>\n",
       "      <td>0.0</td>\n",
       "      <td>1.0</td>\n",
       "      <td>0.0</td>\n",
       "    </tr>\n",
       "    <tr>\n",
       "      <th>1461</th>\n",
       "      <td>20</td>\n",
       "      <td>14860</td>\n",
       "      <td>8</td>\n",
       "      <td>5</td>\n",
       "      <td>1786</td>\n",
       "      <td>0</td>\n",
       "      <td>0</td>\n",
       "      <td>1786</td>\n",
       "      <td>2</td>\n",
       "      <td>0</td>\n",
       "      <td>...</td>\n",
       "      <td>0.0</td>\n",
       "      <td>0.0</td>\n",
       "      <td>0.0</td>\n",
       "      <td>1.0</td>\n",
       "      <td>0.0</td>\n",
       "      <td>0.0</td>\n",
       "      <td>0.0</td>\n",
       "      <td>0.0</td>\n",
       "      <td>1.0</td>\n",
       "      <td>0.0</td>\n",
       "    </tr>\n",
       "    <tr>\n",
       "      <th>1462</th>\n",
       "      <td>60</td>\n",
       "      <td>11250</td>\n",
       "      <td>8</td>\n",
       "      <td>5</td>\n",
       "      <td>1149</td>\n",
       "      <td>1141</td>\n",
       "      <td>0</td>\n",
       "      <td>2290</td>\n",
       "      <td>2</td>\n",
       "      <td>1</td>\n",
       "      <td>...</td>\n",
       "      <td>0.0</td>\n",
       "      <td>0.0</td>\n",
       "      <td>0.0</td>\n",
       "      <td>1.0</td>\n",
       "      <td>0.0</td>\n",
       "      <td>0.0</td>\n",
       "      <td>0.0</td>\n",
       "      <td>0.0</td>\n",
       "      <td>1.0</td>\n",
       "      <td>0.0</td>\n",
       "    </tr>\n",
       "    <tr>\n",
       "      <th>1463</th>\n",
       "      <td>60</td>\n",
       "      <td>8158</td>\n",
       "      <td>7</td>\n",
       "      <td>5</td>\n",
       "      <td>884</td>\n",
       "      <td>884</td>\n",
       "      <td>0</td>\n",
       "      <td>1768</td>\n",
       "      <td>2</td>\n",
       "      <td>1</td>\n",
       "      <td>...</td>\n",
       "      <td>0.0</td>\n",
       "      <td>0.0</td>\n",
       "      <td>0.0</td>\n",
       "      <td>1.0</td>\n",
       "      <td>0.0</td>\n",
       "      <td>0.0</td>\n",
       "      <td>0.0</td>\n",
       "      <td>0.0</td>\n",
       "      <td>1.0</td>\n",
       "      <td>0.0</td>\n",
       "    </tr>\n",
       "    <tr>\n",
       "      <th>1464</th>\n",
       "      <td>60</td>\n",
       "      <td>10905</td>\n",
       "      <td>7</td>\n",
       "      <td>5</td>\n",
       "      <td>1129</td>\n",
       "      <td>1198</td>\n",
       "      <td>0</td>\n",
       "      <td>2327</td>\n",
       "      <td>2</td>\n",
       "      <td>1</td>\n",
       "      <td>...</td>\n",
       "      <td>0.0</td>\n",
       "      <td>0.0</td>\n",
       "      <td>0.0</td>\n",
       "      <td>1.0</td>\n",
       "      <td>0.0</td>\n",
       "      <td>0.0</td>\n",
       "      <td>0.0</td>\n",
       "      <td>0.0</td>\n",
       "      <td>1.0</td>\n",
       "      <td>0.0</td>\n",
       "    </tr>\n",
       "  </tbody>\n",
       "</table>\n",
       "<p>5 rows × 232 columns</p>\n",
       "</div>"
      ],
      "text/plain": [
       "      MS SubClass  Lot Area  Overall Qual  Overall Cond  1st Flr SF  \\\n",
       "1460           60      9720             9             5        1366   \n",
       "1461           20     14860             8             5        1786   \n",
       "1462           60     11250             8             5        1149   \n",
       "1463           60      8158             7             5         884   \n",
       "1464           60     10905             7             5        1129   \n",
       "\n",
       "      2nd Flr SF  Low Qual Fin SF  Gr Liv Area  Full Bath  Half Bath  \\\n",
       "1460         581                0         1947          2          1   \n",
       "1461           0                0         1786          2          0   \n",
       "1462        1141                0         2290          2          1   \n",
       "1463         884                0         1768          2          1   \n",
       "1464        1198                0         2327          2          1   \n",
       "\n",
       "               ...            Sale Type_New  Sale Type_Oth  Sale Type_VWD  \\\n",
       "1460           ...                      0.0            0.0            0.0   \n",
       "1461           ...                      0.0            0.0            0.0   \n",
       "1462           ...                      0.0            0.0            0.0   \n",
       "1463           ...                      0.0            0.0            0.0   \n",
       "1464           ...                      0.0            0.0            0.0   \n",
       "\n",
       "      Sale Type_WD   Sale Condition_Abnorml  Sale Condition_AdjLand  \\\n",
       "1460            1.0                     0.0                     0.0   \n",
       "1461            1.0                     0.0                     0.0   \n",
       "1462            1.0                     0.0                     0.0   \n",
       "1463            1.0                     0.0                     0.0   \n",
       "1464            1.0                     0.0                     0.0   \n",
       "\n",
       "      Sale Condition_Alloca  Sale Condition_Family  Sale Condition_Normal  \\\n",
       "1460                    0.0                    0.0                    1.0   \n",
       "1461                    0.0                    0.0                    1.0   \n",
       "1462                    0.0                    0.0                    1.0   \n",
       "1463                    0.0                    0.0                    1.0   \n",
       "1464                    0.0                    0.0                    1.0   \n",
       "\n",
       "      Sale Condition_Partial  \n",
       "1460                     0.0  \n",
       "1461                     0.0  \n",
       "1462                     0.0  \n",
       "1463                     0.0  \n",
       "1464                     0.0  \n",
       "\n",
       "[5 rows x 232 columns]"
      ]
     },
     "execution_count": 8,
     "metadata": {},
     "output_type": "execute_result"
    }
   ],
   "source": [
    "test_trans = transform_features(test)\n",
    "test_trans.head()"
   ]
  },
  {
   "cell_type": "code",
   "execution_count": 9,
   "metadata": {
    "collapsed": false
   },
   "outputs": [
    {
     "name": "stdout",
     "output_type": "stream",
     "text": [
      "<class 'pandas.core.frame.DataFrame'>\n",
      "RangeIndex: 1460 entries, 0 to 1459\n",
      "Columns: 224 entries, MS SubClass to Sale Condition_Partial\n",
      "dtypes: float64(200), int64(24)\n",
      "memory usage: 2.5 MB\n"
     ]
    }
   ],
   "source": [
    "train_trans.info()"
   ]
  },
  {
   "cell_type": "code",
   "execution_count": 10,
   "metadata": {
    "collapsed": false
   },
   "outputs": [
    {
     "name": "stdout",
     "output_type": "stream",
     "text": [
      "<class 'pandas.core.frame.DataFrame'>\n",
      "RangeIndex: 1470 entries, 1460 to 2929\n",
      "Columns: 232 entries, MS SubClass to Sale Condition_Partial\n",
      "dtypes: float64(208), int64(24)\n",
      "memory usage: 2.6 MB\n"
     ]
    }
   ],
   "source": [
    "test_trans.info()"
   ]
  },
  {
   "cell_type": "code",
   "execution_count": 11,
   "metadata": {
    "collapsed": false
   },
   "outputs": [
    {
     "data": {
      "text/plain": [
       "{'Bsmt Qual_Po',\n",
       " 'Condition 2_RRAe',\n",
       " 'Condition 2_RRAn',\n",
       " 'Electrical_Mix',\n",
       " 'Functional_Sal',\n",
       " 'Heating QC_Po',\n",
       " 'MS Zoning_A (agr)',\n",
       " 'Mas Vnr Type_CBlock',\n",
       " 'Neighborhood_GrnHill',\n",
       " 'Neighborhood_Landmrk',\n",
       " 'Roof Matl_ClyTile',\n",
       " 'Roof Matl_Metal',\n",
       " 'Roof Matl_Roll',\n",
       " 'Sale Condition_AdjLand',\n",
       " 'Sale Type_VWD'}"
      ]
     },
     "execution_count": 11,
     "metadata": {},
     "output_type": "execute_result"
    }
   ],
   "source": [
    "# extra columns in test_trans!\n",
    "# these are from the 'Bsmt Qual' column\n",
    "set(test_trans.columns) - set(train_trans.columns)"
   ]
  },
  {
   "cell_type": "code",
   "execution_count": 12,
   "metadata": {
    "collapsed": false
   },
   "outputs": [],
   "source": [
    "train_trans_cat = clean_categoricals(train, 0.25, make_dummies=False)"
   ]
  },
  {
   "cell_type": "code",
   "execution_count": 13,
   "metadata": {
    "collapsed": false
   },
   "outputs": [
    {
     "name": "stdout",
     "output_type": "stream",
     "text": [
      "Neighborhood 26\n"
     ]
    }
   ],
   "source": [
    "# categorical columns with many values\n",
    "for col in train_trans_cat.columns:\n",
    "    distinct_vals = len(train_trans_cat[col].value_counts()) \n",
    "    if distinct_vals > 10:\n",
    "        print(col, distinct_vals)"
   ]
  },
  {
   "cell_type": "markdown",
   "metadata": {
    "collapsed": true
   },
   "source": [
    "Let's drop Exterior 1st and 2nd since those are just about the kind of siding the house has.\n",
    "Intuition is that this would have a negligible impact on sales price..."
   ]
  },
  {
   "cell_type": "code",
   "execution_count": 14,
   "metadata": {
    "collapsed": false
   },
   "outputs": [
    {
     "data": {
      "text/plain": [
       "(array([ 56748.82946149,  56349.48341116,  51150.83173562,  62323.19801875,\n",
       "         50137.04444069,  59439.93392326,  59680.07993746,  57567.73326237,\n",
       "         57232.03654767,  49837.79805003]), 56046.696878851639)"
      ]
     },
     "execution_count": 14,
     "metadata": {},
     "output_type": "execute_result"
    }
   ],
   "source": [
    "# we do not expect a change here yet, but verify the pipeline still works\n",
    "pipeline(train)"
   ]
  },
  {
   "cell_type": "markdown",
   "metadata": {},
   "source": [
    "# Feature Selection\n",
    "\n",
    "Now that we have cleaned and transformed a lot of the features in the data set, it's time to move on to feature selection.\n",
    "\n",
    "Update the logic for the select_features() function. This function should take in the new, modified train and test data frames that were returned from transform_features().\n",
    "\n",
    "Generate a correlation heatmap matrix of the numerical features in the traiing data set.\n",
    "\n",
    "Which features correlate strongly with our target column, SalePrice?\n",
    "\n",
    "Calculate the correlation coefficients for the columns that seem to correlate well with SalePrice. Because we have a pipeline in place, it's easy to try different features and see which features result in a better cross validation score.\n",
    "\n",
    "What are some ways we can explore which categorical columns \"correlate\" well with SalePrice?\n",
    "\n",
    "Read this post for some potential strategies."
   ]
  },
  {
   "cell_type": "code",
   "execution_count": 15,
   "metadata": {
    "collapsed": false
   },
   "outputs": [
    {
     "data": {
      "text/plain": [
       "Condition 1_RRNn        0.000908\n",
       "House Style_2.5Unf      0.002357\n",
       "Neighborhood_Blmngtn    0.003189\n",
       "House Style_1Story      0.003362\n",
       "Roof Matl_Tar&Grv       0.003858\n",
       "Name: SalePrice, dtype: float64"
      ]
     },
     "execution_count": 15,
     "metadata": {},
     "output_type": "execute_result"
    }
   ],
   "source": [
    "train_for_corrs = transform_features(train)\n",
    "corrs = train_for_corrs.corr()\n",
    "sorted_corrs = corrs['SalePrice'].abs().sort_values()\n",
    "sorted_corrs.head()"
   ]
  },
  {
   "cell_type": "code",
   "execution_count": 16,
   "metadata": {
    "collapsed": false
   },
   "outputs": [
    {
     "data": {
      "text/plain": [
       "SalePrice               1.000000\n",
       "Overall Qual            0.804562\n",
       "Gr Liv Area             0.698990\n",
       "1st Flr SF              0.657119\n",
       "Bsmt Qual_Ex            0.608481\n",
       "Kitchen Qual_Ex         0.592950\n",
       "years_until_sale        0.592273\n",
       "Exter Qual_TA           0.582859\n",
       "Foundation_PConc        0.551450\n",
       "Exter Qual_Ex           0.530630\n",
       "Kitchen Qual_TA         0.527303\n",
       "Full Bath               0.518194\n",
       "BsmtFin Type 1_GLQ      0.490034\n",
       "Neighborhood_NridgHt    0.488428\n",
       "Fireplaces              0.485683\n",
       "TotRms AbvGrd           0.483701\n",
       "Heating QC_Ex           0.482238\n",
       "Bsmt Qual_TA            0.477152\n",
       "Garage Finish_Unf       0.459766\n",
       "Garage Finish_Fin       0.459358\n",
       "Name: SalePrice, dtype: float64"
      ]
     },
     "execution_count": 16,
     "metadata": {},
     "output_type": "execute_result"
    }
   ],
   "source": [
    "strong_corrs = sorted_corrs[sorted_corrs > 0.3]\n",
    "strong_corrs.sort_values(ascending=False).head(20)"
   ]
  },
  {
   "cell_type": "code",
   "execution_count": 17,
   "metadata": {
    "collapsed": false
   },
   "outputs": [
    {
     "data": {
      "text/html": [
       "<div>\n",
       "<table border=\"1\" class=\"dataframe\">\n",
       "  <thead>\n",
       "    <tr style=\"text-align: right;\">\n",
       "      <th></th>\n",
       "      <th>Sale Condition_Partial</th>\n",
       "      <th>Sale Type_New</th>\n",
       "      <th>Wood Deck SF</th>\n",
       "      <th>MS Zoning_RM</th>\n",
       "      <th>Open Porch SF</th>\n",
       "      <th>Bsmt Exposure_Gd</th>\n",
       "      <th>Heating QC_TA</th>\n",
       "      <th>Garage Type_Attchd</th>\n",
       "      <th>Foundation_CBlock</th>\n",
       "      <th>Garage Type_Detchd</th>\n",
       "      <th>...</th>\n",
       "      <th>Exter Qual_Ex</th>\n",
       "      <th>Foundation_PConc</th>\n",
       "      <th>Exter Qual_TA</th>\n",
       "      <th>years_until_sale</th>\n",
       "      <th>Kitchen Qual_Ex</th>\n",
       "      <th>Bsmt Qual_Ex</th>\n",
       "      <th>1st Flr SF</th>\n",
       "      <th>Gr Liv Area</th>\n",
       "      <th>Overall Qual</th>\n",
       "      <th>SalePrice</th>\n",
       "    </tr>\n",
       "  </thead>\n",
       "  <tbody>\n",
       "    <tr>\n",
       "      <th>Sale Condition_Partial</th>\n",
       "      <td>1.000000</td>\n",
       "      <td>0.966351</td>\n",
       "      <td>-0.022384</td>\n",
       "      <td>-0.064643</td>\n",
       "      <td>0.151342</td>\n",
       "      <td>0.030140</td>\n",
       "      <td>-0.139703</td>\n",
       "      <td>0.110746</td>\n",
       "      <td>-0.163027</td>\n",
       "      <td>-0.108746</td>\n",
       "      <td>...</td>\n",
       "      <td>0.300288</td>\n",
       "      <td>0.212543</td>\n",
       "      <td>-0.229330</td>\n",
       "      <td>-0.239167</td>\n",
       "      <td>0.293429</td>\n",
       "      <td>0.306855</td>\n",
       "      <td>0.188164</td>\n",
       "      <td>0.102534</td>\n",
       "      <td>0.254181</td>\n",
       "      <td>0.305995</td>\n",
       "    </tr>\n",
       "    <tr>\n",
       "      <th>Sale Type_New</th>\n",
       "      <td>0.966351</td>\n",
       "      <td>1.000000</td>\n",
       "      <td>-0.012519</td>\n",
       "      <td>-0.070169</td>\n",
       "      <td>0.162303</td>\n",
       "      <td>0.010711</td>\n",
       "      <td>-0.135002</td>\n",
       "      <td>0.109596</td>\n",
       "      <td>-0.170264</td>\n",
       "      <td>-0.111381</td>\n",
       "      <td>...</td>\n",
       "      <td>0.312836</td>\n",
       "      <td>0.217626</td>\n",
       "      <td>-0.233595</td>\n",
       "      <td>-0.241214</td>\n",
       "      <td>0.293720</td>\n",
       "      <td>0.320909</td>\n",
       "      <td>0.187230</td>\n",
       "      <td>0.110356</td>\n",
       "      <td>0.260880</td>\n",
       "      <td>0.312074</td>\n",
       "    </tr>\n",
       "    <tr>\n",
       "      <th>Wood Deck SF</th>\n",
       "      <td>-0.022384</td>\n",
       "      <td>-0.012519</td>\n",
       "      <td>1.000000</td>\n",
       "      <td>-0.151915</td>\n",
       "      <td>0.039738</td>\n",
       "      <td>0.199579</td>\n",
       "      <td>-0.082843</td>\n",
       "      <td>0.182846</td>\n",
       "      <td>-0.104142</td>\n",
       "      <td>-0.202966</td>\n",
       "      <td>...</td>\n",
       "      <td>0.125621</td>\n",
       "      <td>0.189910</td>\n",
       "      <td>-0.186896</td>\n",
       "      <td>-0.248055</td>\n",
       "      <td>0.135117</td>\n",
       "      <td>0.155847</td>\n",
       "      <td>0.206013</td>\n",
       "      <td>0.238396</td>\n",
       "      <td>0.260258</td>\n",
       "      <td>0.319104</td>\n",
       "    </tr>\n",
       "    <tr>\n",
       "      <th>MS Zoning_RM</th>\n",
       "      <td>-0.064643</td>\n",
       "      <td>-0.070169</td>\n",
       "      <td>-0.151915</td>\n",
       "      <td>1.000000</td>\n",
       "      <td>-0.059369</td>\n",
       "      <td>-0.087626</td>\n",
       "      <td>0.113938</td>\n",
       "      <td>-0.351799</td>\n",
       "      <td>-0.038463</td>\n",
       "      <td>0.363513</td>\n",
       "      <td>...</td>\n",
       "      <td>-0.074764</td>\n",
       "      <td>-0.230310</td>\n",
       "      <td>0.204098</td>\n",
       "      <td>0.489966</td>\n",
       "      <td>-0.090089</td>\n",
       "      <td>-0.106896</td>\n",
       "      <td>-0.311146</td>\n",
       "      <td>-0.135967</td>\n",
       "      <td>-0.232980</td>\n",
       "      <td>-0.320506</td>\n",
       "    </tr>\n",
       "    <tr>\n",
       "      <th>Open Porch SF</th>\n",
       "      <td>0.151342</td>\n",
       "      <td>0.162303</td>\n",
       "      <td>0.039738</td>\n",
       "      <td>-0.059369</td>\n",
       "      <td>1.000000</td>\n",
       "      <td>0.086379</td>\n",
       "      <td>-0.197230</td>\n",
       "      <td>0.123543</td>\n",
       "      <td>-0.220071</td>\n",
       "      <td>-0.152950</td>\n",
       "      <td>...</td>\n",
       "      <td>0.166715</td>\n",
       "      <td>0.270003</td>\n",
       "      <td>-0.283844</td>\n",
       "      <td>-0.192802</td>\n",
       "      <td>0.180223</td>\n",
       "      <td>0.199982</td>\n",
       "      <td>0.191891</td>\n",
       "      <td>0.321806</td>\n",
       "      <td>0.319954</td>\n",
       "      <td>0.344383</td>\n",
       "    </tr>\n",
       "  </tbody>\n",
       "</table>\n",
       "<p>5 rows × 33 columns</p>\n",
       "</div>"
      ],
      "text/plain": [
       "                        Sale Condition_Partial  Sale Type_New  Wood Deck SF  \\\n",
       "Sale Condition_Partial                1.000000       0.966351     -0.022384   \n",
       "Sale Type_New                         0.966351       1.000000     -0.012519   \n",
       "Wood Deck SF                         -0.022384      -0.012519      1.000000   \n",
       "MS Zoning_RM                         -0.064643      -0.070169     -0.151915   \n",
       "Open Porch SF                         0.151342       0.162303      0.039738   \n",
       "\n",
       "                        MS Zoning_RM  Open Porch SF  Bsmt Exposure_Gd  \\\n",
       "Sale Condition_Partial     -0.064643       0.151342          0.030140   \n",
       "Sale Type_New              -0.070169       0.162303          0.010711   \n",
       "Wood Deck SF               -0.151915       0.039738          0.199579   \n",
       "MS Zoning_RM                1.000000      -0.059369         -0.087626   \n",
       "Open Porch SF              -0.059369       1.000000          0.086379   \n",
       "\n",
       "                        Heating QC_TA  Garage Type_Attchd  Foundation_CBlock  \\\n",
       "Sale Condition_Partial      -0.139703            0.110746          -0.163027   \n",
       "Sale Type_New               -0.135002            0.109596          -0.170264   \n",
       "Wood Deck SF                -0.082843            0.182846          -0.104142   \n",
       "MS Zoning_RM                 0.113938           -0.351799          -0.038463   \n",
       "Open Porch SF               -0.197230            0.123543          -0.220071   \n",
       "\n",
       "                        Garage Type_Detchd    ...      Exter Qual_Ex  \\\n",
       "Sale Condition_Partial           -0.108746    ...           0.300288   \n",
       "Sale Type_New                    -0.111381    ...           0.312836   \n",
       "Wood Deck SF                     -0.202966    ...           0.125621   \n",
       "MS Zoning_RM                      0.363513    ...          -0.074764   \n",
       "Open Porch SF                    -0.152950    ...           0.166715   \n",
       "\n",
       "                        Foundation_PConc  Exter Qual_TA  years_until_sale  \\\n",
       "Sale Condition_Partial          0.212543      -0.229330         -0.239167   \n",
       "Sale Type_New                   0.217626      -0.233595         -0.241214   \n",
       "Wood Deck SF                    0.189910      -0.186896         -0.248055   \n",
       "MS Zoning_RM                   -0.230310       0.204098          0.489966   \n",
       "Open Porch SF                   0.270003      -0.283844         -0.192802   \n",
       "\n",
       "                        Kitchen Qual_Ex  Bsmt Qual_Ex  1st Flr SF  \\\n",
       "Sale Condition_Partial         0.293429      0.306855    0.188164   \n",
       "Sale Type_New                  0.293720      0.320909    0.187230   \n",
       "Wood Deck SF                   0.135117      0.155847    0.206013   \n",
       "MS Zoning_RM                  -0.090089     -0.106896   -0.311146   \n",
       "Open Porch SF                  0.180223      0.199982    0.191891   \n",
       "\n",
       "                        Gr Liv Area  Overall Qual  SalePrice  \n",
       "Sale Condition_Partial     0.102534      0.254181   0.305995  \n",
       "Sale Type_New              0.110356      0.260880   0.312074  \n",
       "Wood Deck SF               0.238396      0.260258   0.319104  \n",
       "MS Zoning_RM              -0.135967     -0.232980  -0.320506  \n",
       "Open Porch SF              0.321806      0.319954   0.344383  \n",
       "\n",
       "[5 rows x 33 columns]"
      ]
     },
     "execution_count": 17,
     "metadata": {},
     "output_type": "execute_result"
    }
   ],
   "source": [
    "corr_matrix = train_for_corrs[strong_corrs.index].corr()\n",
    "corr_matrix.head()"
   ]
  },
  {
   "cell_type": "code",
   "execution_count": 18,
   "metadata": {
    "collapsed": false,
    "scrolled": true
   },
   "outputs": [
    {
     "data": {
      "image/png": "[encoded data removed]",
      "text/plain": [
       "<matplotlib.figure.Figure at 0x10df89860>"
      ]
     },
     "metadata": {},
     "output_type": "display_data"
    }
   ],
   "source": [
    "# visualize correlated pairs with a heatmap\n",
    "# see: http://seaborn.pydata.org/examples/heatmap_annotation.html\n",
    "plt.figure(figsize=(10,5))\n",
    "sns.heatmap(corr_matrix)\n",
    "plt.show()"
   ]
  },
  {
   "cell_type": "code",
   "execution_count": 19,
   "metadata": {
    "collapsed": false
   },
   "outputs": [
    {
     "data": {
      "text/plain": [
       "Sale Type_New           Sale Condition_Partial    0.966351\n",
       "Sale Condition_Partial  Sale Type_New             0.966351\n",
       "Exter Qual_Gd           Exter Qual_TA             0.880314\n",
       "Exter Qual_TA           Exter Qual_Gd             0.880314\n",
       "TotRms AbvGrd           Gr Liv Area               0.807301\n",
       "Gr Liv Area             TotRms AbvGrd             0.807301\n",
       "Overall Qual            SalePrice                 0.804562\n",
       "SalePrice               Overall Qual              0.804562\n",
       "dtype: float64"
      ]
     },
     "execution_count": 19,
     "metadata": {},
     "output_type": "execute_result"
    }
   ],
   "source": [
    "# most correlated pairs, in tabular form\n",
    "# from: https://stackoverflow.com/questions/17778394/list-highest-correlation-pairs-from-a-large-correlation-matrix-in-pandas\n",
    "corr_pairs = corr_matrix.abs().unstack().sort_values(ascending=False)\n",
    "corr_pairs[(corr_pairs < 1.0) & (corr_pairs > .8)]"
   ]
  },
  {
   "cell_type": "code",
   "execution_count": 20,
   "metadata": {
    "collapsed": false
   },
   "outputs": [
    {
     "data": {
      "text/plain": [
       "('TotRms AbvGrd', 'Exter Qual_Gd', 'Sale Type_New')"
      ]
     },
     "execution_count": 20,
     "metadata": {},
     "output_type": "execute_result"
    }
   ],
   "source": [
    "# highly correlated feature pairs: pick one of each\n",
    "\n",
    "# Sale Type_New           Sale Condition_Partial\n",
    "# Exter Qual_Gd           Exter Qual_TA\n",
    "# TotRms AbvGrd           Gr Liv Area\n",
    "# Overall Qual            SalePrice -- ignore this one since one of the columns is the target\n",
    "\n",
    "# columns to remove:\n",
    "'TotRms AbvGrd', 'Exter Qual_Gd', 'Sale Type_New'"
   ]
  },
  {
   "cell_type": "code",
   "execution_count": 21,
   "metadata": {
    "collapsed": true
   },
   "outputs": [],
   "source": [
    "def select_features(train):\n",
    "    return train.drop(['TotRms AbvGrd', 'Exter Qual_Gd', 'Sale Type_New'], axis=1)"
   ]
  },
  {
   "cell_type": "code",
   "execution_count": 22,
   "metadata": {
    "collapsed": false
   },
   "outputs": [
    {
     "data": {
      "text/plain": [
       "(array([ 31738.0720975 ,  27393.91085887,  20050.23108311,  27651.81922843,\n",
       "         20311.63246109,  28506.18809389,  25421.57610255,  21841.74182084,\n",
       "         20990.35864211,  20057.2394676 ]), 24396.276985598801)"
      ]
     },
     "execution_count": 22,
     "metadata": {},
     "output_type": "execute_result"
    }
   ],
   "source": [
    "# the pipeline\n",
    "pipeline(train)"
   ]
  },
  {
   "cell_type": "code",
   "execution_count": 23,
   "metadata": {
    "collapsed": false
   },
   "outputs": [
    {
     "data": {
      "text/plain": [
       "0.5647151688826043"
      ]
     },
     "execution_count": 23,
     "metadata": {},
     "output_type": "execute_result"
    }
   ],
   "source": [
    "(56046.696878851639 - 24396.276985598801) / 56046.696878851639"
   ]
  },
  {
   "cell_type": "markdown",
   "metadata": {},
   "source": [
    "With transformed features the avs rmse was reduced from 56046.696878851639 to 24396.276985598801 \n",
    "This represents a 56% improvement in accuracy!"
   ]
  },
  {
   "cell_type": "markdown",
   "metadata": {},
   "source": [
    "# Training and Testing\n",
    "\n",
    "Now for the final part of the pipeline, training and testing. When iterating on different features, using simple validation is a good idea. Let's add a parameter named `cv_type` that controls the type of cross validation that occurs.\n",
    "\n",
    "The `cv_type` feature should accept only the following values: \"simple\" and \"kfold\"\n",
    "\n",
    "Implement simple cross validation:\n",
    "\n",
    "* Train a model on the training data set that was returned from transform_features() and test on the test data set returned from the same function. Compute the RMSE value.\n",
    "\n",
    "* Train a model on the test data set and test on the original train data set. Compute the 2nd RMSE value. Return both the RMSE values and the average RMSE value.\n",
    "\n",
    "Implement k-fold cross validation using 10 folds:\n",
    "\n",
    "* Combine both data frames into one and add a fold column to the combined data frame.\n",
    "\n",
    "* Subset the data frame by the fold number, train on the remaining folds, test on the current fold. Compute the RMSE value for each iteration and return the average RMSE value."
   ]
  },
  {
   "cell_type": "code",
   "execution_count": 24,
   "metadata": {
    "collapsed": true
   },
   "outputs": [],
   "source": [
    "def train_and_test(train, test, cv_type):\n",
    "    \n",
    "    if cv_type not in (\"simple\", \"kfold\"):\n",
    "        raise AttributeError(\"cy_type should be either 'simple' or 'kfold'\")\n",
    "\n",
    "    # ensure datasets are aligned\n",
    "    # the process of making dummies can result in train and test having different columns\n",
    "    train, test = align_columns(train, test)\n",
    "        \n",
    "    lr = LinearRegression()\n",
    "    rmses = []\n",
    "        \n",
    "    if cv_type == \"simple\":\n",
    "        \n",
    "        # first pass, use train for training and test for testing. 2nd pass, swap df's\n",
    "        for train, test in [(train, test), (test, train)]:\n",
    "        \n",
    "            X_train = train.drop(target, axis=1)\n",
    "            y_train = train[target]\n",
    "            X_test = test.drop(target, axis=1)\n",
    "            y_test = test[target]\n",
    "\n",
    "            lr.fit(X_train, y_train)\n",
    "            predictions = lr.predict(X_test)\n",
    "\n",
    "            mse = mean_squared_error(predictions, y_test)\n",
    "            rmse = np.sqrt(np.abs(mse))\n",
    "            rmses.append(rmse)\n",
    "        \n",
    "    else:\n",
    "        # combine train and test back into one df for k-folds\n",
    "        combo = pd.concat([train, test], axis=0)\n",
    "        X = combo.drop(target, axis=1)\n",
    "        y = combo[target]\n",
    "        \n",
    "        kf = KFold(10,  shuffle=True, random_state=42)\n",
    "        mses = cross_val_score(lr, X, y, \n",
    "                               scoring='neg_mean_squared_error', cv=kf)\n",
    "        rmses = np.sqrt(np.abs(mses))\n",
    "\n",
    "    avg_rmse = np.mean(rmses)\n",
    "    return {\"rmses\": rmses, \"avg_rmse\": avg_rmse}\n",
    "\n",
    "\n",
    "def align_columns(ds1, ds2):\n",
    "    \"\"\" Remove any columns from ds1 or ds2 that do not exist in both.\"\"\"\n",
    "    common_columns = list(set(ds1.columns) & set(ds2.columns))\n",
    "    return ds1[common_columns], ds2[common_columns]\n",
    "\n",
    "\n",
    "def pipeline(data, target, cv_type):\n",
    "    \"\"\"\n",
    "    Implements a full machine learning pipeline on a dataset:\n",
    "    1. split the data into equal training and test sets\n",
    "    2. transform features for train and test\n",
    "    3. select features from train and test\n",
    "    4. run machine learning training and test evaluation\n",
    "    \"\"\"\n",
    "    n = len(data)\n",
    "    half = int(n/2)\n",
    "    train = data.iloc[:half]\n",
    "    test = data.iloc[half:]\n",
    "    \n",
    "    train_trans = transform_features(train)\n",
    "    test_trans = transform_features(test)\n",
    "    train_selected = select_features(train_trans)\n",
    "    test_selected = select_features(test_trans)\n",
    "    return train_and_test(train_selected, test_selected, cv_type)"
   ]
  },
  {
   "cell_type": "code",
   "execution_count": 25,
   "metadata": {
    "collapsed": false
   },
   "outputs": [
    {
     "data": {
      "text/plain": [
       "{'avg_rmse': 46141.851380966698,\n",
       " 'rmses': [61939.348550943323, 30344.35421099007]}"
      ]
     },
     "execution_count": 25,
     "metadata": {},
     "output_type": "execute_result"
    }
   ],
   "source": [
    "pipeline(data, \"SalePrice\", \"simple\")"
   ]
  },
  {
   "cell_type": "code",
   "execution_count": 26,
   "metadata": {
    "collapsed": false
   },
   "outputs": [
    {
     "data": {
      "text/plain": [
       "{'avg_rmse': 28640.123676099309,\n",
       " 'rmses': array([ 32444.62857645,  25894.91806841,  24104.60740199,  39386.4172447 ,\n",
       "         24468.05453181,  28053.34799574,  26143.80007775,  35149.64084174,\n",
       "         25290.94752289,  25464.87449953])}"
      ]
     },
     "execution_count": 26,
     "metadata": {},
     "output_type": "execute_result"
    }
   ],
   "source": [
    "pipeline(data, \"SalePrice\", \"kfold\")"
   ]
  },
  {
   "cell_type": "code",
   "execution_count": null,
   "metadata": {
    "collapsed": true
   },
   "outputs": [],
   "source": []
  }
 ],
 "metadata": {
  "anaconda-cloud": {},
  "kernelspec": {
   "display_name": "Python 3 (dataquest)",
   "language": "python",
   "name": "other-env"
  },
  "language_info": {
   "codemirror_mode": {
    "name": "ipython",
    "version": 3
   },
   "file_extension": ".py",
   "mimetype": "text/x-python",
   "name": "python",
   "nbconvert_exporter": "python",
   "pygments_lexer": "ipython3",
   "version": "3.5.1"
  }
 },
 "nbformat": 4,
 "nbformat_minor": 2
}
